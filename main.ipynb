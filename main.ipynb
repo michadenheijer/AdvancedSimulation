{
 "cells": [
  {
   "cell_type": "markdown",
   "metadata": {},
   "source": [
    "# Advanced Simulation"
   ]
  },
  {
   "cell_type": "code",
   "execution_count": 7,
   "metadata": {},
   "outputs": [],
   "source": [
    "from __future__ import annotations\n",
    "from typing import Any\n",
    "\n",
    "import numpy as np\n",
    "import numpy.typing as npt\n",
    "import pandas as pd"
   ]
  },
  {
   "cell_type": "code",
   "execution_count": 9,
   "metadata": {},
   "outputs": [],
   "source": [
    "# Set current time\n",
    "CURRENT_TIME: float = 0.0\n",
    "\n",
    "# Set constants\n",
    "FLOORS = 6"
   ]
  },
  {
   "cell_type": "code",
   "execution_count": 20,
   "metadata": {},
   "outputs": [
    {
     "data": {
      "text/plain": [
       "{'direction': False,\n",
       " 'current_floor': 5,\n",
       " 'door': False,\n",
       " 'waiting': array([[0, 0, 0, 0, 0, 0],\n",
       "        [0, 0, 0, 0, 0, 0],\n",
       "        [0, 0, 0, 0, 0, 0],\n",
       "        [0, 0, 0, 0, 0, 0],\n",
       "        [0, 0, 0, 0, 0, 0],\n",
       "        [0, 0, 0, 0, 0, 0]]),\n",
       " 'elevator': array([0, 0, 0, 0, 0, 0])}"
      ]
     },
     "execution_count": 20,
     "metadata": {},
     "output_type": "execute_result"
    }
   ],
   "source": [
    "# Create state\n",
    "direction: bool = False # True: up, False: down\n",
    "current_floor: int = 5\n",
    "door: bool = False # True: open, False: closed\n",
    "waiting: np.ndarray = np.zeros((6, 6), np.int_)\n",
    "elevator = np.zeros(6, np.int_)\n",
    "\n",
    "state = {\"direction\": direction, \"current_floor\": current_floor, \"door\": door, \"waiting\": waiting, \"elevator\": elevator}\n",
    "state"
   ]
  },
  {
   "cell_type": "code",
   "execution_count": 21,
   "metadata": {},
   "outputs": [
    {
     "data": {
      "text/plain": [
       "{'Arrival0,1',\n",
       " 'Arrival0,2',\n",
       " 'Arrival0,3',\n",
       " 'Arrival0,4',\n",
       " 'Arrival0,5',\n",
       " 'Arrival1,0',\n",
       " 'Arrival1,2',\n",
       " 'Arrival1,3',\n",
       " 'Arrival1,4',\n",
       " 'Arrival1,5',\n",
       " 'Arrival2,0',\n",
       " 'Arrival2,1',\n",
       " 'Arrival2,3',\n",
       " 'Arrival2,4',\n",
       " 'Arrival2,5',\n",
       " 'Arrival3,0',\n",
       " 'Arrival3,1',\n",
       " 'Arrival3,2',\n",
       " 'Arrival3,4',\n",
       " 'Arrival3,5',\n",
       " 'Arrival4,0',\n",
       " 'Arrival4,1',\n",
       " 'Arrival4,2',\n",
       " 'Arrival4,3',\n",
       " 'Arrival4,5',\n",
       " 'Arrival5,0',\n",
       " 'Arrival5,1',\n",
       " 'Arrival5,2',\n",
       " 'Arrival5,3',\n",
       " 'Arrival5,4',\n",
       " 'ElevatorArrival4'}"
      ]
     },
     "execution_count": 21,
     "metadata": {},
     "output_type": "execute_result"
    }
   ],
   "source": [
    "# Get set of active events\n",
    "def get_events(state: dict[str, Any]):\n",
    "    events = set()\n",
    "\n",
    "    for i in range(FLOORS):\n",
    "        for j in range(FLOORS):\n",
    "            if i == j:\n",
    "                continue\n",
    "            events.add(f\"Arrival{i},{j}\")\n",
    "\n",
    "    # FIXME ik  moet nog wat bedenken voor DoorOpen\n",
    "    if state[\"door\"]:\n",
    "        events.add(\"DoorClose\")\n",
    "\n",
    "    events.add(f\"ElevatorArrival{state['current_floor'] + (2*state['direction'] - 1)}\") #type:ignore\n",
    "    \n",
    "    return events\n",
    "\n",
    "get_events(state)"
   ]
  }
 ],
 "metadata": {
  "interpreter": {
   "hash": "1c7434731747d88815ea98a4470429bf1ebbf9287f8433fda1e0ecccc300fe0c"
  },
  "kernelspec": {
   "display_name": "Python 3.8.3 ('base')",
   "language": "python",
   "name": "python3"
  },
  "language_info": {
   "codemirror_mode": {
    "name": "ipython",
    "version": 3
   },
   "file_extension": ".py",
   "mimetype": "text/x-python",
   "name": "python",
   "nbconvert_exporter": "python",
   "pygments_lexer": "ipython3",
   "version": "3.8.3"
  },
  "orig_nbformat": 4
 },
 "nbformat": 4,
 "nbformat_minor": 2
}
