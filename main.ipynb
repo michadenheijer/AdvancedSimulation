{
 "cells": [
  {
   "cell_type": "markdown",
   "metadata": {},
   "source": [
    "# Advanced Simulation"
   ]
  },
  {
   "cell_type": "code",
   "execution_count": 1,
   "metadata": {},
   "outputs": [
    {
     "name": "stdout",
     "output_type": "stream",
     "text": [
      "[<elevator_simulation.WaitingRoom object at 0x7fd8467dd670>, <elevator_simulation.WaitingRoom object at 0x7fd8467dd8e0>, <elevator_simulation.WaitingRoom object at 0x7fd8467dd790>, <elevator_simulation.WaitingRoom object at 0x7fd8467dda00>, <elevator_simulation.WaitingRoom object at 0x7fd8467dd490>]\n"
     ]
    }
   ],
   "source": [
    "import elevator_simulation\n",
    "\n",
    "building = elevator_simulation.Building(5)"
   ]
  }
 ],
 "metadata": {
  "interpreter": {
   "hash": "1c7434731747d88815ea98a4470429bf1ebbf9287f8433fda1e0ecccc300fe0c"
  },
  "kernelspec": {
   "display_name": "Python 3.8.3 ('base')",
   "language": "python",
   "name": "python3"
  },
  "language_info": {
   "codemirror_mode": {
    "name": "ipython",
    "version": 3
   },
   "file_extension": ".py",
   "mimetype": "text/x-python",
   "name": "python",
   "nbconvert_exporter": "python",
   "pygments_lexer": "ipython3",
   "version": "3.8.3"
  },
  "orig_nbformat": 4
 },
 "nbformat": 4,
 "nbformat_minor": 2
}
