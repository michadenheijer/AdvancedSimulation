{
 "cells": [
  {
   "cell_type": "markdown",
   "metadata": {},
   "source": [
    "# Data Analysis"
   ]
  },
  {
   "cell_type": "code",
   "execution_count": 1,
   "metadata": {},
   "outputs": [
    {
     "name": "stdout",
     "output_type": "stream",
     "text": [
      "Requirement already satisfied: pingouin in /root/jupyter/jupyter_env/lib/python3.8/site-packages (0.5.1)\n",
      "Requirement already satisfied: tabulate in /root/jupyter/jupyter_env/lib/python3.8/site-packages (from pingouin) (0.8.9)\n",
      "Requirement already satisfied: pandas-flavor>=0.2.0 in /root/jupyter/jupyter_env/lib/python3.8/site-packages (from pingouin) (0.3.0)\n",
      "Requirement already satisfied: statsmodels>=0.13 in /root/jupyter/jupyter_env/lib/python3.8/site-packages (from pingouin) (0.13.2)\n",
      "Requirement already satisfied: pandas>=1.0 in /root/jupyter/jupyter_env/lib/python3.8/site-packages (from pingouin) (1.4.2)\n",
      "Requirement already satisfied: scipy>=1.7 in /root/jupyter/jupyter_env/lib/python3.8/site-packages (from pingouin) (1.8.0)\n",
      "Requirement already satisfied: numpy>=1.19 in /root/jupyter/jupyter_env/lib/python3.8/site-packages (from pingouin) (1.22.3)\n",
      "Requirement already satisfied: scikit-learn in /root/jupyter/jupyter_env/lib/python3.8/site-packages (from pingouin) (1.0.2)\n",
      "Requirement already satisfied: seaborn>=0.11 in /root/jupyter/jupyter_env/lib/python3.8/site-packages (from pingouin) (0.11.2)\n",
      "Requirement already satisfied: matplotlib>=3.0.2 in /root/jupyter/jupyter_env/lib/python3.8/site-packages (from pingouin) (3.5.2)\n",
      "Requirement already satisfied: outdated in /root/jupyter/jupyter_env/lib/python3.8/site-packages (from pingouin) (0.2.1)\n",
      "Requirement already satisfied: cycler>=0.10 in /root/jupyter/jupyter_env/lib/python3.8/site-packages (from matplotlib>=3.0.2->pingouin) (0.11.0)\n",
      "Requirement already satisfied: pyparsing>=2.2.1 in /root/jupyter/jupyter_env/lib/python3.8/site-packages (from matplotlib>=3.0.2->pingouin) (3.0.8)\n",
      "Requirement already satisfied: kiwisolver>=1.0.1 in /root/jupyter/jupyter_env/lib/python3.8/site-packages (from matplotlib>=3.0.2->pingouin) (1.4.2)\n",
      "Requirement already satisfied: fonttools>=4.22.0 in /root/jupyter/jupyter_env/lib/python3.8/site-packages (from matplotlib>=3.0.2->pingouin) (4.33.3)\n",
      "Requirement already satisfied: pillow>=6.2.0 in /root/jupyter/jupyter_env/lib/python3.8/site-packages (from matplotlib>=3.0.2->pingouin) (9.1.0)\n",
      "Requirement already satisfied: python-dateutil>=2.7 in /root/jupyter/jupyter_env/lib/python3.8/site-packages (from matplotlib>=3.0.2->pingouin) (2.8.2)\n",
      "Requirement already satisfied: packaging>=20.0 in /root/jupyter/jupyter_env/lib/python3.8/site-packages (from matplotlib>=3.0.2->pingouin) (21.3)\n",
      "Requirement already satisfied: pytz>=2020.1 in /root/jupyter/jupyter_env/lib/python3.8/site-packages (from pandas>=1.0->pingouin) (2022.1)\n",
      "Requirement already satisfied: lazy-loader==0.1rc2 in /root/jupyter/jupyter_env/lib/python3.8/site-packages (from pandas-flavor>=0.2.0->pingouin) (0.1rc2)\n",
      "Requirement already satisfied: xarray in /root/jupyter/jupyter_env/lib/python3.8/site-packages (from pandas-flavor>=0.2.0->pingouin) (2022.3.0)\n",
      "Requirement already satisfied: patsy>=0.5.2 in /root/jupyter/jupyter_env/lib/python3.8/site-packages (from statsmodels>=0.13->pingouin) (0.5.2)\n",
      "Requirement already satisfied: littleutils in /root/jupyter/jupyter_env/lib/python3.8/site-packages (from outdated->pingouin) (0.2.2)\n",
      "Requirement already satisfied: requests in /root/jupyter/jupyter_env/lib/python3.8/site-packages (from outdated->pingouin) (2.27.1)\n",
      "Requirement already satisfied: threadpoolctl>=2.0.0 in /root/jupyter/jupyter_env/lib/python3.8/site-packages (from scikit-learn->pingouin) (3.1.0)\n",
      "Requirement already satisfied: joblib>=0.11 in /root/jupyter/jupyter_env/lib/python3.8/site-packages (from scikit-learn->pingouin) (1.1.0)\n",
      "Requirement already satisfied: six in /root/jupyter/jupyter_env/lib/python3.8/site-packages (from patsy>=0.5.2->statsmodels>=0.13->pingouin) (1.16.0)\n",
      "Requirement already satisfied: urllib3<1.27,>=1.21.1 in /root/jupyter/jupyter_env/lib/python3.8/site-packages (from requests->outdated->pingouin) (1.26.9)\n",
      "Requirement already satisfied: idna<4,>=2.5 in /root/jupyter/jupyter_env/lib/python3.8/site-packages (from requests->outdated->pingouin) (3.3)\n",
      "Requirement already satisfied: certifi>=2017.4.17 in /root/jupyter/jupyter_env/lib/python3.8/site-packages (from requests->outdated->pingouin) (2021.10.8)\n",
      "Requirement already satisfied: charset-normalizer~=2.0.0 in /root/jupyter/jupyter_env/lib/python3.8/site-packages (from requests->outdated->pingouin) (2.0.12)\n"
     ]
    }
   ],
   "source": [
    "!pip install pingouin"
   ]
  },
  {
   "cell_type": "markdown",
   "metadata": {},
   "source": [
    "## Imports\n",
    "Import all the libraries needed."
   ]
  },
  {
   "cell_type": "code",
   "execution_count": 1,
   "metadata": {},
   "outputs": [],
   "source": [
    "from __future__ import annotations\n",
    "\n",
    "from typing import Any, Optional\n",
    "\n",
    "import numpy as np\n",
    "import pandas as pd\n",
    "import matplotlib.pyplot as plt\n",
    "import statsmodels.stats.multicomp as cmp\n",
    "import statsmodels.formula.api as sma\n",
    "import statsmodels.api as sm\n",
    "import pingouin as pg\n",
    "import scipy.stats as sts\n",
    "\n",
    "import pickle\n",
    "import os\n",
    "\n",
    "from tqdm import tqdm\n",
    "\n",
    "SIMULATION_TIME = 68400\n",
    "STARTING_TIME = 18000.0\n",
    "\n",
    "P_VALUE = 0.05\n",
    "\n",
    "pd.set_option('display.max_rows', 20)"
   ]
  },
  {
   "cell_type": "markdown",
   "metadata": {},
   "source": [
    "## Get files\n",
    "Get at what time the last run was, then automatically open the last run."
   ]
  },
  {
   "cell_type": "code",
   "execution_count": 2,
   "metadata": {},
   "outputs": [
    {
     "data": {
      "text/plain": [
       "'1651760000'"
      ]
     },
     "execution_count": 2,
     "metadata": {},
     "output_type": "execute_result"
    }
   ],
   "source": [
    "## Get last run\n",
    "runs = tuple(os.walk(\"results\"))[0][1]\n",
    "runs.sort()\n",
    "last_run = runs[-2]\n",
    "last_run"
   ]
  },
  {
   "cell_type": "code",
   "execution_count": 3,
   "metadata": {},
   "outputs": [
    {
     "data": {
      "text/plain": [
       "['utilitarian.pickle',\n",
       " 'base.pickle',\n",
       " 'top_floor_rest.pickle',\n",
       " 'ground_floor_rest.pickle',\n",
       " 'alternative_rest.pickle']"
      ]
     },
     "execution_count": 3,
     "metadata": {},
     "output_type": "execute_result"
    }
   ],
   "source": [
    "# Get last run files\n",
    "files = tuple(os.walk(f\"results/{last_run}\"))[0][2]\n",
    "files"
   ]
  },
  {
   "cell_type": "code",
   "execution_count": 4,
   "metadata": {},
   "outputs": [],
   "source": [
    "# Open files in DATA\n",
    "RAW_DATA: dict[str, Any] = {}\n",
    "\n",
    "for file_name in files:\n",
    "    with open(f\"results/{last_run}/{file_name}\", \"rb\") as f:\n",
    "        RAW_DATA[file_name.split(\".\")[0]] = pickle.load(f)"
   ]
  },
  {
   "cell_type": "markdown",
   "metadata": {},
   "source": [
    "## Convert to analyzable data\n",
    "All the data is in different numpy matrices, or pandas DataFrames, we combine it into a dataframe s.t. we can get our key indicators."
   ]
  },
  {
   "cell_type": "markdown",
   "metadata": {},
   "source": [
    "### Occupancy data"
   ]
  },
  {
   "cell_type": "code",
   "execution_count": 5,
   "metadata": {},
   "outputs": [],
   "source": [
    "DATA: dict[str, dict[str, Optional[pd.DataFrame]]] = {}\n",
    "\n",
    "# Ensure we do not waste time reloading parsed data\n",
    "if os.path.exists(f\"results/parsed/{last_run}.pickle\"):\n",
    "    DATA = pickle.load(open(f\"results/parsed/{last_run}.pickle\", \"rb\"))\n",
    "\n",
    "for r_data in RAW_DATA.items():\n",
    "    strategy_name, d = r_data\n",
    "\n",
    "    if DATA.get(strategy_name, False):\n",
    "        continue\n",
    "\n",
    "    waiting_df: Optional[pd.DataFrame] = None\n",
    "    elevator_df: Optional[pd.DataFrame] = None\n",
    "    waiting_df_list_to_add = []\n",
    "    elevator_df_list_to_add = []\n",
    "    for iteration, curr_state_history in enumerate(tqdm(d[\"state_history\"])):\n",
    "        curr_scheduled_events = d[\"scheduled_events\"][iteration]\n",
    "        waiting_index = pd.MultiIndex.from_product([[0, 1, 2, 3, 4, 5], [0, 1, 2, 3, 4, 5]]).set_names([\"arrival\", \"target\"])\n",
    "        columns = pd.MultiIndex.from_product([[iteration], curr_scheduled_events.index]).set_names([\"iteration\", \"time\"])\n",
    "        add_waiting_df = pd.DataFrame({}, index=waiting_index, columns=columns)\n",
    "        add_elevator_df = pd.DataFrame({}, index=pd.Index([0, 1, 2, 3, 4, 5], name=\"target\"), columns=columns)\n",
    "\n",
    "        # print(waiting_df)\n",
    "        for i, values in enumerate(curr_state_history):\n",
    "            t = curr_scheduled_events.index[i]\n",
    "            # display(waiting_df.loc[:, (iteration, t)])\n",
    "            add_waiting_df.loc[:, (iteration, t)] = pd.DataFrame(values[\"waiting\"]).stack()\n",
    "            add_elevator_df.loc[:, (iteration, t)] = values[\"elevator\"]\n",
    "        \n",
    "        if waiting_df is None:\n",
    "            waiting_df = add_waiting_df\n",
    "        else:\n",
    "            waiting_df_list_to_add.append(add_waiting_df)\n",
    "\n",
    "        if elevator_df is None:\n",
    "            elevator_df = add_elevator_df\n",
    "        else:\n",
    "            elevator_df_list_to_add.append(add_elevator_df)\n",
    "    \n",
    "    waiting_df = waiting_df.join(waiting_df_list_to_add) #type:ignore\n",
    "    elevator_df = elevator_df.join(elevator_df_list_to_add) # type:ignore\n",
    "    DATA[str(strategy_name)] = {\"waiting\": waiting_df, \"elevator\": elevator_df}\n",
    "\n",
    "    with open(f\"results/parsed/{last_run}.pickle\", \"wb+\") as f:\n",
    "        pickle.dump(DATA, f)"
   ]
  },
  {
   "cell_type": "markdown",
   "metadata": {},
   "source": [
    "### Event data"
   ]
  },
  {
   "cell_type": "code",
   "execution_count": 6,
   "metadata": {},
   "outputs": [
    {
     "data": {
      "text/html": [
       "<div>\n",
       "<style scoped>\n",
       "    .dataframe tbody tr th:only-of-type {\n",
       "        vertical-align: middle;\n",
       "    }\n",
       "\n",
       "    .dataframe tbody tr th {\n",
       "        vertical-align: top;\n",
       "    }\n",
       "\n",
       "    .dataframe thead tr th {\n",
       "        text-align: left;\n",
       "    }\n",
       "\n",
       "    .dataframe thead tr:last-of-type th {\n",
       "        text-align: right;\n",
       "    }\n",
       "</style>\n",
       "<table border=\"1\" class=\"dataframe\">\n",
       "  <thead>\n",
       "    <tr>\n",
       "      <th>strategy</th>\n",
       "      <th colspan=\"10\" halign=\"left\">utilitarian</th>\n",
       "      <th>...</th>\n",
       "      <th colspan=\"10\" halign=\"left\">alternative_rest</th>\n",
       "    </tr>\n",
       "    <tr>\n",
       "      <th>iteration</th>\n",
       "      <th>0</th>\n",
       "      <th>1</th>\n",
       "      <th>2</th>\n",
       "      <th>3</th>\n",
       "      <th>4</th>\n",
       "      <th>5</th>\n",
       "      <th>6</th>\n",
       "      <th>7</th>\n",
       "      <th>8</th>\n",
       "      <th>9</th>\n",
       "      <th>...</th>\n",
       "      <th>90</th>\n",
       "      <th>91</th>\n",
       "      <th>92</th>\n",
       "      <th>93</th>\n",
       "      <th>94</th>\n",
       "      <th>95</th>\n",
       "      <th>96</th>\n",
       "      <th>97</th>\n",
       "      <th>98</th>\n",
       "      <th>99</th>\n",
       "    </tr>\n",
       "    <tr>\n",
       "      <th>event_number</th>\n",
       "      <th></th>\n",
       "      <th></th>\n",
       "      <th></th>\n",
       "      <th></th>\n",
       "      <th></th>\n",
       "      <th></th>\n",
       "      <th></th>\n",
       "      <th></th>\n",
       "      <th></th>\n",
       "      <th></th>\n",
       "      <th></th>\n",
       "      <th></th>\n",
       "      <th></th>\n",
       "      <th></th>\n",
       "      <th></th>\n",
       "      <th></th>\n",
       "      <th></th>\n",
       "      <th></th>\n",
       "      <th></th>\n",
       "      <th></th>\n",
       "      <th></th>\n",
       "    </tr>\n",
       "  </thead>\n",
       "  <tbody>\n",
       "    <tr>\n",
       "      <th>0</th>\n",
       "      <td>Arrival1,4</td>\n",
       "      <td>Arrival4,0</td>\n",
       "      <td>Arrival5,4</td>\n",
       "      <td>Arrival3,0</td>\n",
       "      <td>Arrival4,0</td>\n",
       "      <td>Arrival0,3</td>\n",
       "      <td>Arrival3,0</td>\n",
       "      <td>Arrival5,4</td>\n",
       "      <td>Arrival2,0</td>\n",
       "      <td>Arrival2,0</td>\n",
       "      <td>...</td>\n",
       "      <td>ElevatorArrival4</td>\n",
       "      <td>ElevatorArrival4</td>\n",
       "      <td>ElevatorArrival4</td>\n",
       "      <td>Arrival3,0</td>\n",
       "      <td>ElevatorArrival4</td>\n",
       "      <td>ElevatorArrival4</td>\n",
       "      <td>ElevatorArrival4</td>\n",
       "      <td>ElevatorArrival4</td>\n",
       "      <td>ElevatorArrival4</td>\n",
       "      <td>ElevatorArrival4</td>\n",
       "    </tr>\n",
       "    <tr>\n",
       "      <th>1</th>\n",
       "      <td>ElevatorArrival4</td>\n",
       "      <td>ElevatorArrival4</td>\n",
       "      <td>DoorClose</td>\n",
       "      <td>ElevatorArrival4</td>\n",
       "      <td>ElevatorArrival4</td>\n",
       "      <td>ElevatorArrival4</td>\n",
       "      <td>ElevatorArrival4</td>\n",
       "      <td>DoorClose</td>\n",
       "      <td>ElevatorArrival4</td>\n",
       "      <td>ElevatorArrival4</td>\n",
       "      <td>...</td>\n",
       "      <td>ElevatorArrival3</td>\n",
       "      <td>ElevatorArrival3</td>\n",
       "      <td>ElevatorArrival3</td>\n",
       "      <td>ElevatorArrival4</td>\n",
       "      <td>ElevatorArrival3</td>\n",
       "      <td>ElevatorArrival3</td>\n",
       "      <td>ElevatorArrival3</td>\n",
       "      <td>ElevatorArrival3</td>\n",
       "      <td>ElevatorArrival3</td>\n",
       "      <td>ElevatorArrival3</td>\n",
       "    </tr>\n",
       "    <tr>\n",
       "      <th>2</th>\n",
       "      <td>ElevatorArrival3</td>\n",
       "      <td>DoorClose</td>\n",
       "      <td>ElevatorArrival4</td>\n",
       "      <td>ElevatorArrival3</td>\n",
       "      <td>DoorClose</td>\n",
       "      <td>ElevatorArrival3</td>\n",
       "      <td>ElevatorArrival3</td>\n",
       "      <td>ElevatorArrival4</td>\n",
       "      <td>ElevatorArrival3</td>\n",
       "      <td>ElevatorArrival3</td>\n",
       "      <td>...</td>\n",
       "      <td>ElevatorArrival2</td>\n",
       "      <td>ElevatorArrival2</td>\n",
       "      <td>ElevatorArrival2</td>\n",
       "      <td>Arrival3,0</td>\n",
       "      <td>ElevatorArrival2</td>\n",
       "      <td>ElevatorArrival2</td>\n",
       "      <td>ElevatorArrival2</td>\n",
       "      <td>ElevatorArrival2</td>\n",
       "      <td>ElevatorArrival2</td>\n",
       "      <td>ElevatorArrival2</td>\n",
       "    </tr>\n",
       "    <tr>\n",
       "      <th>3</th>\n",
       "      <td>ElevatorArrival2</td>\n",
       "      <td>ElevatorArrival3</td>\n",
       "      <td>DoorClose</td>\n",
       "      <td>DoorClose</td>\n",
       "      <td>ElevatorArrival3</td>\n",
       "      <td>ElevatorArrival2</td>\n",
       "      <td>DoorClose</td>\n",
       "      <td>DoorClose</td>\n",
       "      <td>ElevatorArrival2</td>\n",
       "      <td>ElevatorArrival2</td>\n",
       "      <td>...</td>\n",
       "      <td>ElevatorArrival1</td>\n",
       "      <td>ElevatorArrival1</td>\n",
       "      <td>ElevatorArrival1</td>\n",
       "      <td>ElevatorArrival3</td>\n",
       "      <td>ElevatorArrival1</td>\n",
       "      <td>ElevatorArrival1</td>\n",
       "      <td>Arrival2,5</td>\n",
       "      <td>ElevatorArrival1</td>\n",
       "      <td>ElevatorArrival1</td>\n",
       "      <td>ElevatorArrival1</td>\n",
       "    </tr>\n",
       "    <tr>\n",
       "      <th>4</th>\n",
       "      <td>ElevatorArrival1</td>\n",
       "      <td>ElevatorArrival2</td>\n",
       "      <td>Arrival3,0</td>\n",
       "      <td>ElevatorArrival2</td>\n",
       "      <td>ElevatorArrival2</td>\n",
       "      <td>ElevatorArrival1</td>\n",
       "      <td>ElevatorArrival2</td>\n",
       "      <td>Arrival2,0</td>\n",
       "      <td>DoorClose</td>\n",
       "      <td>DoorClose</td>\n",
       "      <td>...</td>\n",
       "      <td>ElevatorArrival0</td>\n",
       "      <td>ElevatorArrival0</td>\n",
       "      <td>ElevatorArrival0</td>\n",
       "      <td>DoorClose</td>\n",
       "      <td>ElevatorArrival0</td>\n",
       "      <td>ElevatorArrival0</td>\n",
       "      <td>DoorClose</td>\n",
       "      <td>ElevatorArrival0</td>\n",
       "      <td>ElevatorArrival0</td>\n",
       "      <td>ElevatorArrival0</td>\n",
       "    </tr>\n",
       "    <tr>\n",
       "      <th>...</th>\n",
       "      <td>...</td>\n",
       "      <td>...</td>\n",
       "      <td>...</td>\n",
       "      <td>...</td>\n",
       "      <td>...</td>\n",
       "      <td>...</td>\n",
       "      <td>...</td>\n",
       "      <td>...</td>\n",
       "      <td>...</td>\n",
       "      <td>...</td>\n",
       "      <td>...</td>\n",
       "      <td>...</td>\n",
       "      <td>...</td>\n",
       "      <td>...</td>\n",
       "      <td>...</td>\n",
       "      <td>...</td>\n",
       "      <td>...</td>\n",
       "      <td>...</td>\n",
       "      <td>...</td>\n",
       "      <td>...</td>\n",
       "      <td>...</td>\n",
       "    </tr>\n",
       "    <tr>\n",
       "      <th>10177</th>\n",
       "      <td>NaN</td>\n",
       "      <td>NaN</td>\n",
       "      <td>NaN</td>\n",
       "      <td>NaN</td>\n",
       "      <td>NaN</td>\n",
       "      <td>NaN</td>\n",
       "      <td>NaN</td>\n",
       "      <td>NaN</td>\n",
       "      <td>NaN</td>\n",
       "      <td>NaN</td>\n",
       "      <td>...</td>\n",
       "      <td>NaN</td>\n",
       "      <td>NaN</td>\n",
       "      <td>NaN</td>\n",
       "      <td>NaN</td>\n",
       "      <td>NaN</td>\n",
       "      <td>NaN</td>\n",
       "      <td>NaN</td>\n",
       "      <td>NaN</td>\n",
       "      <td>NaN</td>\n",
       "      <td>NaN</td>\n",
       "    </tr>\n",
       "    <tr>\n",
       "      <th>10178</th>\n",
       "      <td>NaN</td>\n",
       "      <td>NaN</td>\n",
       "      <td>NaN</td>\n",
       "      <td>NaN</td>\n",
       "      <td>NaN</td>\n",
       "      <td>NaN</td>\n",
       "      <td>NaN</td>\n",
       "      <td>NaN</td>\n",
       "      <td>NaN</td>\n",
       "      <td>NaN</td>\n",
       "      <td>...</td>\n",
       "      <td>NaN</td>\n",
       "      <td>NaN</td>\n",
       "      <td>NaN</td>\n",
       "      <td>NaN</td>\n",
       "      <td>NaN</td>\n",
       "      <td>NaN</td>\n",
       "      <td>NaN</td>\n",
       "      <td>NaN</td>\n",
       "      <td>NaN</td>\n",
       "      <td>NaN</td>\n",
       "    </tr>\n",
       "    <tr>\n",
       "      <th>10179</th>\n",
       "      <td>NaN</td>\n",
       "      <td>NaN</td>\n",
       "      <td>NaN</td>\n",
       "      <td>NaN</td>\n",
       "      <td>NaN</td>\n",
       "      <td>NaN</td>\n",
       "      <td>NaN</td>\n",
       "      <td>NaN</td>\n",
       "      <td>NaN</td>\n",
       "      <td>NaN</td>\n",
       "      <td>...</td>\n",
       "      <td>NaN</td>\n",
       "      <td>NaN</td>\n",
       "      <td>NaN</td>\n",
       "      <td>NaN</td>\n",
       "      <td>NaN</td>\n",
       "      <td>NaN</td>\n",
       "      <td>NaN</td>\n",
       "      <td>NaN</td>\n",
       "      <td>NaN</td>\n",
       "      <td>NaN</td>\n",
       "    </tr>\n",
       "    <tr>\n",
       "      <th>10180</th>\n",
       "      <td>NaN</td>\n",
       "      <td>NaN</td>\n",
       "      <td>NaN</td>\n",
       "      <td>NaN</td>\n",
       "      <td>NaN</td>\n",
       "      <td>NaN</td>\n",
       "      <td>NaN</td>\n",
       "      <td>NaN</td>\n",
       "      <td>NaN</td>\n",
       "      <td>NaN</td>\n",
       "      <td>...</td>\n",
       "      <td>NaN</td>\n",
       "      <td>NaN</td>\n",
       "      <td>NaN</td>\n",
       "      <td>NaN</td>\n",
       "      <td>NaN</td>\n",
       "      <td>NaN</td>\n",
       "      <td>NaN</td>\n",
       "      <td>NaN</td>\n",
       "      <td>NaN</td>\n",
       "      <td>NaN</td>\n",
       "    </tr>\n",
       "    <tr>\n",
       "      <th>10181</th>\n",
       "      <td>NaN</td>\n",
       "      <td>NaN</td>\n",
       "      <td>NaN</td>\n",
       "      <td>NaN</td>\n",
       "      <td>NaN</td>\n",
       "      <td>NaN</td>\n",
       "      <td>NaN</td>\n",
       "      <td>NaN</td>\n",
       "      <td>NaN</td>\n",
       "      <td>NaN</td>\n",
       "      <td>...</td>\n",
       "      <td>NaN</td>\n",
       "      <td>NaN</td>\n",
       "      <td>NaN</td>\n",
       "      <td>NaN</td>\n",
       "      <td>NaN</td>\n",
       "      <td>NaN</td>\n",
       "      <td>NaN</td>\n",
       "      <td>NaN</td>\n",
       "      <td>NaN</td>\n",
       "      <td>NaN</td>\n",
       "    </tr>\n",
       "  </tbody>\n",
       "</table>\n",
       "<p>10182 rows × 500 columns</p>\n",
       "</div>"
      ],
      "text/plain": [
       "strategy           utilitarian                                      \\\n",
       "iteration                   0                 1                 2    \n",
       "event_number                                                         \n",
       "0                   Arrival1,4        Arrival4,0        Arrival5,4   \n",
       "1             ElevatorArrival4  ElevatorArrival4         DoorClose   \n",
       "2             ElevatorArrival3         DoorClose  ElevatorArrival4   \n",
       "3             ElevatorArrival2  ElevatorArrival3         DoorClose   \n",
       "4             ElevatorArrival1  ElevatorArrival2        Arrival3,0   \n",
       "...                        ...               ...               ...   \n",
       "10177                      NaN               NaN               NaN   \n",
       "10178                      NaN               NaN               NaN   \n",
       "10179                      NaN               NaN               NaN   \n",
       "10180                      NaN               NaN               NaN   \n",
       "10181                      NaN               NaN               NaN   \n",
       "\n",
       "strategy                                                            \\\n",
       "iteration                   3                 4                 5    \n",
       "event_number                                                         \n",
       "0                   Arrival3,0        Arrival4,0        Arrival0,3   \n",
       "1             ElevatorArrival4  ElevatorArrival4  ElevatorArrival4   \n",
       "2             ElevatorArrival3         DoorClose  ElevatorArrival3   \n",
       "3                    DoorClose  ElevatorArrival3  ElevatorArrival2   \n",
       "4             ElevatorArrival2  ElevatorArrival2  ElevatorArrival1   \n",
       "...                        ...               ...               ...   \n",
       "10177                      NaN               NaN               NaN   \n",
       "10178                      NaN               NaN               NaN   \n",
       "10179                      NaN               NaN               NaN   \n",
       "10180                      NaN               NaN               NaN   \n",
       "10181                      NaN               NaN               NaN   \n",
       "\n",
       "strategy                                                            \\\n",
       "iteration                   6                 7                 8    \n",
       "event_number                                                         \n",
       "0                   Arrival3,0        Arrival5,4        Arrival2,0   \n",
       "1             ElevatorArrival4         DoorClose  ElevatorArrival4   \n",
       "2             ElevatorArrival3  ElevatorArrival4  ElevatorArrival3   \n",
       "3                    DoorClose         DoorClose  ElevatorArrival2   \n",
       "4             ElevatorArrival2        Arrival2,0         DoorClose   \n",
       "...                        ...               ...               ...   \n",
       "10177                      NaN               NaN               NaN   \n",
       "10178                      NaN               NaN               NaN   \n",
       "10179                      NaN               NaN               NaN   \n",
       "10180                      NaN               NaN               NaN   \n",
       "10181                      NaN               NaN               NaN   \n",
       "\n",
       "strategy                        ...  alternative_rest                    \\\n",
       "iteration                   9   ...                90                91   \n",
       "event_number                    ...                                       \n",
       "0                   Arrival2,0  ...  ElevatorArrival4  ElevatorArrival4   \n",
       "1             ElevatorArrival4  ...  ElevatorArrival3  ElevatorArrival3   \n",
       "2             ElevatorArrival3  ...  ElevatorArrival2  ElevatorArrival2   \n",
       "3             ElevatorArrival2  ...  ElevatorArrival1  ElevatorArrival1   \n",
       "4                    DoorClose  ...  ElevatorArrival0  ElevatorArrival0   \n",
       "...                        ...  ...               ...               ...   \n",
       "10177                      NaN  ...               NaN               NaN   \n",
       "10178                      NaN  ...               NaN               NaN   \n",
       "10179                      NaN  ...               NaN               NaN   \n",
       "10180                      NaN  ...               NaN               NaN   \n",
       "10181                      NaN  ...               NaN               NaN   \n",
       "\n",
       "strategy                                                            \\\n",
       "iteration                   92                93                94   \n",
       "event_number                                                         \n",
       "0             ElevatorArrival4        Arrival3,0  ElevatorArrival4   \n",
       "1             ElevatorArrival3  ElevatorArrival4  ElevatorArrival3   \n",
       "2             ElevatorArrival2        Arrival3,0  ElevatorArrival2   \n",
       "3             ElevatorArrival1  ElevatorArrival3  ElevatorArrival1   \n",
       "4             ElevatorArrival0         DoorClose  ElevatorArrival0   \n",
       "...                        ...               ...               ...   \n",
       "10177                      NaN               NaN               NaN   \n",
       "10178                      NaN               NaN               NaN   \n",
       "10179                      NaN               NaN               NaN   \n",
       "10180                      NaN               NaN               NaN   \n",
       "10181                      NaN               NaN               NaN   \n",
       "\n",
       "strategy                                                            \\\n",
       "iteration                   95                96                97   \n",
       "event_number                                                         \n",
       "0             ElevatorArrival4  ElevatorArrival4  ElevatorArrival4   \n",
       "1             ElevatorArrival3  ElevatorArrival3  ElevatorArrival3   \n",
       "2             ElevatorArrival2  ElevatorArrival2  ElevatorArrival2   \n",
       "3             ElevatorArrival1        Arrival2,5  ElevatorArrival1   \n",
       "4             ElevatorArrival0         DoorClose  ElevatorArrival0   \n",
       "...                        ...               ...               ...   \n",
       "10177                      NaN               NaN               NaN   \n",
       "10178                      NaN               NaN               NaN   \n",
       "10179                      NaN               NaN               NaN   \n",
       "10180                      NaN               NaN               NaN   \n",
       "10181                      NaN               NaN               NaN   \n",
       "\n",
       "strategy                                          \n",
       "iteration                   98                99  \n",
       "event_number                                      \n",
       "0             ElevatorArrival4  ElevatorArrival4  \n",
       "1             ElevatorArrival3  ElevatorArrival3  \n",
       "2             ElevatorArrival2  ElevatorArrival2  \n",
       "3             ElevatorArrival1  ElevatorArrival1  \n",
       "4             ElevatorArrival0  ElevatorArrival0  \n",
       "...                        ...               ...  \n",
       "10177                      NaN               NaN  \n",
       "10178                      NaN               NaN  \n",
       "10179                      NaN               NaN  \n",
       "10180                      NaN               NaN  \n",
       "10181                      NaN               NaN  \n",
       "\n",
       "[10182 rows x 500 columns]"
      ]
     },
     "execution_count": 6,
     "metadata": {},
     "output_type": "execute_result"
    }
   ],
   "source": [
    "event_data_columns = pd.MultiIndex.from_arrays([[], []]).set_names([\"strategy\", \"iteration\"])\n",
    "event_data_index = pd.Index([]).set_names(\"event_number\")\n",
    "EVENT_DATA: pd.DataFrame = pd.DataFrame({}, columns=event_data_columns, index=event_data_index)\n",
    "\n",
    "for strategy_name, d in RAW_DATA.items():\n",
    "    max_length = 0\n",
    "    max_event_happened = 0\n",
    "    for iteration, curr_scheduled_events in enumerate(d[\"scheduled_events\"]):\n",
    "        max_length = max(max_length, curr_scheduled_events.shape[0])\n",
    "        EVENT_DATA = EVENT_DATA.reindex(range(max_length))\n",
    "        EVENT_DATA.loc[:, (strategy_name, iteration)] = pd.DataFrame(list(curr_scheduled_events.idxmin(axis=1)))\n",
    "     \n",
    "EVENT_DATA"
   ]
  },
  {
   "cell_type": "markdown",
   "metadata": {},
   "source": [
    "# Key Indicators\n",
    "We have the following key indicators:\n",
    "- Average waiting clients (per floor, and in total)\n",
    "- Average people in the system\n",
    "- Average travel time (total, and in elevator)\n",
    "- Average elevator occupancy\n",
    "- Average elevator movements"
   ]
  },
  {
   "cell_type": "markdown",
   "metadata": {},
   "source": [
    "## Average elevator movements\n",
    "\n",
    "**We moeten er nog wel voor zorgen dat de data analyse, de statistische methoden gebruikt die we hebben geleerd.**"
   ]
  },
  {
   "cell_type": "code",
   "execution_count": 34,
   "metadata": {},
   "outputs": [
    {
     "data": {
      "image/png": "[encoded data removed]",
      "text/plain": [
       "<Figure size 432x288 with 1 Axes>"
      ]
     },
     "metadata": {
      "needs_background": "light"
     },
     "output_type": "display_data"
    },
    {
     "name": "stdout",
     "output_type": "stream",
     "text": [
      "Jaque Bera (p-value, utilitarian strategy): 0.941708670689636\n"
     ]
    },
    {
     "data": {
      "image/png": "[encoded data removed]",
      "text/plain": [
       "<Figure size 432x288 with 1 Axes>"
      ]
     },
     "metadata": {
      "needs_background": "light"
     },
     "output_type": "display_data"
    },
    {
     "name": "stdout",
     "output_type": "stream",
     "text": [
      "Levene:\n"
     ]
    },
    {
     "data": {
      "text/html": [
       "<div>\n",
       "<style scoped>\n",
       "    .dataframe tbody tr th:only-of-type {\n",
       "        vertical-align: middle;\n",
       "    }\n",
       "\n",
       "    .dataframe tbody tr th {\n",
       "        vertical-align: top;\n",
       "    }\n",
       "\n",
       "    .dataframe thead th {\n",
       "        text-align: right;\n",
       "    }\n",
       "</style>\n",
       "<table border=\"1\" class=\"dataframe\">\n",
       "  <thead>\n",
       "    <tr style=\"text-align: right;\">\n",
       "      <th></th>\n",
       "      <th>W</th>\n",
       "      <th>pval</th>\n",
       "      <th>equal_var</th>\n",
       "    </tr>\n",
       "  </thead>\n",
       "  <tbody>\n",
       "    <tr>\n",
       "      <th>levene</th>\n",
       "      <td>4.16476</td>\n",
       "      <td>0.002507</td>\n",
       "      <td>False</td>\n",
       "    </tr>\n",
       "  </tbody>\n",
       "</table>\n",
       "</div>"
      ],
      "text/plain": [
       "              W      pval  equal_var\n",
       "levene  4.16476  0.002507      False"
      ]
     },
     "metadata": {},
     "output_type": "display_data"
    },
    {
     "name": "stdout",
     "output_type": "stream",
     "text": [
      "Welch ANOVA:\n"
     ]
    },
    {
     "data": {
      "text/html": [
       "<div>\n",
       "<style scoped>\n",
       "    .dataframe tbody tr th:only-of-type {\n",
       "        vertical-align: middle;\n",
       "    }\n",
       "\n",
       "    .dataframe tbody tr th {\n",
       "        vertical-align: top;\n",
       "    }\n",
       "\n",
       "    .dataframe thead th {\n",
       "        text-align: right;\n",
       "    }\n",
       "</style>\n",
       "<table border=\"1\" class=\"dataframe\">\n",
       "  <thead>\n",
       "    <tr style=\"text-align: right;\">\n",
       "      <th></th>\n",
       "      <th>Source</th>\n",
       "      <th>ddof1</th>\n",
       "      <th>ddof2</th>\n",
       "      <th>F</th>\n",
       "      <th>p-unc</th>\n",
       "      <th>np2</th>\n",
       "    </tr>\n",
       "  </thead>\n",
       "  <tbody>\n",
       "    <tr>\n",
       "      <th>0</th>\n",
       "      <td>strategy</td>\n",
       "      <td>4</td>\n",
       "      <td>246.406149</td>\n",
       "      <td>5375.255416</td>\n",
       "      <td>2.323049e-238</td>\n",
       "      <td>0.971167</td>\n",
       "    </tr>\n",
       "  </tbody>\n",
       "</table>\n",
       "</div>"
      ],
      "text/plain": [
       "     Source  ddof1       ddof2            F          p-unc       np2\n",
       "0  strategy      4  246.406149  5375.255416  2.323049e-238  0.971167"
      ]
     },
     "metadata": {},
     "output_type": "display_data"
    },
    {
     "name": "stdout",
     "output_type": "stream",
     "text": [
      "Pairwise t-test:\n"
     ]
    },
    {
     "data": {
      "text/html": [
       "<div>\n",
       "<style scoped>\n",
       "    .dataframe tbody tr th:only-of-type {\n",
       "        vertical-align: middle;\n",
       "    }\n",
       "\n",
       "    .dataframe tbody tr th {\n",
       "        vertical-align: top;\n",
       "    }\n",
       "\n",
       "    .dataframe thead th {\n",
       "        text-align: right;\n",
       "    }\n",
       "</style>\n",
       "<table border=\"1\" class=\"dataframe\">\n",
       "  <thead>\n",
       "    <tr style=\"text-align: right;\">\n",
       "      <th></th>\n",
       "      <th>A</th>\n",
       "      <th>B</th>\n",
       "      <th>mean(A)</th>\n",
       "      <th>mean(B)</th>\n",
       "      <th>diff</th>\n",
       "      <th>se</th>\n",
       "      <th>T</th>\n",
       "      <th>p-tukey</th>\n",
       "      <th>hedges</th>\n",
       "    </tr>\n",
       "  </thead>\n",
       "  <tbody>\n",
       "    <tr>\n",
       "      <th>0</th>\n",
       "      <td>alternative_rest</td>\n",
       "      <td>base</td>\n",
       "      <td>5564.42</td>\n",
       "      <td>4466.97</td>\n",
       "      <td>1097.45</td>\n",
       "      <td>9.93489</td>\n",
       "      <td>110.464234</td>\n",
       "      <td>8.992806e-15</td>\n",
       "      <td>15.562753</td>\n",
       "    </tr>\n",
       "    <tr>\n",
       "      <th>1</th>\n",
       "      <td>alternative_rest</td>\n",
       "      <td>ground_floor_rest</td>\n",
       "      <td>5564.42</td>\n",
       "      <td>4583.13</td>\n",
       "      <td>981.29</td>\n",
       "      <td>9.93489</td>\n",
       "      <td>98.772106</td>\n",
       "      <td>8.992806e-15</td>\n",
       "      <td>13.915507</td>\n",
       "    </tr>\n",
       "    <tr>\n",
       "      <th>2</th>\n",
       "      <td>alternative_rest</td>\n",
       "      <td>top_floor_rest</td>\n",
       "      <td>5564.42</td>\n",
       "      <td>4678.71</td>\n",
       "      <td>885.71</td>\n",
       "      <td>9.93489</td>\n",
       "      <td>89.151466</td>\n",
       "      <td>8.992806e-15</td>\n",
       "      <td>12.560104</td>\n",
       "    </tr>\n",
       "    <tr>\n",
       "      <th>3</th>\n",
       "      <td>alternative_rest</td>\n",
       "      <td>utilitarian</td>\n",
       "      <td>5564.42</td>\n",
       "      <td>4531.76</td>\n",
       "      <td>1032.66</td>\n",
       "      <td>9.93489</td>\n",
       "      <td>103.942773</td>\n",
       "      <td>8.992806e-15</td>\n",
       "      <td>14.643977</td>\n",
       "    </tr>\n",
       "    <tr>\n",
       "      <th>4</th>\n",
       "      <td>base</td>\n",
       "      <td>ground_floor_rest</td>\n",
       "      <td>4466.97</td>\n",
       "      <td>4583.13</td>\n",
       "      <td>-116.16</td>\n",
       "      <td>9.93489</td>\n",
       "      <td>-11.692128</td>\n",
       "      <td>8.992806e-15</td>\n",
       "      <td>-1.647245</td>\n",
       "    </tr>\n",
       "    <tr>\n",
       "      <th>5</th>\n",
       "      <td>base</td>\n",
       "      <td>top_floor_rest</td>\n",
       "      <td>4466.97</td>\n",
       "      <td>4678.71</td>\n",
       "      <td>-211.74</td>\n",
       "      <td>9.93489</td>\n",
       "      <td>-21.312768</td>\n",
       "      <td>8.992806e-15</td>\n",
       "      <td>-3.002649</td>\n",
       "    </tr>\n",
       "    <tr>\n",
       "      <th>6</th>\n",
       "      <td>base</td>\n",
       "      <td>utilitarian</td>\n",
       "      <td>4466.97</td>\n",
       "      <td>4531.76</td>\n",
       "      <td>-64.79</td>\n",
       "      <td>9.93489</td>\n",
       "      <td>-6.521461</td>\n",
       "      <td>1.720048e-09</td>\n",
       "      <td>-0.918776</td>\n",
       "    </tr>\n",
       "    <tr>\n",
       "      <th>7</th>\n",
       "      <td>ground_floor_rest</td>\n",
       "      <td>top_floor_rest</td>\n",
       "      <td>4583.13</td>\n",
       "      <td>4678.71</td>\n",
       "      <td>-95.58</td>\n",
       "      <td>9.93489</td>\n",
       "      <td>-9.620640</td>\n",
       "      <td>8.992806e-15</td>\n",
       "      <td>-1.355404</td>\n",
       "    </tr>\n",
       "    <tr>\n",
       "      <th>8</th>\n",
       "      <td>ground_floor_rest</td>\n",
       "      <td>utilitarian</td>\n",
       "      <td>4583.13</td>\n",
       "      <td>4531.76</td>\n",
       "      <td>51.37</td>\n",
       "      <td>9.93489</td>\n",
       "      <td>5.170666</td>\n",
       "      <td>3.363822e-06</td>\n",
       "      <td>0.728469</td>\n",
       "    </tr>\n",
       "    <tr>\n",
       "      <th>9</th>\n",
       "      <td>top_floor_rest</td>\n",
       "      <td>utilitarian</td>\n",
       "      <td>4678.71</td>\n",
       "      <td>4531.76</td>\n",
       "      <td>146.95</td>\n",
       "      <td>9.93489</td>\n",
       "      <td>14.791306</td>\n",
       "      <td>8.992806e-15</td>\n",
       "      <td>2.083873</td>\n",
       "    </tr>\n",
       "  </tbody>\n",
       "</table>\n",
       "</div>"
      ],
      "text/plain": [
       "                   A                  B  mean(A)  mean(B)     diff       se  \\\n",
       "0   alternative_rest               base  5564.42  4466.97  1097.45  9.93489   \n",
       "1   alternative_rest  ground_floor_rest  5564.42  4583.13   981.29  9.93489   \n",
       "2   alternative_rest     top_floor_rest  5564.42  4678.71   885.71  9.93489   \n",
       "3   alternative_rest        utilitarian  5564.42  4531.76  1032.66  9.93489   \n",
       "4               base  ground_floor_rest  4466.97  4583.13  -116.16  9.93489   \n",
       "5               base     top_floor_rest  4466.97  4678.71  -211.74  9.93489   \n",
       "6               base        utilitarian  4466.97  4531.76   -64.79  9.93489   \n",
       "7  ground_floor_rest     top_floor_rest  4583.13  4678.71   -95.58  9.93489   \n",
       "8  ground_floor_rest        utilitarian  4583.13  4531.76    51.37  9.93489   \n",
       "9     top_floor_rest        utilitarian  4678.71  4531.76   146.95  9.93489   \n",
       "\n",
       "            T       p-tukey     hedges  \n",
       "0  110.464234  8.992806e-15  15.562753  \n",
       "1   98.772106  8.992806e-15  13.915507  \n",
       "2   89.151466  8.992806e-15  12.560104  \n",
       "3  103.942773  8.992806e-15  14.643977  \n",
       "4  -11.692128  8.992806e-15  -1.647245  \n",
       "5  -21.312768  8.992806e-15  -3.002649  \n",
       "6   -6.521461  1.720048e-09  -0.918776  \n",
       "7   -9.620640  8.992806e-15  -1.355404  \n",
       "8    5.170666  3.363822e-06   0.728469  \n",
       "9   14.791306  8.992806e-15   2.083873  "
      ]
     },
     "metadata": {},
     "output_type": "display_data"
    },
    {
     "name": "stdout",
     "output_type": "stream",
     "text": [
      "Results\n"
     ]
    },
    {
     "data": {
      "text/html": [
       "<div>\n",
       "<style scoped>\n",
       "    .dataframe tbody tr th:only-of-type {\n",
       "        vertical-align: middle;\n",
       "    }\n",
       "\n",
       "    .dataframe tbody tr th {\n",
       "        vertical-align: top;\n",
       "    }\n",
       "\n",
       "    .dataframe thead th {\n",
       "        text-align: right;\n",
       "    }\n",
       "</style>\n",
       "<table border=\"1\" class=\"dataframe\">\n",
       "  <thead>\n",
       "    <tr style=\"text-align: right;\">\n",
       "      <th></th>\n",
       "      <th>lower</th>\n",
       "      <th>mean</th>\n",
       "      <th>upper</th>\n",
       "    </tr>\n",
       "    <tr>\n",
       "      <th>strategy</th>\n",
       "      <th></th>\n",
       "      <th></th>\n",
       "      <th></th>\n",
       "    </tr>\n",
       "  </thead>\n",
       "  <tbody>\n",
       "    <tr>\n",
       "      <th>utilitarian</th>\n",
       "      <td>4518.601975</td>\n",
       "      <td>4531.76</td>\n",
       "      <td>4544.918025</td>\n",
       "    </tr>\n",
       "    <tr>\n",
       "      <th>base</th>\n",
       "      <td>4455.511953</td>\n",
       "      <td>4466.97</td>\n",
       "      <td>4478.428047</td>\n",
       "    </tr>\n",
       "    <tr>\n",
       "      <th>top_floor_rest</th>\n",
       "      <td>4662.923396</td>\n",
       "      <td>4678.71</td>\n",
       "      <td>4694.496604</td>\n",
       "    </tr>\n",
       "    <tr>\n",
       "      <th>ground_floor_rest</th>\n",
       "      <td>4567.222375</td>\n",
       "      <td>4583.13</td>\n",
       "      <td>4599.037625</td>\n",
       "    </tr>\n",
       "    <tr>\n",
       "      <th>alternative_rest</th>\n",
       "      <td>5552.535366</td>\n",
       "      <td>5564.42</td>\n",
       "      <td>5576.304634</td>\n",
       "    </tr>\n",
       "  </tbody>\n",
       "</table>\n",
       "</div>"
      ],
      "text/plain": [
       "                         lower     mean        upper\n",
       "strategy                                            \n",
       "utilitarian        4518.601975  4531.76  4544.918025\n",
       "base               4455.511953  4466.97  4478.428047\n",
       "top_floor_rest     4662.923396  4678.71  4694.496604\n",
       "ground_floor_rest  4567.222375  4583.13  4599.037625\n",
       "alternative_rest   5552.535366  5564.42  5576.304634"
      ]
     },
     "execution_count": 34,
     "metadata": {},
     "output_type": "execute_result"
    }
   ],
   "source": [
    "elevator_movements = EVENT_DATA.stack().stack().str.contains(\"Elevator\").unstack().unstack().sum().unstack()\n",
    "plt.hist(elevator_movements.iloc[0], density=True)\n",
    "plt.title(f\"Average Elevator Movements ({elevator_movements.index[0]} strategy)\")\n",
    "_mean, _std = sts.norm.fit(elevator_movements.iloc[0].astype(float))\n",
    "plt.plot(\n",
    "    np.arange(\n",
    "        elevator_movements.iloc[0].mean() - 3*elevator_movements.iloc[0].std(), \n",
    "        elevator_movements.iloc[0].mean() + 3*elevator_movements.iloc[0].std(), \n",
    "        0.001),\n",
    "    sts.norm.pdf(np.arange(\n",
    "        elevator_movements.iloc[0].mean() - 3*elevator_movements.iloc[0].std(), \n",
    "        elevator_movements.iloc[0].mean() + 3*elevator_movements.iloc[0].std(),  \n",
    "        0.001),\n",
    "        _mean,\n",
    "        _std\n",
    "    ))\n",
    "plt.show()\n",
    "print(f\"Jaque Bera (p-value, {elevator_movements.index[0]} strategy): {sts.jarque_bera(elevator_movements.iloc[0]).pvalue}\")\n",
    "mean = elevator_movements.mean(axis=1)\n",
    "std = elevator_movements.std(axis=1)/np.sqrt(len(elevator_movements.columns))\n",
    "conf = pd.DataFrame([(mean - std * 1.96).rename(\"lower\"), mean.rename(\"mean\"),(mean + std * 1.96).rename(\"upper\")]).transpose()\n",
    "\n",
    "plt.boxplot(elevator_movements.transpose(), labels=elevator_movements.index)\n",
    "plt.title(\"Elevator Movements\")\n",
    "plt.xlabel(\"Strategy\")\n",
    "plt.ylabel(\"Movements\")\n",
    "plt.show()\n",
    "\n",
    "test_data = elevator_movements.astype(float).stack().to_frame(\"value\").reset_index()\n",
    "print(\"Levene:\")\n",
    "hom_test = pg.homoscedasticity(test_data, dv=\"value\", group=\"strategy\")\n",
    "display(hom_test)\n",
    "\n",
    "if hom_test[\"equal_var\"].iloc[0]:\n",
    "    print(\"ANOVA:\")\n",
    "    display(pg.anova(test_data, dv=\"value\", between=\"strategy\", detailed=True))\n",
    "else:\n",
    "    print(\"Welch ANOVA:\")\n",
    "    display(pg.welch_anova(test_data, dv=\"value\", between=\"strategy\"))\n",
    "\n",
    "print(\"Pairwise t-test:\")\n",
    "display(pg.pairwise_tukey(test_data, dv=\"value\", between=\"strategy\"))\n",
    "\n",
    "\n",
    "print(\"Results\")\n",
    "conf"
   ]
  },
  {
   "cell_type": "markdown",
   "metadata": {},
   "source": [
    "## Average waiting clients\n",
    "\n",
    "Oke de strategie om dit te berekenen gaat als volgt:\n",
    "1. Verander de index in het verschil tot het getal ervoor\n",
    "2. Vermenigvuldig dit met de huidige status\n",
    "3. Sum dat bij elkaar\n",
    "4. Deel dat door de totale tijd\n",
    "\n",
    "Dit kan gedaan worden voor de lift en de wachtenden, dat kan je daarna ook nog bij elkaar optellen door het aantal mensen in het systeem te krijgen."
   ]
  },
  {
   "cell_type": "code",
   "execution_count": 35,
   "metadata": {},
   "outputs": [
    {
     "name": "stdout",
     "output_type": "stream",
     "text": [
      "Strategy: utilitarian\n"
     ]
    },
    {
     "data": {
      "text/plain": [
       "floor\n",
       "0    1.498465\n",
       "1    0.257046\n",
       "2    0.252633\n",
       "3    0.296709\n",
       "4    0.486410\n",
       "5    1.063130\n",
       "dtype: float64"
      ]
     },
     "metadata": {},
     "output_type": "display_data"
    },
    {
     "data": {
      "image/png": "[encoded data removed]",
      "text/plain": [
       "<Figure size 432x288 with 1 Axes>"
      ]
     },
     "metadata": {
      "needs_background": "light"
     },
     "output_type": "display_data"
    },
    {
     "name": "stdout",
     "output_type": "stream",
     "text": [
      "Jarque Bera (p-value, utilitarian strategy): 0.08762202512775585\n"
     ]
    },
    {
     "data": {
      "text/plain": [
       "'Total average waiting: 3.854392012354979'"
      ]
     },
     "metadata": {},
     "output_type": "display_data"
    },
    {
     "name": "stdout",
     "output_type": "stream",
     "text": [
      "Strategy: base\n"
     ]
    },
    {
     "data": {
      "text/plain": [
       "floor\n",
       "0    1.100256\n",
       "1    0.186107\n",
       "2    0.154712\n",
       "3    0.168693\n",
       "4    0.225182\n",
       "5    0.317554\n",
       "dtype: float64"
      ]
     },
     "metadata": {},
     "output_type": "display_data"
    },
    {
     "data": {
      "image/png": "[encoded data removed]",
      "text/plain": [
       "<Figure size 432x288 with 1 Axes>"
      ]
     },
     "metadata": {
      "needs_background": "light"
     },
     "output_type": "display_data"
    },
    {
     "name": "stdout",
     "output_type": "stream",
     "text": [
      "Jarque Bera (p-value, base strategy): 0.7063599460866375\n"
     ]
    },
    {
     "data": {
      "text/plain": [
       "'Total average waiting: 2.1525033531842293'"
      ]
     },
     "metadata": {},
     "output_type": "display_data"
    },
    {
     "name": "stdout",
     "output_type": "stream",
     "text": [
      "Strategy: top_floor_rest\n"
     ]
    },
    {
     "data": {
      "text/plain": [
       "floor\n",
       "0    1.101627\n",
       "1    0.189412\n",
       "2    0.156453\n",
       "3    0.165903\n",
       "4    0.224055\n",
       "5    0.317329\n",
       "dtype: float64"
      ]
     },
     "metadata": {},
     "output_type": "display_data"
    },
    {
     "data": {
      "image/png": "[encoded data removed]",
      "text/plain": [
       "<Figure size 432x288 with 1 Axes>"
      ]
     },
     "metadata": {
      "needs_background": "light"
     },
     "output_type": "display_data"
    },
    {
     "name": "stdout",
     "output_type": "stream",
     "text": [
      "Jarque Bera (p-value, top_floor_rest strategy): 0.5680905650173844\n"
     ]
    },
    {
     "data": {
      "text/plain": [
       "'Total average waiting: 2.154778143583613'"
      ]
     },
     "metadata": {},
     "output_type": "display_data"
    },
    {
     "name": "stdout",
     "output_type": "stream",
     "text": [
      "Strategy: ground_floor_rest\n"
     ]
    },
    {
     "data": {
      "text/plain": [
       "floor\n",
       "0    1.073533\n",
       "1    0.183840\n",
       "2    0.156622\n",
       "3    0.171568\n",
       "4    0.223924\n",
       "5    0.328702\n",
       "dtype: float64"
      ]
     },
     "metadata": {},
     "output_type": "display_data"
    },
    {
     "data": {
      "image/png": "[encoded data removed]",
      "text/plain": [
       "<Figure size 432x288 with 1 Axes>"
      ]
     },
     "metadata": {
      "needs_background": "light"
     },
     "output_type": "display_data"
    },
    {
     "name": "stdout",
     "output_type": "stream",
     "text": [
      "Jarque Bera (p-value, ground_floor_rest strategy): 0.7302502903568228\n"
     ]
    },
    {
     "data": {
      "text/plain": [
       "'Total average waiting: 2.138187779719968'"
      ]
     },
     "metadata": {},
     "output_type": "display_data"
    },
    {
     "name": "stdout",
     "output_type": "stream",
     "text": [
      "Strategy: alternative_rest\n"
     ]
    },
    {
     "data": {
      "text/plain": [
       "floor\n",
       "0    1.105502\n",
       "1    0.183298\n",
       "2    0.153771\n",
       "3    0.169143\n",
       "4    0.229625\n",
       "5    0.316468\n",
       "dtype: float64"
      ]
     },
     "metadata": {},
     "output_type": "display_data"
    },
    {
     "data": {
      "image/png": "[encoded data removed]",
      "text/plain": [
       "<Figure size 432x288 with 1 Axes>"
      ]
     },
     "metadata": {
      "needs_background": "light"
     },
     "output_type": "display_data"
    },
    {
     "name": "stdout",
     "output_type": "stream",
     "text": [
      "Jarque Bera (p-value, alternative_rest strategy): 0.6661547673217445\n"
     ]
    },
    {
     "data": {
      "text/plain": [
       "'Total average waiting: 2.157806055519367'"
      ]
     },
     "metadata": {},
     "output_type": "display_data"
    },
    {
     "name": "stdout",
     "output_type": "stream",
     "text": [
      "\n",
      "\n"
     ]
    },
    {
     "data": {
      "image/png": "[encoded data removed]",
      "text/plain": [
       "<Figure size 432x288 with 1 Axes>"
      ]
     },
     "metadata": {
      "needs_background": "light"
     },
     "output_type": "display_data"
    },
    {
     "name": "stdout",
     "output_type": "stream",
     "text": [
      "Levene:\n"
     ]
    },
    {
     "data": {
      "text/html": [
       "<div>\n",
       "<style scoped>\n",
       "    .dataframe tbody tr th:only-of-type {\n",
       "        vertical-align: middle;\n",
       "    }\n",
       "\n",
       "    .dataframe tbody tr th {\n",
       "        vertical-align: top;\n",
       "    }\n",
       "\n",
       "    .dataframe thead th {\n",
       "        text-align: right;\n",
       "    }\n",
       "</style>\n",
       "<table border=\"1\" class=\"dataframe\">\n",
       "  <thead>\n",
       "    <tr style=\"text-align: right;\">\n",
       "      <th></th>\n",
       "      <th>W</th>\n",
       "      <th>pval</th>\n",
       "      <th>equal_var</th>\n",
       "    </tr>\n",
       "  </thead>\n",
       "  <tbody>\n",
       "    <tr>\n",
       "      <th>levene</th>\n",
       "      <td>2.429544</td>\n",
       "      <td>0.061369</td>\n",
       "      <td>True</td>\n",
       "    </tr>\n",
       "  </tbody>\n",
       "</table>\n",
       "</div>"
      ],
      "text/plain": [
       "               W      pval  equal_var\n",
       "levene  2.429544  0.061369       True"
      ]
     },
     "metadata": {},
     "output_type": "display_data"
    },
    {
     "name": "stdout",
     "output_type": "stream",
     "text": [
      "ANOVA:\n"
     ]
    },
    {
     "data": {
      "text/html": [
       "<div>\n",
       "<style scoped>\n",
       "    .dataframe tbody tr th:only-of-type {\n",
       "        vertical-align: middle;\n",
       "    }\n",
       "\n",
       "    .dataframe tbody tr th {\n",
       "        vertical-align: top;\n",
       "    }\n",
       "\n",
       "    .dataframe thead th {\n",
       "        text-align: right;\n",
       "    }\n",
       "</style>\n",
       "<table border=\"1\" class=\"dataframe\">\n",
       "  <thead>\n",
       "    <tr style=\"text-align: right;\">\n",
       "      <th></th>\n",
       "      <th>Source</th>\n",
       "      <th>SS</th>\n",
       "      <th>DF</th>\n",
       "      <th>MS</th>\n",
       "      <th>F</th>\n",
       "      <th>p-unc</th>\n",
       "      <th>np2</th>\n",
       "    </tr>\n",
       "  </thead>\n",
       "  <tbody>\n",
       "    <tr>\n",
       "      <th>0</th>\n",
       "      <td>level_1</td>\n",
       "      <td>0.644988</td>\n",
       "      <td>4</td>\n",
       "      <td>0.161247</td>\n",
       "      <td>317.451099</td>\n",
       "      <td>2.396093e-32</td>\n",
       "      <td>0.965774</td>\n",
       "    </tr>\n",
       "    <tr>\n",
       "      <th>1</th>\n",
       "      <td>Within</td>\n",
       "      <td>0.022857</td>\n",
       "      <td>45</td>\n",
       "      <td>0.000508</td>\n",
       "      <td>NaN</td>\n",
       "      <td>NaN</td>\n",
       "      <td>NaN</td>\n",
       "    </tr>\n",
       "  </tbody>\n",
       "</table>\n",
       "</div>"
      ],
      "text/plain": [
       "    Source        SS  DF        MS           F         p-unc       np2\n",
       "0  level_1  0.644988   4  0.161247  317.451099  2.396093e-32  0.965774\n",
       "1   Within  0.022857  45  0.000508         NaN           NaN       NaN"
      ]
     },
     "metadata": {},
     "output_type": "display_data"
    },
    {
     "name": "stdout",
     "output_type": "stream",
     "text": [
      "Pairwise t-test:\n"
     ]
    },
    {
     "data": {
      "text/html": [
       "<div>\n",
       "<style scoped>\n",
       "    .dataframe tbody tr th:only-of-type {\n",
       "        vertical-align: middle;\n",
       "    }\n",
       "\n",
       "    .dataframe tbody tr th {\n",
       "        vertical-align: top;\n",
       "    }\n",
       "\n",
       "    .dataframe thead th {\n",
       "        text-align: right;\n",
       "    }\n",
       "</style>\n",
       "<table border=\"1\" class=\"dataframe\">\n",
       "  <thead>\n",
       "    <tr style=\"text-align: right;\">\n",
       "      <th></th>\n",
       "      <th>A</th>\n",
       "      <th>B</th>\n",
       "      <th>mean(A)</th>\n",
       "      <th>mean(B)</th>\n",
       "      <th>diff</th>\n",
       "      <th>se</th>\n",
       "      <th>T</th>\n",
       "      <th>p-tukey</th>\n",
       "      <th>hedges</th>\n",
       "    </tr>\n",
       "  </thead>\n",
       "  <tbody>\n",
       "    <tr>\n",
       "      <th>0</th>\n",
       "      <td>alternative_rest</td>\n",
       "      <td>base</td>\n",
       "      <td>0.359634</td>\n",
       "      <td>0.358751</td>\n",
       "      <td>0.000884</td>\n",
       "      <td>0.010079</td>\n",
       "      <td>0.087685</td>\n",
       "      <td>0.999986</td>\n",
       "      <td>0.037557</td>\n",
       "    </tr>\n",
       "    <tr>\n",
       "      <th>1</th>\n",
       "      <td>alternative_rest</td>\n",
       "      <td>ground_floor_rest</td>\n",
       "      <td>0.359634</td>\n",
       "      <td>0.356365</td>\n",
       "      <td>0.003270</td>\n",
       "      <td>0.010079</td>\n",
       "      <td>0.324405</td>\n",
       "      <td>0.997515</td>\n",
       "      <td>0.138948</td>\n",
       "    </tr>\n",
       "    <tr>\n",
       "      <th>2</th>\n",
       "      <td>alternative_rest</td>\n",
       "      <td>top_floor_rest</td>\n",
       "      <td>0.359634</td>\n",
       "      <td>0.359130</td>\n",
       "      <td>0.000505</td>\n",
       "      <td>0.010079</td>\n",
       "      <td>0.050069</td>\n",
       "      <td>0.999999</td>\n",
       "      <td>0.021445</td>\n",
       "    </tr>\n",
       "    <tr>\n",
       "      <th>3</th>\n",
       "      <td>alternative_rest</td>\n",
       "      <td>utilitarian</td>\n",
       "      <td>0.359634</td>\n",
       "      <td>0.642399</td>\n",
       "      <td>-0.282764</td>\n",
       "      <td>0.010079</td>\n",
       "      <td>-28.054483</td>\n",
       "      <td>0.000000</td>\n",
       "      <td>-12.016219</td>\n",
       "    </tr>\n",
       "    <tr>\n",
       "      <th>4</th>\n",
       "      <td>base</td>\n",
       "      <td>ground_floor_rest</td>\n",
       "      <td>0.358751</td>\n",
       "      <td>0.356365</td>\n",
       "      <td>0.002386</td>\n",
       "      <td>0.010079</td>\n",
       "      <td>0.236720</td>\n",
       "      <td>0.999278</td>\n",
       "      <td>0.101391</td>\n",
       "    </tr>\n",
       "    <tr>\n",
       "      <th>5</th>\n",
       "      <td>base</td>\n",
       "      <td>top_floor_rest</td>\n",
       "      <td>0.358751</td>\n",
       "      <td>0.359130</td>\n",
       "      <td>-0.000379</td>\n",
       "      <td>0.010079</td>\n",
       "      <td>-0.037616</td>\n",
       "      <td>1.000000</td>\n",
       "      <td>-0.016111</td>\n",
       "    </tr>\n",
       "    <tr>\n",
       "      <th>6</th>\n",
       "      <td>base</td>\n",
       "      <td>utilitarian</td>\n",
       "      <td>0.358751</td>\n",
       "      <td>0.642399</td>\n",
       "      <td>-0.283648</td>\n",
       "      <td>0.010079</td>\n",
       "      <td>-28.142168</td>\n",
       "      <td>0.000000</td>\n",
       "      <td>-12.053776</td>\n",
       "    </tr>\n",
       "    <tr>\n",
       "      <th>7</th>\n",
       "      <td>ground_floor_rest</td>\n",
       "      <td>top_floor_rest</td>\n",
       "      <td>0.356365</td>\n",
       "      <td>0.359130</td>\n",
       "      <td>-0.002765</td>\n",
       "      <td>0.010079</td>\n",
       "      <td>-0.274336</td>\n",
       "      <td>0.998710</td>\n",
       "      <td>-0.117503</td>\n",
       "    </tr>\n",
       "    <tr>\n",
       "      <th>8</th>\n",
       "      <td>ground_floor_rest</td>\n",
       "      <td>utilitarian</td>\n",
       "      <td>0.356365</td>\n",
       "      <td>0.642399</td>\n",
       "      <td>-0.286034</td>\n",
       "      <td>0.010079</td>\n",
       "      <td>-28.378888</td>\n",
       "      <td>0.000000</td>\n",
       "      <td>-12.155167</td>\n",
       "    </tr>\n",
       "    <tr>\n",
       "      <th>9</th>\n",
       "      <td>top_floor_rest</td>\n",
       "      <td>utilitarian</td>\n",
       "      <td>0.359130</td>\n",
       "      <td>0.642399</td>\n",
       "      <td>-0.283269</td>\n",
       "      <td>0.010079</td>\n",
       "      <td>-28.104553</td>\n",
       "      <td>0.000000</td>\n",
       "      <td>-12.037665</td>\n",
       "    </tr>\n",
       "  </tbody>\n",
       "</table>\n",
       "</div>"
      ],
      "text/plain": [
       "                   A                  B   mean(A)   mean(B)      diff  \\\n",
       "0   alternative_rest               base  0.359634  0.358751  0.000884   \n",
       "1   alternative_rest  ground_floor_rest  0.359634  0.356365  0.003270   \n",
       "2   alternative_rest     top_floor_rest  0.359634  0.359130  0.000505   \n",
       "3   alternative_rest        utilitarian  0.359634  0.642399 -0.282764   \n",
       "4               base  ground_floor_rest  0.358751  0.356365  0.002386   \n",
       "5               base     top_floor_rest  0.358751  0.359130 -0.000379   \n",
       "6               base        utilitarian  0.358751  0.642399 -0.283648   \n",
       "7  ground_floor_rest     top_floor_rest  0.356365  0.359130 -0.002765   \n",
       "8  ground_floor_rest        utilitarian  0.356365  0.642399 -0.286034   \n",
       "9     top_floor_rest        utilitarian  0.359130  0.642399 -0.283269   \n",
       "\n",
       "         se          T   p-tukey     hedges  \n",
       "0  0.010079   0.087685  0.999986   0.037557  \n",
       "1  0.010079   0.324405  0.997515   0.138948  \n",
       "2  0.010079   0.050069  0.999999   0.021445  \n",
       "3  0.010079 -28.054483  0.000000 -12.016219  \n",
       "4  0.010079   0.236720  0.999278   0.101391  \n",
       "5  0.010079  -0.037616  1.000000  -0.016111  \n",
       "6  0.010079 -28.142168  0.000000 -12.053776  \n",
       "7  0.010079  -0.274336  0.998710  -0.117503  \n",
       "8  0.010079 -28.378888  0.000000 -12.155167  \n",
       "9  0.010079 -28.104553  0.000000 -12.037665  "
      ]
     },
     "metadata": {},
     "output_type": "display_data"
    }
   ],
   "source": [
    "waiting_total = pd.DataFrame()\n",
    "\n",
    "for strategy_name, d in DATA.items():\n",
    "    print(f\"Strategy: {strategy_name}\")\n",
    "    people_waiting_inline_per_floor = d[\"waiting\"].groupby([\"arrival\"]).sum()\n",
    "    people_waiting_inline_per_floor.index.set_names(\"floor\", inplace=True)\n",
    "    t = np.array(people_waiting_inline_per_floor.columns.get_level_values(1))\n",
    "    t_1 = np.append(people_waiting_inline_per_floor.columns.get_level_values(1)[1:], 0)\n",
    "    time_active = t_1 - t\n",
    "    time_active[time_active < 0] = (np.maximum(SIMULATION_TIME - t, 0))[time_active < 0]\n",
    "    time_active = np.minimum(time_active, SIMULATION_TIME)\n",
    "    waiting_times_time = people_waiting_inline_per_floor * time_active\n",
    "    average_people_in_line_per_floor_per_iteration = waiting_times_time.groupby([\"iteration\"], axis=1).sum()/SIMULATION_TIME\n",
    "    average_people_in_line_per_floor = average_people_in_line_per_floor_per_iteration.mean(axis=1) # Hier moet dan ook nog een statistische test ofzo\n",
    "    display(average_people_in_line_per_floor)\n",
    "\n",
    "    average_line_per_iteration = average_people_in_line_per_floor_per_iteration.mean()\n",
    "    average_line_per_iteration = average_line_per_iteration.groupby(average_line_per_iteration.index%10).mean()\n",
    "    \n",
    "    waiting_total.loc[:, strategy_name] = average_line_per_iteration\n",
    "    plt.hist(average_line_per_iteration, density=True)\n",
    "    plt.title(f\"Average Line length ({strategy_name} strategy)\")\n",
    "    _mean, _std = sts.norm.fit(average_line_per_iteration)\n",
    "    plt.plot(\n",
    "        np.arange(\n",
    "            average_line_per_iteration.mean() - 3*average_line_per_iteration.std(), \n",
    "            average_line_per_iteration.mean() + 3*average_line_per_iteration.std(), \n",
    "            0.001),\n",
    "        sts.norm.pdf(np.arange(\n",
    "            average_line_per_iteration.mean() - 3*average_line_per_iteration.std(), \n",
    "            average_line_per_iteration.mean() + 3*average_line_per_iteration.std(), \n",
    "            0.001),\n",
    "            _mean,\n",
    "            _std\n",
    "        ))\n",
    "    plt.show()\n",
    "    print(f\"Jarque Bera (p-value, {strategy_name} strategy): {sts.jarque_bera(average_line_per_iteration).pvalue}\")\n",
    "    display(f\"Total average waiting: {average_people_in_line_per_floor.sum()}\")\n",
    "\n",
    "print(\"\\n\")\n",
    "\n",
    "plt.boxplot(waiting_total, labels=waiting_total.columns)\n",
    "plt.title(\"Average Line Length\")\n",
    "plt.xlabel(\"Strategy\")\n",
    "plt.ylabel(\"Average Line Length\")\n",
    "plt.show()\n",
    "\n",
    "test_df = waiting_total.stack().reset_index()\n",
    "print(\"Levene:\")\n",
    "hom_test = pg.homoscedasticity(test_df, dv=0, group=\"level_1\")\n",
    "display(hom_test)\n",
    "\n",
    "if hom_test[\"equal_var\"].iloc[0]:\n",
    "    print(\"ANOVA:\")\n",
    "    display(pg.anova(test_df, dv=0, between=\"level_1\", detailed=True))\n",
    "else:\n",
    "    print(\"Welch ANOVA:\")\n",
    "    display(pg.welch_anova(test_df, dv=0, between=\"level_1\"))\n",
    "\n",
    "# print(\"Kruskal Willis:\")\n",
    "# display(pg.kruskal(test_df, dv=0, between=\"level_1\"))\n",
    "\n",
    "print(\"Pairwise t-test:\")\n",
    "display(pg.pairwise_tukey(test_df, dv=0, between=\"level_1\"))"
   ]
  },
  {
   "cell_type": "markdown",
   "metadata": {},
   "source": [
    "## Average elevator occupancy"
   ]
  },
  {
   "cell_type": "code",
   "execution_count": 36,
   "metadata": {},
   "outputs": [
    {
     "name": "stdout",
     "output_type": "stream",
     "text": [
      "Strategy: utilitarian\n"
     ]
    },
    {
     "data": {
      "image/png": "[encoded data removed]",
      "text/plain": [
       "<Figure size 432x288 with 1 Axes>"
      ]
     },
     "metadata": {
      "needs_background": "light"
     },
     "output_type": "display_data"
    },
    {
     "name": "stdout",
     "output_type": "stream",
     "text": [
      "Jaque Bera (p-value, utilitarian strategy): 0.5097411196278896\n"
     ]
    },
    {
     "data": {
      "text/plain": [
       "'Average elevator occupancy: 1.8585198214201497'"
      ]
     },
     "metadata": {},
     "output_type": "display_data"
    },
    {
     "name": "stdout",
     "output_type": "stream",
     "text": [
      "Strategy: base\n"
     ]
    },
    {
     "data": {
      "image/png": "[encoded data removed]",
      "text/plain": [
       "<Figure size 432x288 with 1 Axes>"
      ]
     },
     "metadata": {
      "needs_background": "light"
     },
     "output_type": "display_data"
    },
    {
     "name": "stdout",
     "output_type": "stream",
     "text": [
      "Jaque Bera (p-value, base strategy): 0.6217823162154004\n"
     ]
    },
    {
     "data": {
      "text/plain": [
       "'Average elevator occupancy: 2.313134196235101'"
      ]
     },
     "metadata": {},
     "output_type": "display_data"
    },
    {
     "name": "stdout",
     "output_type": "stream",
     "text": [
      "Strategy: top_floor_rest\n"
     ]
    },
    {
     "data": {
      "image/png": "[encoded data removed]",
      "text/plain": [
       "<Figure size 432x288 with 1 Axes>"
      ]
     },
     "metadata": {
      "needs_background": "light"
     },
     "output_type": "display_data"
    },
    {
     "name": "stdout",
     "output_type": "stream",
     "text": [
      "Jaque Bera (p-value, top_floor_rest strategy): 0.494078316049416\n"
     ]
    },
    {
     "data": {
      "text/plain": [
       "'Average elevator occupancy: 2.3030400144955308'"
      ]
     },
     "metadata": {},
     "output_type": "display_data"
    },
    {
     "name": "stdout",
     "output_type": "stream",
     "text": [
      "Strategy: ground_floor_rest\n"
     ]
    },
    {
     "data": {
      "image/png": "[encoded data removed]",
      "text/plain": [
       "<Figure size 432x288 with 1 Axes>"
      ]
     },
     "metadata": {
      "needs_background": "light"
     },
     "output_type": "display_data"
    },
    {
     "name": "stdout",
     "output_type": "stream",
     "text": [
      "Jaque Bera (p-value, ground_floor_rest strategy): 0.8625703139934664\n"
     ]
    },
    {
     "data": {
      "text/plain": [
       "'Average elevator occupancy: 2.307330120736546'"
      ]
     },
     "metadata": {},
     "output_type": "display_data"
    },
    {
     "name": "stdout",
     "output_type": "stream",
     "text": [
      "Strategy: alternative_rest\n"
     ]
    },
    {
     "data": {
      "image/png": "[encoded data removed]",
      "text/plain": [
       "<Figure size 432x288 with 1 Axes>"
      ]
     },
     "metadata": {
      "needs_background": "light"
     },
     "output_type": "display_data"
    },
    {
     "name": "stdout",
     "output_type": "stream",
     "text": [
      "Jaque Bera (p-value, alternative_rest strategy): 0.9177751507830203\n"
     ]
    },
    {
     "data": {
      "text/plain": [
       "'Average elevator occupancy: 2.3158956046461547'"
      ]
     },
     "metadata": {},
     "output_type": "display_data"
    },
    {
     "data": {
      "image/png": "[encoded data removed]",
      "text/plain": [
       "<Figure size 432x288 with 1 Axes>"
      ]
     },
     "metadata": {
      "needs_background": "light"
     },
     "output_type": "display_data"
    },
    {
     "name": "stdout",
     "output_type": "stream",
     "text": [
      "Levene:\n"
     ]
    },
    {
     "data": {
      "text/html": [
       "<div>\n",
       "<style scoped>\n",
       "    .dataframe tbody tr th:only-of-type {\n",
       "        vertical-align: middle;\n",
       "    }\n",
       "\n",
       "    .dataframe tbody tr th {\n",
       "        vertical-align: top;\n",
       "    }\n",
       "\n",
       "    .dataframe thead th {\n",
       "        text-align: right;\n",
       "    }\n",
       "</style>\n",
       "<table border=\"1\" class=\"dataframe\">\n",
       "  <thead>\n",
       "    <tr style=\"text-align: right;\">\n",
       "      <th></th>\n",
       "      <th>W</th>\n",
       "      <th>pval</th>\n",
       "      <th>equal_var</th>\n",
       "    </tr>\n",
       "  </thead>\n",
       "  <tbody>\n",
       "    <tr>\n",
       "      <th>levene</th>\n",
       "      <td>1.093869</td>\n",
       "      <td>0.358852</td>\n",
       "      <td>True</td>\n",
       "    </tr>\n",
       "  </tbody>\n",
       "</table>\n",
       "</div>"
      ],
      "text/plain": [
       "               W      pval  equal_var\n",
       "levene  1.093869  0.358852       True"
      ]
     },
     "metadata": {},
     "output_type": "display_data"
    },
    {
     "name": "stdout",
     "output_type": "stream",
     "text": [
      "ANOVA:\n"
     ]
    },
    {
     "data": {
      "text/html": [
       "<div>\n",
       "<style scoped>\n",
       "    .dataframe tbody tr th:only-of-type {\n",
       "        vertical-align: middle;\n",
       "    }\n",
       "\n",
       "    .dataframe tbody tr th {\n",
       "        vertical-align: top;\n",
       "    }\n",
       "\n",
       "    .dataframe thead th {\n",
       "        text-align: right;\n",
       "    }\n",
       "</style>\n",
       "<table border=\"1\" class=\"dataframe\">\n",
       "  <thead>\n",
       "    <tr style=\"text-align: right;\">\n",
       "      <th></th>\n",
       "      <th>Source</th>\n",
       "      <th>SS</th>\n",
       "      <th>DF</th>\n",
       "      <th>MS</th>\n",
       "      <th>F</th>\n",
       "      <th>p-unc</th>\n",
       "      <th>np2</th>\n",
       "    </tr>\n",
       "  </thead>\n",
       "  <tbody>\n",
       "    <tr>\n",
       "      <th>0</th>\n",
       "      <td>level_1</td>\n",
       "      <td>16.305919</td>\n",
       "      <td>4</td>\n",
       "      <td>4.076480</td>\n",
       "      <td>288.515525</td>\n",
       "      <td>7.757008e-128</td>\n",
       "      <td>0.699829</td>\n",
       "    </tr>\n",
       "    <tr>\n",
       "      <th>1</th>\n",
       "      <td>Within</td>\n",
       "      <td>6.993930</td>\n",
       "      <td>495</td>\n",
       "      <td>0.014129</td>\n",
       "      <td>NaN</td>\n",
       "      <td>NaN</td>\n",
       "      <td>NaN</td>\n",
       "    </tr>\n",
       "  </tbody>\n",
       "</table>\n",
       "</div>"
      ],
      "text/plain": [
       "    Source         SS   DF        MS           F          p-unc       np2\n",
       "0  level_1  16.305919    4  4.076480  288.515525  7.757008e-128  0.699829\n",
       "1   Within   6.993930  495  0.014129         NaN            NaN       NaN"
      ]
     },
     "metadata": {},
     "output_type": "display_data"
    },
    {
     "name": "stdout",
     "output_type": "stream",
     "text": [
      "Pairwise t-test:\n"
     ]
    },
    {
     "data": {
      "text/html": [
       "<div>\n",
       "<style scoped>\n",
       "    .dataframe tbody tr th:only-of-type {\n",
       "        vertical-align: middle;\n",
       "    }\n",
       "\n",
       "    .dataframe tbody tr th {\n",
       "        vertical-align: top;\n",
       "    }\n",
       "\n",
       "    .dataframe thead th {\n",
       "        text-align: right;\n",
       "    }\n",
       "</style>\n",
       "<table border=\"1\" class=\"dataframe\">\n",
       "  <thead>\n",
       "    <tr style=\"text-align: right;\">\n",
       "      <th></th>\n",
       "      <th>A</th>\n",
       "      <th>B</th>\n",
       "      <th>mean(A)</th>\n",
       "      <th>mean(B)</th>\n",
       "      <th>diff</th>\n",
       "      <th>se</th>\n",
       "      <th>T</th>\n",
       "      <th>p-tukey</th>\n",
       "      <th>hedges</th>\n",
       "    </tr>\n",
       "  </thead>\n",
       "  <tbody>\n",
       "    <tr>\n",
       "      <th>0</th>\n",
       "      <td>alternative_rest</td>\n",
       "      <td>base</td>\n",
       "      <td>2.315896</td>\n",
       "      <td>2.313134</td>\n",
       "      <td>0.002761</td>\n",
       "      <td>0.01681</td>\n",
       "      <td>0.164270</td>\n",
       "      <td>9.998364e-01</td>\n",
       "      <td>0.023143</td>\n",
       "    </tr>\n",
       "    <tr>\n",
       "      <th>1</th>\n",
       "      <td>alternative_rest</td>\n",
       "      <td>ground_floor_rest</td>\n",
       "      <td>2.315896</td>\n",
       "      <td>2.307330</td>\n",
       "      <td>0.008565</td>\n",
       "      <td>0.01681</td>\n",
       "      <td>0.509541</td>\n",
       "      <td>9.864128e-01</td>\n",
       "      <td>0.071787</td>\n",
       "    </tr>\n",
       "    <tr>\n",
       "      <th>2</th>\n",
       "      <td>alternative_rest</td>\n",
       "      <td>top_floor_rest</td>\n",
       "      <td>2.315896</td>\n",
       "      <td>2.303040</td>\n",
       "      <td>0.012856</td>\n",
       "      <td>0.01681</td>\n",
       "      <td>0.764749</td>\n",
       "      <td>9.405464e-01</td>\n",
       "      <td>0.107742</td>\n",
       "    </tr>\n",
       "    <tr>\n",
       "      <th>3</th>\n",
       "      <td>alternative_rest</td>\n",
       "      <td>utilitarian</td>\n",
       "      <td>2.315896</td>\n",
       "      <td>1.858520</td>\n",
       "      <td>0.457376</td>\n",
       "      <td>0.01681</td>\n",
       "      <td>27.208219</td>\n",
       "      <td>8.992806e-15</td>\n",
       "      <td>3.833230</td>\n",
       "    </tr>\n",
       "    <tr>\n",
       "      <th>4</th>\n",
       "      <td>base</td>\n",
       "      <td>ground_floor_rest</td>\n",
       "      <td>2.313134</td>\n",
       "      <td>2.307330</td>\n",
       "      <td>0.005804</td>\n",
       "      <td>0.01681</td>\n",
       "      <td>0.345271</td>\n",
       "      <td>9.969428e-01</td>\n",
       "      <td>0.048643</td>\n",
       "    </tr>\n",
       "    <tr>\n",
       "      <th>5</th>\n",
       "      <td>base</td>\n",
       "      <td>top_floor_rest</td>\n",
       "      <td>2.313134</td>\n",
       "      <td>2.303040</td>\n",
       "      <td>0.010094</td>\n",
       "      <td>0.01681</td>\n",
       "      <td>0.600479</td>\n",
       "      <td>9.749810e-01</td>\n",
       "      <td>0.084599</td>\n",
       "    </tr>\n",
       "    <tr>\n",
       "      <th>6</th>\n",
       "      <td>base</td>\n",
       "      <td>utilitarian</td>\n",
       "      <td>2.313134</td>\n",
       "      <td>1.858520</td>\n",
       "      <td>0.454614</td>\n",
       "      <td>0.01681</td>\n",
       "      <td>27.043949</td>\n",
       "      <td>8.992806e-15</td>\n",
       "      <td>3.810087</td>\n",
       "    </tr>\n",
       "    <tr>\n",
       "      <th>7</th>\n",
       "      <td>ground_floor_rest</td>\n",
       "      <td>top_floor_rest</td>\n",
       "      <td>2.307330</td>\n",
       "      <td>2.303040</td>\n",
       "      <td>0.004290</td>\n",
       "      <td>0.01681</td>\n",
       "      <td>0.255208</td>\n",
       "      <td>9.990641e-01</td>\n",
       "      <td>0.035955</td>\n",
       "    </tr>\n",
       "    <tr>\n",
       "      <th>8</th>\n",
       "      <td>ground_floor_rest</td>\n",
       "      <td>utilitarian</td>\n",
       "      <td>2.307330</td>\n",
       "      <td>1.858520</td>\n",
       "      <td>0.448810</td>\n",
       "      <td>0.01681</td>\n",
       "      <td>26.698678</td>\n",
       "      <td>8.992806e-15</td>\n",
       "      <td>3.761443</td>\n",
       "    </tr>\n",
       "    <tr>\n",
       "      <th>9</th>\n",
       "      <td>top_floor_rest</td>\n",
       "      <td>utilitarian</td>\n",
       "      <td>2.303040</td>\n",
       "      <td>1.858520</td>\n",
       "      <td>0.444520</td>\n",
       "      <td>0.01681</td>\n",
       "      <td>26.443470</td>\n",
       "      <td>8.992806e-15</td>\n",
       "      <td>3.725488</td>\n",
       "    </tr>\n",
       "  </tbody>\n",
       "</table>\n",
       "</div>"
      ],
      "text/plain": [
       "                   A                  B   mean(A)   mean(B)      diff  \\\n",
       "0   alternative_rest               base  2.315896  2.313134  0.002761   \n",
       "1   alternative_rest  ground_floor_rest  2.315896  2.307330  0.008565   \n",
       "2   alternative_rest     top_floor_rest  2.315896  2.303040  0.012856   \n",
       "3   alternative_rest        utilitarian  2.315896  1.858520  0.457376   \n",
       "4               base  ground_floor_rest  2.313134  2.307330  0.005804   \n",
       "5               base     top_floor_rest  2.313134  2.303040  0.010094   \n",
       "6               base        utilitarian  2.313134  1.858520  0.454614   \n",
       "7  ground_floor_rest     top_floor_rest  2.307330  2.303040  0.004290   \n",
       "8  ground_floor_rest        utilitarian  2.307330  1.858520  0.448810   \n",
       "9     top_floor_rest        utilitarian  2.303040  1.858520  0.444520   \n",
       "\n",
       "        se          T       p-tukey    hedges  \n",
       "0  0.01681   0.164270  9.998364e-01  0.023143  \n",
       "1  0.01681   0.509541  9.864128e-01  0.071787  \n",
       "2  0.01681   0.764749  9.405464e-01  0.107742  \n",
       "3  0.01681  27.208219  8.992806e-15  3.833230  \n",
       "4  0.01681   0.345271  9.969428e-01  0.048643  \n",
       "5  0.01681   0.600479  9.749810e-01  0.084599  \n",
       "6  0.01681  27.043949  8.992806e-15  3.810087  \n",
       "7  0.01681   0.255208  9.990641e-01  0.035955  \n",
       "8  0.01681  26.698678  8.992806e-15  3.761443  \n",
       "9  0.01681  26.443470  8.992806e-15  3.725488  "
      ]
     },
     "metadata": {},
     "output_type": "display_data"
    }
   ],
   "source": [
    "occupancy_total = pd.DataFrame()\n",
    "\n",
    "for strategy_name, d in DATA.items():\n",
    "    print(f\"Strategy: {strategy_name}\")\n",
    "    people_in_elevator = d[\"elevator\"].sum().to_frame().transpose()\n",
    "    t = np.array(people_in_elevator.columns.get_level_values(1))\n",
    "    t_1 = np.append(people_in_elevator.columns.get_level_values(1)[1:], 0)\n",
    "    time_active = t_1 - t\n",
    "    time_active[time_active < 0] = (np.maximum(SIMULATION_TIME - t, 0))[time_active < 0]\n",
    "    time_active = np.minimum(time_active, SIMULATION_TIME)\n",
    "    elevator_times_time = people_in_elevator * time_active\n",
    "    average_people_in_elevator_per_iteration = elevator_times_time.groupby([\"iteration\"], axis=1).sum()/SIMULATION_TIME\n",
    "    average_people_in_line_per_floor = float(average_people_in_elevator_per_iteration.mean(axis=1)) # Hier moet dan ook nog een statistische test ofzo\n",
    "\n",
    "    occupancy_total.loc[:, strategy_name] = average_people_in_elevator_per_iteration.transpose()[0]\n",
    "    average_people_in_elevator_per_iteration = average_people_in_elevator_per_iteration.groupby(average_people_in_elevator_per_iteration.columns%20, axis=1).mean()\n",
    "    plt.hist(average_people_in_elevator_per_iteration.iloc[0], density=True)\n",
    "    plt.title(f\"Average elevator occupancy ({strategy_name} strategy)\")\n",
    "    _mean, _std = sts.norm.fit(average_people_in_elevator_per_iteration.iloc[0])\n",
    "    plt.plot(\n",
    "        np.arange(\n",
    "            average_people_in_elevator_per_iteration.iloc[0].mean() - 3 * average_people_in_elevator_per_iteration.iloc[0].std(), \n",
    "            average_people_in_elevator_per_iteration.iloc[0].mean() + 3 * average_people_in_elevator_per_iteration.iloc[0].std(), \n",
    "            0.001),\n",
    "        sts.norm.pdf(np.arange(\n",
    "            average_people_in_elevator_per_iteration.iloc[0].mean() - 3 * average_people_in_elevator_per_iteration.iloc[0].std(), \n",
    "            average_people_in_elevator_per_iteration.iloc[0].mean() + 3 * average_people_in_elevator_per_iteration.iloc[0].std(),\n",
    "            0.001),\n",
    "            _mean,\n",
    "            _std\n",
    "        ))\n",
    "    plt.show()\n",
    "    print(f\"Jaque Bera (p-value, {strategy_name} strategy): {sts.jarque_bera(average_people_in_elevator_per_iteration.iloc[0]).pvalue}\")\n",
    "\n",
    "    display(f\"Average elevator occupancy: {average_people_in_line_per_floor}\")\n",
    "\n",
    "\n",
    "plt.boxplot(occupancy_total, labels=occupancy_total.columns)\n",
    "plt.title(\"Average Occupancy\")\n",
    "plt.xlabel(\"Strategy\")\n",
    "plt.ylabel(\"Average Occupancy\")\n",
    "plt.show()\n",
    "\n",
    "_test_df = occupancy_total.stack().reset_index()\n",
    "\n",
    "print(\"Levene:\")\n",
    "hom_test = pg.homoscedasticity(_test_df, dv=0, group=\"level_1\")\n",
    "display(hom_test)\n",
    "\n",
    "if hom_test[\"equal_var\"].iloc[0]:\n",
    "    print(\"ANOVA:\")\n",
    "    display(pg.anova(_test_df, dv=0, between=\"level_1\", detailed=True))\n",
    "else:\n",
    "    print(\"Welch ANOVA:\")\n",
    "    display(pg.welch_anova(_test_df, dv=0, between=\"level_1\"))\n",
    "\n",
    "print(\"Pairwise t-test:\")\n",
    "display(pg.pairwise_tukey(_test_df, dv=0, between=\"level_1\"))"
   ]
  },
  {
   "cell_type": "markdown",
   "metadata": {},
   "source": [
    "## Average waiting time (line)\n",
    "M'n idee om dit te berekenen gaat als volgt:\n",
    "1. Omdat de gemiddelde tijd dat je ergens moet wachten niet afhankelijk is van hoe laat je er komt, maar hoe lang hij is in de situatie.\n",
    "2. Dus als ik een manier kan bedenken om te meten hoe lang hij in elke situatie zit, dan kan je daar het gemiddelde van nemen (afhankelijk van hoe lang hij in elke situatie zit).\n",
    "3. Dit kan je doen voor de wachtenden en de lift, dan kan je daarna dat bij elkaar optellen om de gemiddelde wachttijd te berekenen."
   ]
  },
  {
   "cell_type": "code",
   "execution_count": 41,
   "metadata": {},
   "outputs": [
    {
     "name": "stdout",
     "output_type": "stream",
     "text": [
      "Strategy: utilitarian\n"
     ]
    },
    {
     "data": {
      "image/png": "[encoded data removed]",
      "text/plain": [
       "<Figure size 432x288 with 1 Axes>"
      ]
     },
     "metadata": {
      "needs_background": "light"
     },
     "output_type": "display_data"
    },
    {
     "name": "stdout",
     "output_type": "stream",
     "text": [
      "Jaque Bera (p-value, utilitarian strategy): 0.0\n"
     ]
    },
    {
     "data": {
      "text/plain": [
       "'Average waiting time (s): 89.08671979083863'"
      ]
     },
     "metadata": {},
     "output_type": "display_data"
    },
    {
     "name": "stdout",
     "output_type": "stream",
     "text": [
      "Strategy: base\n"
     ]
    },
    {
     "data": {
      "image/png": "[encoded data removed]",
      "text/plain": [
       "<Figure size 432x288 with 1 Axes>"
      ]
     },
     "metadata": {
      "needs_background": "light"
     },
     "output_type": "display_data"
    },
    {
     "name": "stdout",
     "output_type": "stream",
     "text": [
      "Jaque Bera (p-value, base strategy): 0.0\n"
     ]
    },
    {
     "data": {
      "text/plain": [
       "'Average waiting time (s): 49.475472687592685'"
      ]
     },
     "metadata": {},
     "output_type": "display_data"
    },
    {
     "name": "stdout",
     "output_type": "stream",
     "text": [
      "Strategy: top_floor_rest\n"
     ]
    },
    {
     "data": {
      "image/png": "[encoded data removed]",
      "text/plain": [
       "<Figure size 432x288 with 1 Axes>"
      ]
     },
     "metadata": {
      "needs_background": "light"
     },
     "output_type": "display_data"
    },
    {
     "name": "stdout",
     "output_type": "stream",
     "text": [
      "Jaque Bera (p-value, top_floor_rest strategy): 0.5804813172878068\n"
     ]
    },
    {
     "data": {
      "text/plain": [
       "'Average waiting time (s): 49.52351705714548'"
      ]
     },
     "metadata": {},
     "output_type": "display_data"
    },
    {
     "name": "stdout",
     "output_type": "stream",
     "text": [
      "Strategy: ground_floor_rest\n"
     ]
    },
    {
     "data": {
      "image/png": "[encoded data removed]",
      "text/plain": [
       "<Figure size 432x288 with 1 Axes>"
      ]
     },
     "metadata": {
      "needs_background": "light"
     },
     "output_type": "display_data"
    },
    {
     "name": "stdout",
     "output_type": "stream",
     "text": [
      "Jaque Bera (p-value, ground_floor_rest strategy): 0.05430863607229508\n"
     ]
    },
    {
     "data": {
      "text/plain": [
       "'Average waiting time (s): 49.43475623317006'"
      ]
     },
     "metadata": {},
     "output_type": "display_data"
    },
    {
     "name": "stdout",
     "output_type": "stream",
     "text": [
      "Strategy: alternative_rest\n"
     ]
    },
    {
     "data": {
      "image/png": "[encoded data removed]",
      "text/plain": [
       "<Figure size 432x288 with 1 Axes>"
      ]
     },
     "metadata": {
      "needs_background": "light"
     },
     "output_type": "display_data"
    },
    {
     "name": "stdout",
     "output_type": "stream",
     "text": [
      "Jaque Bera (p-value, alternative_rest strategy): 0.0\n"
     ]
    },
    {
     "data": {
      "text/plain": [
       "'Average waiting time (s): 49.54719925520714'"
      ]
     },
     "metadata": {},
     "output_type": "display_data"
    },
    {
     "data": {
      "image/png": "[encoded data removed]",
      "text/plain": [
       "<Figure size 432x288 with 1 Axes>"
      ]
     },
     "metadata": {
      "needs_background": "light"
     },
     "output_type": "display_data"
    },
    {
     "name": "stdout",
     "output_type": "stream",
     "text": [
      "Levene:\n"
     ]
    },
    {
     "data": {
      "text/html": [
       "<div>\n",
       "<style scoped>\n",
       "    .dataframe tbody tr th:only-of-type {\n",
       "        vertical-align: middle;\n",
       "    }\n",
       "\n",
       "    .dataframe tbody tr th {\n",
       "        vertical-align: top;\n",
       "    }\n",
       "\n",
       "    .dataframe thead th {\n",
       "        text-align: right;\n",
       "    }\n",
       "</style>\n",
       "<table border=\"1\" class=\"dataframe\">\n",
       "  <thead>\n",
       "    <tr style=\"text-align: right;\">\n",
       "      <th></th>\n",
       "      <th>W</th>\n",
       "      <th>pval</th>\n",
       "      <th>equal_var</th>\n",
       "    </tr>\n",
       "  </thead>\n",
       "  <tbody>\n",
       "    <tr>\n",
       "      <th>levene</th>\n",
       "      <td>37.732848</td>\n",
       "      <td>1.456359e-27</td>\n",
       "      <td>False</td>\n",
       "    </tr>\n",
       "  </tbody>\n",
       "</table>\n",
       "</div>"
      ],
      "text/plain": [
       "                W          pval  equal_var\n",
       "levene  37.732848  1.456359e-27      False"
      ]
     },
     "metadata": {},
     "output_type": "display_data"
    },
    {
     "name": "stdout",
     "output_type": "stream",
     "text": [
      "Welch ANOVA:\n"
     ]
    },
    {
     "data": {
      "text/html": [
       "<div>\n",
       "<style scoped>\n",
       "    .dataframe tbody tr th:only-of-type {\n",
       "        vertical-align: middle;\n",
       "    }\n",
       "\n",
       "    .dataframe tbody tr th {\n",
       "        vertical-align: top;\n",
       "    }\n",
       "\n",
       "    .dataframe thead th {\n",
       "        text-align: right;\n",
       "    }\n",
       "</style>\n",
       "<table border=\"1\" class=\"dataframe\">\n",
       "  <thead>\n",
       "    <tr style=\"text-align: right;\">\n",
       "      <th></th>\n",
       "      <th>Source</th>\n",
       "      <th>ddof1</th>\n",
       "      <th>ddof2</th>\n",
       "      <th>F</th>\n",
       "      <th>p-unc</th>\n",
       "      <th>np2</th>\n",
       "    </tr>\n",
       "  </thead>\n",
       "  <tbody>\n",
       "    <tr>\n",
       "      <th>0</th>\n",
       "      <td>level_1</td>\n",
       "      <td>4</td>\n",
       "      <td>243.334513</td>\n",
       "      <td>77.321183</td>\n",
       "      <td>3.153904e-42</td>\n",
       "      <td>0.707596</td>\n",
       "    </tr>\n",
       "  </tbody>\n",
       "</table>\n",
       "</div>"
      ],
      "text/plain": [
       "    Source  ddof1       ddof2          F         p-unc       np2\n",
       "0  level_1      4  243.334513  77.321183  3.153904e-42  0.707596"
      ]
     },
     "metadata": {},
     "output_type": "display_data"
    },
    {
     "name": "stdout",
     "output_type": "stream",
     "text": [
      "Pairwise t-test:\n"
     ]
    },
    {
     "data": {
      "text/html": [
       "<div>\n",
       "<style scoped>\n",
       "    .dataframe tbody tr th:only-of-type {\n",
       "        vertical-align: middle;\n",
       "    }\n",
       "\n",
       "    .dataframe tbody tr th {\n",
       "        vertical-align: top;\n",
       "    }\n",
       "\n",
       "    .dataframe thead th {\n",
       "        text-align: right;\n",
       "    }\n",
       "</style>\n",
       "<table border=\"1\" class=\"dataframe\">\n",
       "  <thead>\n",
       "    <tr style=\"text-align: right;\">\n",
       "      <th></th>\n",
       "      <th>A</th>\n",
       "      <th>B</th>\n",
       "      <th>mean(A)</th>\n",
       "      <th>mean(B)</th>\n",
       "      <th>diff</th>\n",
       "      <th>se</th>\n",
       "      <th>T</th>\n",
       "      <th>p-tukey</th>\n",
       "      <th>hedges</th>\n",
       "    </tr>\n",
       "  </thead>\n",
       "  <tbody>\n",
       "    <tr>\n",
       "      <th>0</th>\n",
       "      <td>alternative_rest</td>\n",
       "      <td>base</td>\n",
       "      <td>49.547199</td>\n",
       "      <td>49.475473</td>\n",
       "      <td>0.071727</td>\n",
       "      <td>1.446969</td>\n",
       "      <td>0.049570</td>\n",
       "      <td>9.999986e-01</td>\n",
       "      <td>0.006984</td>\n",
       "    </tr>\n",
       "    <tr>\n",
       "      <th>1</th>\n",
       "      <td>alternative_rest</td>\n",
       "      <td>ground_floor_rest</td>\n",
       "      <td>49.547199</td>\n",
       "      <td>49.434756</td>\n",
       "      <td>0.112443</td>\n",
       "      <td>1.446969</td>\n",
       "      <td>0.077709</td>\n",
       "      <td>9.999917e-01</td>\n",
       "      <td>0.010948</td>\n",
       "    </tr>\n",
       "    <tr>\n",
       "      <th>2</th>\n",
       "      <td>alternative_rest</td>\n",
       "      <td>top_floor_rest</td>\n",
       "      <td>49.547199</td>\n",
       "      <td>49.523517</td>\n",
       "      <td>0.023682</td>\n",
       "      <td>1.446969</td>\n",
       "      <td>0.016367</td>\n",
       "      <td>1.000000e+00</td>\n",
       "      <td>0.002306</td>\n",
       "    </tr>\n",
       "    <tr>\n",
       "      <th>3</th>\n",
       "      <td>alternative_rest</td>\n",
       "      <td>utilitarian</td>\n",
       "      <td>49.547199</td>\n",
       "      <td>89.086720</td>\n",
       "      <td>-39.539521</td>\n",
       "      <td>1.446969</td>\n",
       "      <td>-27.325764</td>\n",
       "      <td>8.992806e-15</td>\n",
       "      <td>-3.849790</td>\n",
       "    </tr>\n",
       "    <tr>\n",
       "      <th>4</th>\n",
       "      <td>base</td>\n",
       "      <td>ground_floor_rest</td>\n",
       "      <td>49.475473</td>\n",
       "      <td>49.434756</td>\n",
       "      <td>0.040716</td>\n",
       "      <td>1.446969</td>\n",
       "      <td>0.028139</td>\n",
       "      <td>9.999999e-01</td>\n",
       "      <td>0.003964</td>\n",
       "    </tr>\n",
       "    <tr>\n",
       "      <th>5</th>\n",
       "      <td>base</td>\n",
       "      <td>top_floor_rest</td>\n",
       "      <td>49.475473</td>\n",
       "      <td>49.523517</td>\n",
       "      <td>-0.048044</td>\n",
       "      <td>1.446969</td>\n",
       "      <td>-0.033203</td>\n",
       "      <td>9.999997e-01</td>\n",
       "      <td>-0.004678</td>\n",
       "    </tr>\n",
       "    <tr>\n",
       "      <th>6</th>\n",
       "      <td>base</td>\n",
       "      <td>utilitarian</td>\n",
       "      <td>49.475473</td>\n",
       "      <td>89.086720</td>\n",
       "      <td>-39.611247</td>\n",
       "      <td>1.446969</td>\n",
       "      <td>-27.375334</td>\n",
       "      <td>8.992806e-15</td>\n",
       "      <td>-3.856774</td>\n",
       "    </tr>\n",
       "    <tr>\n",
       "      <th>7</th>\n",
       "      <td>ground_floor_rest</td>\n",
       "      <td>top_floor_rest</td>\n",
       "      <td>49.434756</td>\n",
       "      <td>49.523517</td>\n",
       "      <td>-0.088761</td>\n",
       "      <td>1.446969</td>\n",
       "      <td>-0.061343</td>\n",
       "      <td>9.999968e-01</td>\n",
       "      <td>-0.008642</td>\n",
       "    </tr>\n",
       "    <tr>\n",
       "      <th>8</th>\n",
       "      <td>ground_floor_rest</td>\n",
       "      <td>utilitarian</td>\n",
       "      <td>49.434756</td>\n",
       "      <td>89.086720</td>\n",
       "      <td>-39.651964</td>\n",
       "      <td>1.446969</td>\n",
       "      <td>-27.403473</td>\n",
       "      <td>8.992806e-15</td>\n",
       "      <td>-3.860738</td>\n",
       "    </tr>\n",
       "    <tr>\n",
       "      <th>9</th>\n",
       "      <td>top_floor_rest</td>\n",
       "      <td>utilitarian</td>\n",
       "      <td>49.523517</td>\n",
       "      <td>89.086720</td>\n",
       "      <td>-39.563203</td>\n",
       "      <td>1.446969</td>\n",
       "      <td>-27.342131</td>\n",
       "      <td>8.992806e-15</td>\n",
       "      <td>-3.852096</td>\n",
       "    </tr>\n",
       "  </tbody>\n",
       "</table>\n",
       "</div>"
      ],
      "text/plain": [
       "                   A                  B    mean(A)    mean(B)       diff  \\\n",
       "0   alternative_rest               base  49.547199  49.475473   0.071727   \n",
       "1   alternative_rest  ground_floor_rest  49.547199  49.434756   0.112443   \n",
       "2   alternative_rest     top_floor_rest  49.547199  49.523517   0.023682   \n",
       "3   alternative_rest        utilitarian  49.547199  89.086720 -39.539521   \n",
       "4               base  ground_floor_rest  49.475473  49.434756   0.040716   \n",
       "5               base     top_floor_rest  49.475473  49.523517  -0.048044   \n",
       "6               base        utilitarian  49.475473  89.086720 -39.611247   \n",
       "7  ground_floor_rest     top_floor_rest  49.434756  49.523517  -0.088761   \n",
       "8  ground_floor_rest        utilitarian  49.434756  89.086720 -39.651964   \n",
       "9     top_floor_rest        utilitarian  49.523517  89.086720 -39.563203   \n",
       "\n",
       "         se          T       p-tukey    hedges  \n",
       "0  1.446969   0.049570  9.999986e-01  0.006984  \n",
       "1  1.446969   0.077709  9.999917e-01  0.010948  \n",
       "2  1.446969   0.016367  1.000000e+00  0.002306  \n",
       "3  1.446969 -27.325764  8.992806e-15 -3.849790  \n",
       "4  1.446969   0.028139  9.999999e-01  0.003964  \n",
       "5  1.446969  -0.033203  9.999997e-01 -0.004678  \n",
       "6  1.446969 -27.375334  8.992806e-15 -3.856774  \n",
       "7  1.446969  -0.061343  9.999968e-01 -0.008642  \n",
       "8  1.446969 -27.403473  8.992806e-15 -3.860738  \n",
       "9  1.446969 -27.342131  8.992806e-15 -3.852096  "
      ]
     },
     "metadata": {},
     "output_type": "display_data"
    }
   ],
   "source": [
    "waiting_time_total = pd.DataFrame()\n",
    "\n",
    "\n",
    "for strategy_name, d in DATA.items():\n",
    "    print(f\"Strategy: {strategy_name}\")\n",
    "    total_people_waiting_at_time = d[\"waiting\"].sum()\n",
    "    waiting_in_line_change = total_people_waiting_at_time.diff()\n",
    "    waiting_in_line_change.loc[:, STARTING_TIME] = 0 # beginning has no change\n",
    "    only_waiting_in_line_change = waiting_in_line_change[waiting_in_line_change != 0].dropna()\n",
    "\n",
    "    positive_change = only_waiting_in_line_change[only_waiting_in_line_change > 0]\n",
    "    negative_change = only_waiting_in_line_change[only_waiting_in_line_change < 0]\n",
    "\n",
    "    for c in positive_change.unique():\n",
    "        to_concat = [positive_change]\n",
    "        for _ in range(int(c) - 1):\n",
    "            to_concat.append(positive_change[positive_change == c])\n",
    "        positive_change = pd.concat(to_concat)\n",
    "\n",
    "    positive_change.sort_index(inplace=True)\n",
    "\n",
    "    for c in negative_change.unique():\n",
    "        to_concat = [negative_change]\n",
    "        for _ in range(int(-1*c) - 1):\n",
    "            to_concat.append(negative_change[negative_change == c])\n",
    "        negative_change = pd.concat(to_concat)\n",
    "\n",
    "    positive_change.sort_index(inplace=True)\n",
    "    positive_change = positive_change.to_frame()\n",
    "    positive_change = positive_change.set_index(positive_change.groupby(level=0).cumcount(), append=True)\n",
    "    positive_change = positive_change.reset_index(level = 1)\n",
    "    negative_change.sort_index(inplace=True)\n",
    "    negative_change = negative_change.to_frame()\n",
    "    negative_change = negative_change.set_index(negative_change.groupby(level=0).cumcount(), append=True)\n",
    "    negative_change = negative_change.reset_index(level = 1)\n",
    "\n",
    "    change_times = positive_change[\"time\"].to_frame().join(negative_change[\"time\"], lsuffix=\"-p\", rsuffix=\"-n\")\n",
    "    waiting_per_iteration = (change_times[\"time-n\"] - change_times[\"time-p\"]).groupby(level=0).mean()\n",
    "        \n",
    "\n",
    "#     waiting_per_iteration = waiting_per_iteration.groupby(waiting_per_iteration.index%10).mean()\n",
    "    waiting_time_total.loc[:, strategy_name] = waiting_per_iteration\n",
    "    plt.hist(waiting_per_iteration, density=True)\n",
    "    plt.title(f\"Average waiting time ({strategy_name} strategy)\")\n",
    "    _mean, _std = sts.norm.fit(waiting_per_iteration)\n",
    "    plt.plot(\n",
    "        np.arange(\n",
    "            waiting_per_iteration.mean() - 3 * waiting_per_iteration.std(), \n",
    "            waiting_per_iteration.mean() + 3 * waiting_per_iteration.std(),\n",
    "            0.001),\n",
    "        sts.norm.pdf(np.arange(\n",
    "            waiting_per_iteration.mean() - 3 * waiting_per_iteration.std(), \n",
    "            waiting_per_iteration.mean() + 3 * waiting_per_iteration.std(),\n",
    "            0.001),\n",
    "            _mean,\n",
    "            _std\n",
    "        ))\n",
    "    plt.show()\n",
    "    print(f\"Jaque Bera (p-value, {strategy_name} strategy): {sts.jarque_bera(waiting_per_iteration).pvalue}\")\n",
    "\n",
    "    average_waiting = waiting_per_iteration.mean()\n",
    "    display(f\"Average waiting time (s): {average_waiting}\")\n",
    "\n",
    "plt.boxplot(waiting_time_total, labels=waiting_time_total.columns)\n",
    "plt.title(\"Average Waiting Time\")\n",
    "plt.xlabel(\"Strategy\")\n",
    "plt.ylabel(\"Average Waiting Time\")\n",
    "plt.show()\n",
    "\n",
    "___test_df = waiting_time_total.stack().reset_index()\n",
    "\n",
    "print(\"Levene:\")\n",
    "hom_test = pg.homoscedasticity(___test_df, dv=0, group=\"level_1\")\n",
    "display(hom_test)\n",
    "\n",
    "if hom_test[\"equal_var\"].iloc[0]:\n",
    "    print(\"ANOVA:\")\n",
    "    display(pg.anova(___test_df, dv=0, between=\"level_1\", detailed=True))\n",
    "else:\n",
    "    print(\"Welch ANOVA:\")\n",
    "    display(pg.welch_anova(___test_df, dv=0, between=\"level_1\"))\n",
    "\n",
    "print(\"Pairwise t-test:\")\n",
    "display(pg.pairwise_tukey(___test_df, dv=0, between=\"level_1\"))"
   ]
  },
  {
   "cell_type": "code",
   "execution_count": 40,
   "metadata": {},
   "outputs": [
    {
     "name": "stdout",
     "output_type": "stream",
     "text": [
      "Strategy: utilitarian\n"
     ]
    },
    {
     "data": {
      "image/png": "[encoded data removed]",
      "text/plain": [
       "<Figure size 432x288 with 1 Axes>"
      ]
     },
     "metadata": {
      "needs_background": "light"
     },
     "output_type": "display_data"
    },
    {
     "name": "stdout",
     "output_type": "stream",
     "text": [
      "Jaque Bera (p-value, utilitarian strategy): 0.6026790390051873\n"
     ]
    },
    {
     "data": {
      "text/plain": [
       "'Average travel time (s): 53.169214548345415'"
      ]
     },
     "metadata": {},
     "output_type": "display_data"
    },
    {
     "name": "stdout",
     "output_type": "stream",
     "text": [
      "Strategy: base\n"
     ]
    },
    {
     "data": {
      "image/png": "[encoded data removed]",
      "text/plain": [
       "<Figure size 432x288 with 1 Axes>"
      ]
     },
     "metadata": {
      "needs_background": "light"
     },
     "output_type": "display_data"
    },
    {
     "name": "stdout",
     "output_type": "stream",
     "text": [
      "Jaque Bera (p-value, base strategy): 0.6520402508359407\n"
     ]
    },
    {
     "data": {
      "text/plain": [
       "'Average travel time (s): 68.70121038960227'"
      ]
     },
     "metadata": {},
     "output_type": "display_data"
    },
    {
     "name": "stdout",
     "output_type": "stream",
     "text": [
      "Strategy: top_floor_rest\n"
     ]
    },
    {
     "data": {
      "image/png": "[encoded data removed]",
      "text/plain": [
       "<Figure size 432x288 with 1 Axes>"
      ]
     },
     "metadata": {
      "needs_background": "light"
     },
     "output_type": "display_data"
    },
    {
     "name": "stdout",
     "output_type": "stream",
     "text": [
      "Jaque Bera (p-value, top_floor_rest strategy): 0.5456849500722547\n"
     ]
    },
    {
     "data": {
      "text/plain": [
       "'Average travel time (s): 68.42464492038931'"
      ]
     },
     "metadata": {},
     "output_type": "display_data"
    },
    {
     "name": "stdout",
     "output_type": "stream",
     "text": [
      "Strategy: ground_floor_rest\n"
     ]
    },
    {
     "data": {
      "image/png": "[encoded data removed]",
      "text/plain": [
       "<Figure size 432x288 with 1 Axes>"
      ]
     },
     "metadata": {
      "needs_background": "light"
     },
     "output_type": "display_data"
    },
    {
     "name": "stdout",
     "output_type": "stream",
     "text": [
      "Jaque Bera (p-value, ground_floor_rest strategy): 0.6040191455789391\n"
     ]
    },
    {
     "data": {
      "text/plain": [
       "'Average travel time (s): 68.1390499055441'"
      ]
     },
     "metadata": {},
     "output_type": "display_data"
    },
    {
     "name": "stdout",
     "output_type": "stream",
     "text": [
      "Strategy: alternative_rest\n"
     ]
    },
    {
     "data": {
      "image/png": "[encoded data removed]",
      "text/plain": [
       "<Figure size 432x288 with 1 Axes>"
      ]
     },
     "metadata": {
      "needs_background": "light"
     },
     "output_type": "display_data"
    },
    {
     "name": "stdout",
     "output_type": "stream",
     "text": [
      "Jaque Bera (p-value, alternative_rest strategy): 0.9465919374959\n"
     ]
    },
    {
     "data": {
      "text/plain": [
       "'Average travel time (s): 68.58038389600054'"
      ]
     },
     "metadata": {},
     "output_type": "display_data"
    },
    {
     "data": {
      "image/png": "[encoded data removed]",
      "text/plain": [
       "<Figure size 432x288 with 1 Axes>"
      ]
     },
     "metadata": {
      "needs_background": "light"
     },
     "output_type": "display_data"
    },
    {
     "name": "stdout",
     "output_type": "stream",
     "text": [
      "Levene:\n"
     ]
    },
    {
     "data": {
      "text/html": [
       "<div>\n",
       "<style scoped>\n",
       "    .dataframe tbody tr th:only-of-type {\n",
       "        vertical-align: middle;\n",
       "    }\n",
       "\n",
       "    .dataframe tbody tr th {\n",
       "        vertical-align: top;\n",
       "    }\n",
       "\n",
       "    .dataframe thead th {\n",
       "        text-align: right;\n",
       "    }\n",
       "</style>\n",
       "<table border=\"1\" class=\"dataframe\">\n",
       "  <thead>\n",
       "    <tr style=\"text-align: right;\">\n",
       "      <th></th>\n",
       "      <th>W</th>\n",
       "      <th>pval</th>\n",
       "      <th>equal_var</th>\n",
       "    </tr>\n",
       "  </thead>\n",
       "  <tbody>\n",
       "    <tr>\n",
       "      <th>levene</th>\n",
       "      <td>0.149483</td>\n",
       "      <td>0.962808</td>\n",
       "      <td>True</td>\n",
       "    </tr>\n",
       "  </tbody>\n",
       "</table>\n",
       "</div>"
      ],
      "text/plain": [
       "               W      pval  equal_var\n",
       "levene  0.149483  0.962808       True"
      ]
     },
     "metadata": {},
     "output_type": "display_data"
    },
    {
     "name": "stdout",
     "output_type": "stream",
     "text": [
      "ANOVA:\n"
     ]
    },
    {
     "data": {
      "text/html": [
       "<div>\n",
       "<style scoped>\n",
       "    .dataframe tbody tr th:only-of-type {\n",
       "        vertical-align: middle;\n",
       "    }\n",
       "\n",
       "    .dataframe tbody tr th {\n",
       "        vertical-align: top;\n",
       "    }\n",
       "\n",
       "    .dataframe thead th {\n",
       "        text-align: right;\n",
       "    }\n",
       "</style>\n",
       "<table border=\"1\" class=\"dataframe\">\n",
       "  <thead>\n",
       "    <tr style=\"text-align: right;\">\n",
       "      <th></th>\n",
       "      <th>Source</th>\n",
       "      <th>SS</th>\n",
       "      <th>DF</th>\n",
       "      <th>MS</th>\n",
       "      <th>F</th>\n",
       "      <th>p-unc</th>\n",
       "      <th>np2</th>\n",
       "    </tr>\n",
       "  </thead>\n",
       "  <tbody>\n",
       "    <tr>\n",
       "      <th>0</th>\n",
       "      <td>level_1</td>\n",
       "      <td>3745.115475</td>\n",
       "      <td>4</td>\n",
       "      <td>936.278869</td>\n",
       "      <td>981.928439</td>\n",
       "      <td>2.528084e-76</td>\n",
       "      <td>0.976384</td>\n",
       "    </tr>\n",
       "    <tr>\n",
       "      <th>1</th>\n",
       "      <td>Within</td>\n",
       "      <td>90.583477</td>\n",
       "      <td>95</td>\n",
       "      <td>0.953510</td>\n",
       "      <td>NaN</td>\n",
       "      <td>NaN</td>\n",
       "      <td>NaN</td>\n",
       "    </tr>\n",
       "  </tbody>\n",
       "</table>\n",
       "</div>"
      ],
      "text/plain": [
       "    Source           SS  DF          MS           F         p-unc       np2\n",
       "0  level_1  3745.115475   4  936.278869  981.928439  2.528084e-76  0.976384\n",
       "1   Within    90.583477  95    0.953510         NaN           NaN       NaN"
      ]
     },
     "metadata": {},
     "output_type": "display_data"
    },
    {
     "name": "stdout",
     "output_type": "stream",
     "text": [
      "Pairwise t-test:\n"
     ]
    },
    {
     "data": {
      "text/html": [
       "<div>\n",
       "<style scoped>\n",
       "    .dataframe tbody tr th:only-of-type {\n",
       "        vertical-align: middle;\n",
       "    }\n",
       "\n",
       "    .dataframe tbody tr th {\n",
       "        vertical-align: top;\n",
       "    }\n",
       "\n",
       "    .dataframe thead th {\n",
       "        text-align: right;\n",
       "    }\n",
       "</style>\n",
       "<table border=\"1\" class=\"dataframe\">\n",
       "  <thead>\n",
       "    <tr style=\"text-align: right;\">\n",
       "      <th></th>\n",
       "      <th>A</th>\n",
       "      <th>B</th>\n",
       "      <th>mean(A)</th>\n",
       "      <th>mean(B)</th>\n",
       "      <th>diff</th>\n",
       "      <th>se</th>\n",
       "      <th>T</th>\n",
       "      <th>p-tukey</th>\n",
       "      <th>hedges</th>\n",
       "    </tr>\n",
       "  </thead>\n",
       "  <tbody>\n",
       "    <tr>\n",
       "      <th>0</th>\n",
       "      <td>alternative_rest</td>\n",
       "      <td>base</td>\n",
       "      <td>68.580384</td>\n",
       "      <td>68.701210</td>\n",
       "      <td>-0.120826</td>\n",
       "      <td>0.30879</td>\n",
       "      <td>-0.391291</td>\n",
       "      <td>9.949637e-01</td>\n",
       "      <td>-0.121279</td>\n",
       "    </tr>\n",
       "    <tr>\n",
       "      <th>1</th>\n",
       "      <td>alternative_rest</td>\n",
       "      <td>ground_floor_rest</td>\n",
       "      <td>68.580384</td>\n",
       "      <td>68.139050</td>\n",
       "      <td>0.441334</td>\n",
       "      <td>0.30879</td>\n",
       "      <td>1.429238</td>\n",
       "      <td>6.105067e-01</td>\n",
       "      <td>0.442985</td>\n",
       "    </tr>\n",
       "    <tr>\n",
       "      <th>2</th>\n",
       "      <td>alternative_rest</td>\n",
       "      <td>top_floor_rest</td>\n",
       "      <td>68.580384</td>\n",
       "      <td>68.424645</td>\n",
       "      <td>0.155739</td>\n",
       "      <td>0.30879</td>\n",
       "      <td>0.504353</td>\n",
       "      <td>9.867552e-01</td>\n",
       "      <td>0.156322</td>\n",
       "    </tr>\n",
       "    <tr>\n",
       "      <th>3</th>\n",
       "      <td>alternative_rest</td>\n",
       "      <td>utilitarian</td>\n",
       "      <td>68.580384</td>\n",
       "      <td>53.169215</td>\n",
       "      <td>15.411169</td>\n",
       "      <td>0.30879</td>\n",
       "      <td>49.908314</td>\n",
       "      <td>8.770762e-15</td>\n",
       "      <td>15.468837</td>\n",
       "    </tr>\n",
       "    <tr>\n",
       "      <th>4</th>\n",
       "      <td>base</td>\n",
       "      <td>ground_floor_rest</td>\n",
       "      <td>68.701210</td>\n",
       "      <td>68.139050</td>\n",
       "      <td>0.562160</td>\n",
       "      <td>0.30879</td>\n",
       "      <td>1.820529</td>\n",
       "      <td>3.679828e-01</td>\n",
       "      <td>0.564264</td>\n",
       "    </tr>\n",
       "    <tr>\n",
       "      <th>5</th>\n",
       "      <td>base</td>\n",
       "      <td>top_floor_rest</td>\n",
       "      <td>68.701210</td>\n",
       "      <td>68.424645</td>\n",
       "      <td>0.276565</td>\n",
       "      <td>0.30879</td>\n",
       "      <td>0.895644</td>\n",
       "      <td>8.978513e-01</td>\n",
       "      <td>0.277600</td>\n",
       "    </tr>\n",
       "    <tr>\n",
       "      <th>6</th>\n",
       "      <td>base</td>\n",
       "      <td>utilitarian</td>\n",
       "      <td>68.701210</td>\n",
       "      <td>53.169215</td>\n",
       "      <td>15.531996</td>\n",
       "      <td>0.30879</td>\n",
       "      <td>50.299605</td>\n",
       "      <td>8.770762e-15</td>\n",
       "      <td>15.590116</td>\n",
       "    </tr>\n",
       "    <tr>\n",
       "      <th>7</th>\n",
       "      <td>ground_floor_rest</td>\n",
       "      <td>top_floor_rest</td>\n",
       "      <td>68.139050</td>\n",
       "      <td>68.424645</td>\n",
       "      <td>-0.285595</td>\n",
       "      <td>0.30879</td>\n",
       "      <td>-0.924885</td>\n",
       "      <td>8.866033e-01</td>\n",
       "      <td>-0.286664</td>\n",
       "    </tr>\n",
       "    <tr>\n",
       "      <th>8</th>\n",
       "      <td>ground_floor_rest</td>\n",
       "      <td>utilitarian</td>\n",
       "      <td>68.139050</td>\n",
       "      <td>53.169215</td>\n",
       "      <td>14.969835</td>\n",
       "      <td>0.30879</td>\n",
       "      <td>48.479076</td>\n",
       "      <td>8.770762e-15</td>\n",
       "      <td>15.025852</td>\n",
       "    </tr>\n",
       "    <tr>\n",
       "      <th>9</th>\n",
       "      <td>top_floor_rest</td>\n",
       "      <td>utilitarian</td>\n",
       "      <td>68.424645</td>\n",
       "      <td>53.169215</td>\n",
       "      <td>15.255430</td>\n",
       "      <td>0.30879</td>\n",
       "      <td>49.403961</td>\n",
       "      <td>8.770762e-15</td>\n",
       "      <td>15.312515</td>\n",
       "    </tr>\n",
       "  </tbody>\n",
       "</table>\n",
       "</div>"
      ],
      "text/plain": [
       "                   A                  B    mean(A)    mean(B)       diff  \\\n",
       "0   alternative_rest               base  68.580384  68.701210  -0.120826   \n",
       "1   alternative_rest  ground_floor_rest  68.580384  68.139050   0.441334   \n",
       "2   alternative_rest     top_floor_rest  68.580384  68.424645   0.155739   \n",
       "3   alternative_rest        utilitarian  68.580384  53.169215  15.411169   \n",
       "4               base  ground_floor_rest  68.701210  68.139050   0.562160   \n",
       "5               base     top_floor_rest  68.701210  68.424645   0.276565   \n",
       "6               base        utilitarian  68.701210  53.169215  15.531996   \n",
       "7  ground_floor_rest     top_floor_rest  68.139050  68.424645  -0.285595   \n",
       "8  ground_floor_rest        utilitarian  68.139050  53.169215  14.969835   \n",
       "9     top_floor_rest        utilitarian  68.424645  53.169215  15.255430   \n",
       "\n",
       "        se          T       p-tukey     hedges  \n",
       "0  0.30879  -0.391291  9.949637e-01  -0.121279  \n",
       "1  0.30879   1.429238  6.105067e-01   0.442985  \n",
       "2  0.30879   0.504353  9.867552e-01   0.156322  \n",
       "3  0.30879  49.908314  8.770762e-15  15.468837  \n",
       "4  0.30879   1.820529  3.679828e-01   0.564264  \n",
       "5  0.30879   0.895644  8.978513e-01   0.277600  \n",
       "6  0.30879  50.299605  8.770762e-15  15.590116  \n",
       "7  0.30879  -0.924885  8.866033e-01  -0.286664  \n",
       "8  0.30879  48.479076  8.770762e-15  15.025852  \n",
       "9  0.30879  49.403961  8.770762e-15  15.312515  "
      ]
     },
     "metadata": {},
     "output_type": "display_data"
    }
   ],
   "source": [
    "travel_time_total = pd.DataFrame()\n",
    "\n",
    "\n",
    "for strategy_name, d in DATA.items():\n",
    "    print(f\"Strategy: {strategy_name}\")\n",
    "    total_people_waiting_at_time = d[\"elevator\"].sum()\n",
    "    waiting_in_line_change = total_people_waiting_at_time.diff()\n",
    "    waiting_in_line_change.loc[:, STARTING_TIME] = 0 # beginning has no change\n",
    "    only_waiting_in_line_change = waiting_in_line_change[waiting_in_line_change != 0].dropna()\n",
    "\n",
    "    positive_change = only_waiting_in_line_change[only_waiting_in_line_change > 0]\n",
    "    negative_change = only_waiting_in_line_change[only_waiting_in_line_change < 0]\n",
    "\n",
    "    for c in positive_change.unique():\n",
    "        to_concat = [positive_change]\n",
    "        for _ in range(int(c) - 1):\n",
    "            to_concat.append(positive_change[positive_change == c])\n",
    "        positive_change = pd.concat(to_concat)\n",
    "\n",
    "    positive_change.sort_index(inplace=True)\n",
    "\n",
    "    for c in negative_change.unique():\n",
    "        to_concat = [negative_change]\n",
    "        for _ in range(int(-1*c) - 1):\n",
    "            to_concat.append(negative_change[negative_change == c])\n",
    "        negative_change = pd.concat(to_concat)\n",
    "\n",
    "    positive_change.sort_index(inplace=True)\n",
    "    positive_change = positive_change.to_frame()\n",
    "    positive_change = positive_change.set_index(positive_change.groupby(level=0).cumcount(), append=True)\n",
    "    positive_change = positive_change.reset_index(level = 1)\n",
    "    negative_change.sort_index(inplace=True)\n",
    "    negative_change = negative_change.to_frame()\n",
    "    negative_change = negative_change.set_index(negative_change.groupby(level=0).cumcount(), append=True)\n",
    "    negative_change = negative_change.reset_index(level = 1)\n",
    "\n",
    "    change_times = positive_change[\"time\"].to_frame().join(negative_change[\"time\"], lsuffix=\"-p\", rsuffix=\"-n\")\n",
    "    waiting_per_iteration = (change_times[\"time-n\"] - change_times[\"time-p\"]).groupby(level=0).mean()\n",
    "        \n",
    "#     waiting_per_iteration = waiting_per_iteration.groupby(waiting_per_iteration.index%20).mean()\n",
    "    travel_time_total.loc[:, strategy_name] = waiting_per_iteration\n",
    "    plt.hist(waiting_per_iteration, density=True)\n",
    "    plt.title(f\"Average travel time ({strategy_name} strategy)\")\n",
    "    _mean, _std = sts.norm.fit(waiting_per_iteration)\n",
    "    plt.plot(\n",
    "        np.arange(\n",
    "            waiting_per_iteration.mean() - 3 * waiting_per_iteration.std(), \n",
    "            waiting_per_iteration.mean() + 3 * waiting_per_iteration.std(),\n",
    "            0.001),\n",
    "        sts.norm.pdf(np.arange(\n",
    "            waiting_per_iteration.mean() - 3 * waiting_per_iteration.std(), \n",
    "            waiting_per_iteration.mean() + 3 * waiting_per_iteration.std(),\n",
    "            0.001),\n",
    "            _mean,\n",
    "            _std\n",
    "        ))\n",
    "    plt.show()\n",
    "    print(f\"Jaque Bera (p-value, {strategy_name} strategy): {sts.jarque_bera(waiting_per_iteration).pvalue}\")\n",
    "\n",
    "    average_waiting = waiting_per_iteration.mean()\n",
    "    display(f\"Average travel time (s): {average_waiting}\")\n",
    "\n",
    "plt.boxplot(travel_time_total, labels=travel_time_total.columns)\n",
    "plt.title(\"Average Travel Time\")\n",
    "plt.xlabel(\"Strategy\")\n",
    "plt.ylabel(\"Average Travel Time\")\n",
    "plt.show()\n",
    "\n",
    "___test_df = travel_time_total.stack().reset_index()\n",
    "\n",
    "print(\"Levene:\")\n",
    "hom_test = pg.homoscedasticity(___test_df, dv=0, group=\"level_1\")\n",
    "display(hom_test)\n",
    "\n",
    "if hom_test[\"equal_var\"].iloc[0]:\n",
    "    print(\"ANOVA:\")\n",
    "    display(pg.anova(___test_df, dv=0, between=\"level_1\", detailed=True))\n",
    "else:\n",
    "    print(\"Welch ANOVA:\")\n",
    "    display(pg.welch_anova(___test_df, dv=0, between=\"level_1\"))\n",
    "\n",
    "print(\"Pairwise t-test:\")\n",
    "display(pg.pairwise_tukey(___test_df, dv=0, between=\"level_1\"))"
   ]
  },
  {
   "cell_type": "markdown",
   "metadata": {},
   "source": [
    "## System time"
   ]
  },
  {
   "cell_type": "code",
   "execution_count": 44,
   "metadata": {},
   "outputs": [
    {
     "data": {
      "image/png": "[encoded data removed]",
      "text/plain": [
       "<Figure size 432x288 with 1 Axes>"
      ]
     },
     "metadata": {
      "needs_background": "light"
     },
     "output_type": "display_data"
    },
    {
     "name": "stdout",
     "output_type": "stream",
     "text": [
      "Jaque Bera (p-value, utilitarian strategy): 0.020954847505741503\n"
     ]
    },
    {
     "data": {
      "text/plain": [
       "'Average waiting time (s): 150.1493447516759'"
      ]
     },
     "metadata": {},
     "output_type": "display_data"
    },
    {
     "data": {
      "image/png": "[encoded data removed]",
      "text/plain": [
       "<Figure size 432x288 with 1 Axes>"
      ]
     },
     "metadata": {
      "needs_background": "light"
     },
     "output_type": "display_data"
    },
    {
     "name": "stdout",
     "output_type": "stream",
     "text": [
      "Jaque Bera (p-value, base strategy): 0.8487794187734314\n"
     ]
    },
    {
     "data": {
      "text/plain": [
       "'Average waiting time (s): 118.06658595094629'"
      ]
     },
     "metadata": {},
     "output_type": "display_data"
    },
    {
     "data": {
      "image/png": "[encoded data removed]",
      "text/plain": [
       "<Figure size 432x288 with 1 Axes>"
      ]
     },
     "metadata": {
      "needs_background": "light"
     },
     "output_type": "display_data"
    },
    {
     "name": "stdout",
     "output_type": "stream",
     "text": [
      "Jaque Bera (p-value, top_floor_rest strategy): 0.8113241579104276\n"
     ]
    },
    {
     "data": {
      "text/plain": [
       "'Average waiting time (s): 118.07170461617716'"
      ]
     },
     "metadata": {},
     "output_type": "display_data"
    },
    {
     "data": {
      "image/png": "[encoded data removed]",
      "text/plain": [
       "<Figure size 432x288 with 1 Axes>"
      ]
     },
     "metadata": {
      "needs_background": "light"
     },
     "output_type": "display_data"
    },
    {
     "name": "stdout",
     "output_type": "stream",
     "text": [
      "Jaque Bera (p-value, ground_floor_rest strategy): 0.7364218763429151\n"
     ]
    },
    {
     "data": {
      "text/plain": [
       "'Average waiting time (s): 117.99370217391488'"
      ]
     },
     "metadata": {},
     "output_type": "display_data"
    },
    {
     "data": {
      "image/png": "[encoded data removed]",
      "text/plain": [
       "<Figure size 432x288 with 1 Axes>"
      ]
     },
     "metadata": {
      "needs_background": "light"
     },
     "output_type": "display_data"
    },
    {
     "name": "stdout",
     "output_type": "stream",
     "text": [
      "Jaque Bera (p-value, alternative_rest strategy): 0.5474364204656399\n"
     ]
    },
    {
     "data": {
      "text/plain": [
       "'Average waiting time (s): 117.5204698893779'"
      ]
     },
     "metadata": {},
     "output_type": "display_data"
    },
    {
     "data": {
      "image/png": "[encoded data removed]",
      "text/plain": [
       "<Figure size 432x288 with 1 Axes>"
      ]
     },
     "metadata": {
      "needs_background": "light"
     },
     "output_type": "display_data"
    },
    {
     "name": "stdout",
     "output_type": "stream",
     "text": [
      "Levene:\n"
     ]
    },
    {
     "data": {
      "text/html": [
       "<div>\n",
       "<style scoped>\n",
       "    .dataframe tbody tr th:only-of-type {\n",
       "        vertical-align: middle;\n",
       "    }\n",
       "\n",
       "    .dataframe tbody tr th {\n",
       "        vertical-align: top;\n",
       "    }\n",
       "\n",
       "    .dataframe thead th {\n",
       "        text-align: right;\n",
       "    }\n",
       "</style>\n",
       "<table border=\"1\" class=\"dataframe\">\n",
       "  <thead>\n",
       "    <tr style=\"text-align: right;\">\n",
       "      <th></th>\n",
       "      <th>W</th>\n",
       "      <th>pval</th>\n",
       "      <th>equal_var</th>\n",
       "    </tr>\n",
       "  </thead>\n",
       "  <tbody>\n",
       "    <tr>\n",
       "      <th>levene</th>\n",
       "      <td>3.154622</td>\n",
       "      <td>0.022778</td>\n",
       "      <td>False</td>\n",
       "    </tr>\n",
       "  </tbody>\n",
       "</table>\n",
       "</div>"
      ],
      "text/plain": [
       "               W      pval  equal_var\n",
       "levene  3.154622  0.022778      False"
      ]
     },
     "metadata": {},
     "output_type": "display_data"
    },
    {
     "name": "stdout",
     "output_type": "stream",
     "text": [
      "Welch ANOVA:\n"
     ]
    },
    {
     "data": {
      "text/html": [
       "<div>\n",
       "<style scoped>\n",
       "    .dataframe tbody tr th:only-of-type {\n",
       "        vertical-align: middle;\n",
       "    }\n",
       "\n",
       "    .dataframe tbody tr th {\n",
       "        vertical-align: top;\n",
       "    }\n",
       "\n",
       "    .dataframe thead th {\n",
       "        text-align: right;\n",
       "    }\n",
       "</style>\n",
       "<table border=\"1\" class=\"dataframe\">\n",
       "  <thead>\n",
       "    <tr style=\"text-align: right;\">\n",
       "      <th></th>\n",
       "      <th>Source</th>\n",
       "      <th>ddof1</th>\n",
       "      <th>ddof2</th>\n",
       "      <th>F</th>\n",
       "      <th>p-unc</th>\n",
       "      <th>np2</th>\n",
       "    </tr>\n",
       "  </thead>\n",
       "  <tbody>\n",
       "    <tr>\n",
       "      <th>0</th>\n",
       "      <td>level_1</td>\n",
       "      <td>4</td>\n",
       "      <td>21.799877</td>\n",
       "      <td>5.004478</td>\n",
       "      <td>0.005128</td>\n",
       "      <td>0.643335</td>\n",
       "    </tr>\n",
       "  </tbody>\n",
       "</table>\n",
       "</div>"
      ],
      "text/plain": [
       "    Source  ddof1      ddof2         F     p-unc       np2\n",
       "0  level_1      4  21.799877  5.004478  0.005128  0.643335"
      ]
     },
     "metadata": {},
     "output_type": "display_data"
    },
    {
     "name": "stdout",
     "output_type": "stream",
     "text": [
      "Pairwise t-test:\n"
     ]
    },
    {
     "data": {
      "text/html": [
       "<div>\n",
       "<style scoped>\n",
       "    .dataframe tbody tr th:only-of-type {\n",
       "        vertical-align: middle;\n",
       "    }\n",
       "\n",
       "    .dataframe tbody tr th {\n",
       "        vertical-align: top;\n",
       "    }\n",
       "\n",
       "    .dataframe thead th {\n",
       "        text-align: right;\n",
       "    }\n",
       "</style>\n",
       "<table border=\"1\" class=\"dataframe\">\n",
       "  <thead>\n",
       "    <tr style=\"text-align: right;\">\n",
       "      <th></th>\n",
       "      <th>A</th>\n",
       "      <th>B</th>\n",
       "      <th>mean(A)</th>\n",
       "      <th>mean(B)</th>\n",
       "      <th>diff</th>\n",
       "      <th>se</th>\n",
       "      <th>T</th>\n",
       "      <th>p-tukey</th>\n",
       "      <th>hedges</th>\n",
       "    </tr>\n",
       "  </thead>\n",
       "  <tbody>\n",
       "    <tr>\n",
       "      <th>0</th>\n",
       "      <td>alternative_rest</td>\n",
       "      <td>base</td>\n",
       "      <td>117.520470</td>\n",
       "      <td>118.066586</td>\n",
       "      <td>-0.546116</td>\n",
       "      <td>4.526522</td>\n",
       "      <td>-0.120648</td>\n",
       "      <td>9.999502e-01</td>\n",
       "      <td>-0.051676</td>\n",
       "    </tr>\n",
       "    <tr>\n",
       "      <th>1</th>\n",
       "      <td>alternative_rest</td>\n",
       "      <td>ground_floor_rest</td>\n",
       "      <td>117.520470</td>\n",
       "      <td>117.993702</td>\n",
       "      <td>-0.473232</td>\n",
       "      <td>4.526522</td>\n",
       "      <td>-0.104547</td>\n",
       "      <td>9.999719e-01</td>\n",
       "      <td>-0.044779</td>\n",
       "    </tr>\n",
       "    <tr>\n",
       "      <th>2</th>\n",
       "      <td>alternative_rest</td>\n",
       "      <td>top_floor_rest</td>\n",
       "      <td>117.520470</td>\n",
       "      <td>118.071705</td>\n",
       "      <td>-0.551235</td>\n",
       "      <td>4.526522</td>\n",
       "      <td>-0.121779</td>\n",
       "      <td>9.999483e-01</td>\n",
       "      <td>-0.052160</td>\n",
       "    </tr>\n",
       "    <tr>\n",
       "      <th>3</th>\n",
       "      <td>alternative_rest</td>\n",
       "      <td>utilitarian</td>\n",
       "      <td>117.520470</td>\n",
       "      <td>150.149345</td>\n",
       "      <td>-32.628875</td>\n",
       "      <td>4.526522</td>\n",
       "      <td>-7.208377</td>\n",
       "      <td>4.928183e-08</td>\n",
       "      <td>-3.087472</td>\n",
       "    </tr>\n",
       "    <tr>\n",
       "      <th>4</th>\n",
       "      <td>base</td>\n",
       "      <td>ground_floor_rest</td>\n",
       "      <td>118.066586</td>\n",
       "      <td>117.993702</td>\n",
       "      <td>0.072884</td>\n",
       "      <td>4.526522</td>\n",
       "      <td>0.016101</td>\n",
       "      <td>1.000000e+00</td>\n",
       "      <td>0.006897</td>\n",
       "    </tr>\n",
       "    <tr>\n",
       "      <th>5</th>\n",
       "      <td>base</td>\n",
       "      <td>top_floor_rest</td>\n",
       "      <td>118.066586</td>\n",
       "      <td>118.071705</td>\n",
       "      <td>-0.005119</td>\n",
       "      <td>4.526522</td>\n",
       "      <td>-0.001131</td>\n",
       "      <td>1.000000e+00</td>\n",
       "      <td>-0.000484</td>\n",
       "    </tr>\n",
       "    <tr>\n",
       "      <th>6</th>\n",
       "      <td>base</td>\n",
       "      <td>utilitarian</td>\n",
       "      <td>118.066586</td>\n",
       "      <td>150.149345</td>\n",
       "      <td>-32.082759</td>\n",
       "      <td>4.526522</td>\n",
       "      <td>-7.087729</td>\n",
       "      <td>7.427635e-08</td>\n",
       "      <td>-3.035797</td>\n",
       "    </tr>\n",
       "    <tr>\n",
       "      <th>7</th>\n",
       "      <td>ground_floor_rest</td>\n",
       "      <td>top_floor_rest</td>\n",
       "      <td>117.993702</td>\n",
       "      <td>118.071705</td>\n",
       "      <td>-0.078002</td>\n",
       "      <td>4.526522</td>\n",
       "      <td>-0.017232</td>\n",
       "      <td>1.000000e+00</td>\n",
       "      <td>-0.007381</td>\n",
       "    </tr>\n",
       "    <tr>\n",
       "      <th>8</th>\n",
       "      <td>ground_floor_rest</td>\n",
       "      <td>utilitarian</td>\n",
       "      <td>117.993702</td>\n",
       "      <td>150.149345</td>\n",
       "      <td>-32.155643</td>\n",
       "      <td>4.526522</td>\n",
       "      <td>-7.103831</td>\n",
       "      <td>7.031666e-08</td>\n",
       "      <td>-3.042693</td>\n",
       "    </tr>\n",
       "    <tr>\n",
       "      <th>9</th>\n",
       "      <td>top_floor_rest</td>\n",
       "      <td>utilitarian</td>\n",
       "      <td>118.071705</td>\n",
       "      <td>150.149345</td>\n",
       "      <td>-32.077640</td>\n",
       "      <td>4.526522</td>\n",
       "      <td>-7.086598</td>\n",
       "      <td>7.456271e-08</td>\n",
       "      <td>-3.035312</td>\n",
       "    </tr>\n",
       "  </tbody>\n",
       "</table>\n",
       "</div>"
      ],
      "text/plain": [
       "                   A                  B     mean(A)     mean(B)       diff  \\\n",
       "0   alternative_rest               base  117.520470  118.066586  -0.546116   \n",
       "1   alternative_rest  ground_floor_rest  117.520470  117.993702  -0.473232   \n",
       "2   alternative_rest     top_floor_rest  117.520470  118.071705  -0.551235   \n",
       "3   alternative_rest        utilitarian  117.520470  150.149345 -32.628875   \n",
       "4               base  ground_floor_rest  118.066586  117.993702   0.072884   \n",
       "5               base     top_floor_rest  118.066586  118.071705  -0.005119   \n",
       "6               base        utilitarian  118.066586  150.149345 -32.082759   \n",
       "7  ground_floor_rest     top_floor_rest  117.993702  118.071705  -0.078002   \n",
       "8  ground_floor_rest        utilitarian  117.993702  150.149345 -32.155643   \n",
       "9     top_floor_rest        utilitarian  118.071705  150.149345 -32.077640   \n",
       "\n",
       "         se         T       p-tukey    hedges  \n",
       "0  4.526522 -0.120648  9.999502e-01 -0.051676  \n",
       "1  4.526522 -0.104547  9.999719e-01 -0.044779  \n",
       "2  4.526522 -0.121779  9.999483e-01 -0.052160  \n",
       "3  4.526522 -7.208377  4.928183e-08 -3.087472  \n",
       "4  4.526522  0.016101  1.000000e+00  0.006897  \n",
       "5  4.526522 -0.001131  1.000000e+00 -0.000484  \n",
       "6  4.526522 -7.087729  7.427635e-08 -3.035797  \n",
       "7  4.526522 -0.017232  1.000000e+00 -0.007381  \n",
       "8  4.526522 -7.103831  7.031666e-08 -3.042693  \n",
       "9  4.526522 -7.086598  7.456271e-08 -3.035312  "
      ]
     },
     "metadata": {},
     "output_type": "display_data"
    }
   ],
   "source": [
    "system_time = travel_time_total + waiting_time_total\n",
    "\n",
    "system_time = system_time.groupby(system_time.index %10).mean()\n",
    "for strategy_name in system_time.columns:\n",
    "    plt.hist(system_time[strategy_name], density=True)\n",
    "    plt.title(f\"Average system time ({strategy_name} strategy)\")\n",
    "    _mean, _std = sts.norm.fit(system_time[strategy_name])\n",
    "    plt.plot(\n",
    "        np.arange(\n",
    "            system_time[strategy_name].mean() - 3 * system_time[strategy_name].std(), \n",
    "            system_time[strategy_name].mean() + 3 * system_time[strategy_name].std(),\n",
    "            0.001),\n",
    "        sts.norm.pdf(np.arange(\n",
    "            system_time[strategy_name].mean() - 3 * system_time[strategy_name].std(), \n",
    "            system_time[strategy_name].mean() + 3 * system_time[strategy_name].std(),\n",
    "            0.001),\n",
    "            _mean,\n",
    "            _std\n",
    "        ))\n",
    "    plt.show()\n",
    "    print(f\"Jaque Bera (p-value, {strategy_name} strategy): {sts.jarque_bera(system_time[strategy_name]).pvalue}\")\n",
    "\n",
    "    average_waiting = system_time[strategy_name].mean()\n",
    "    display(f\"Average waiting time (s): {average_waiting}\")\n",
    "\n",
    "plt.boxplot(system_time, labels=system_time.columns)\n",
    "plt.title(\"Average System Time\")\n",
    "plt.xlabel(\"Strategy\")\n",
    "plt.ylabel(\"Average System Time\")\n",
    "plt.show()\n",
    "\n",
    "___test_df = system_time.stack().reset_index()\n",
    "\n",
    "print(\"Levene:\")\n",
    "hom_test = pg.homoscedasticity(___test_df, dv=0, group=\"level_1\")\n",
    "display(hom_test)\n",
    "\n",
    "if hom_test[\"equal_var\"].iloc[0]:\n",
    "    print(\"ANOVA:\")\n",
    "    display(pg.anova(___test_df, dv=0, between=\"level_1\", detailed=True))\n",
    "else:\n",
    "    print(\"Welch ANOVA:\")\n",
    "    display(pg.welch_anova(___test_df, dv=0, between=\"level_1\"))\n",
    "\n",
    "print(\"Pairwise t-test:\")\n",
    "display(pg.pairwise_tukey(___test_df, dv=0, between=\"level_1\"))"
   ]
  },
  {
   "cell_type": "code",
   "execution_count": null,
   "metadata": {},
   "outputs": [],
   "source": []
  }
 ],
 "metadata": {
  "interpreter": {
   "hash": "1c7434731747d88815ea98a4470429bf1ebbf9287f8433fda1e0ecccc300fe0c"
  },
  "kernelspec": {
   "display_name": "Python 3 (ipykernel)",
   "language": "python",
   "name": "python3"
  },
  "language_info": {
   "codemirror_mode": {
    "name": "ipython",
    "version": 3
   },
   "file_extension": ".py",
   "mimetype": "text/x-python",
   "name": "python",
   "nbconvert_exporter": "python",
   "pygments_lexer": "ipython3",
   "version": "3.8.10"
  }
 },
 "nbformat": 4,
 "nbformat_minor": 2
}
