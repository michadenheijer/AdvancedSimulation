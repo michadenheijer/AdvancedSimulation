{
 "cells": [
  {
   "cell_type": "markdown",
   "metadata": {},
   "source": [
    "# Data Analysis"
   ]
  },
  {
   "cell_type": "code",
   "execution_count": 1,
   "metadata": {},
   "outputs": [
    {
     "name": "stdout",
     "output_type": "stream",
     "text": [
      "Requirement already satisfied: pingouin in /Users/micha/opt/anaconda3/lib/python3.8/site-packages (0.5.1)\n",
      "Requirement already satisfied: pandas>=1.0 in /Users/micha/opt/anaconda3/lib/python3.8/site-packages (from pingouin) (1.3.4)\n",
      "Requirement already satisfied: statsmodels>=0.13 in /Users/micha/opt/anaconda3/lib/python3.8/site-packages (from pingouin) (0.13.0)\n",
      "Requirement already satisfied: tabulate in /Users/micha/opt/anaconda3/lib/python3.8/site-packages (from pingouin) (0.8.9)\n",
      "Requirement already satisfied: scipy>=1.7 in /Users/micha/opt/anaconda3/lib/python3.8/site-packages (from pingouin) (1.7.1)\n",
      "Requirement already satisfied: pandas-flavor>=0.2.0 in /Users/micha/opt/anaconda3/lib/python3.8/site-packages (from pingouin) (0.3.0)\n",
      "Requirement already satisfied: matplotlib>=3.0.2 in /Users/micha/opt/anaconda3/lib/python3.8/site-packages (from pingouin) (3.5.0)\n",
      "Requirement already satisfied: seaborn>=0.11 in /Users/micha/opt/anaconda3/lib/python3.8/site-packages (from pingouin) (0.11.2)\n",
      "Requirement already satisfied: numpy>=1.19 in /Users/micha/opt/anaconda3/lib/python3.8/site-packages (from pingouin) (1.21.2)\n",
      "Requirement already satisfied: outdated in /Users/micha/opt/anaconda3/lib/python3.8/site-packages (from pingouin) (0.2.1)\n",
      "Requirement already satisfied: scikit-learn in /Users/micha/opt/anaconda3/lib/python3.8/site-packages (from pingouin) (1.0.1)\n",
      "Requirement already satisfied: pillow>=6.2.0 in /Users/micha/opt/anaconda3/lib/python3.8/site-packages (from matplotlib>=3.0.2->pingouin) (8.4.0)\n",
      "Requirement already satisfied: packaging>=20.0 in /Users/micha/opt/anaconda3/lib/python3.8/site-packages (from matplotlib>=3.0.2->pingouin) (21.3)\n",
      "Requirement already satisfied: fonttools>=4.22.0 in /Users/micha/opt/anaconda3/lib/python3.8/site-packages (from matplotlib>=3.0.2->pingouin) (4.25.0)\n",
      "Requirement already satisfied: python-dateutil>=2.7 in /Users/micha/opt/anaconda3/lib/python3.8/site-packages (from matplotlib>=3.0.2->pingouin) (2.8.2)\n",
      "Requirement already satisfied: cycler>=0.10 in /Users/micha/opt/anaconda3/lib/python3.8/site-packages (from matplotlib>=3.0.2->pingouin) (0.11.0)\n",
      "Requirement already satisfied: kiwisolver>=1.0.1 in /Users/micha/opt/anaconda3/lib/python3.8/site-packages (from matplotlib>=3.0.2->pingouin) (1.3.1)\n",
      "Requirement already satisfied: pyparsing>=2.2.1 in /Users/micha/opt/anaconda3/lib/python3.8/site-packages (from matplotlib>=3.0.2->pingouin) (3.0.4)\n",
      "Requirement already satisfied: pytz>=2017.3 in /Users/micha/opt/anaconda3/lib/python3.8/site-packages (from pandas>=1.0->pingouin) (2021.3)\n",
      "Requirement already satisfied: xarray in /Users/micha/opt/anaconda3/lib/python3.8/site-packages (from pandas-flavor>=0.2.0->pingouin) (2022.3.0)\n",
      "Requirement already satisfied: lazy-loader==0.1rc2 in /Users/micha/opt/anaconda3/lib/python3.8/site-packages (from pandas-flavor>=0.2.0->pingouin) (0.1rc2)\n",
      "Requirement already satisfied: six>=1.5 in /Users/micha/opt/anaconda3/lib/python3.8/site-packages (from python-dateutil>=2.7->matplotlib>=3.0.2->pingouin) (1.16.0)\n",
      "Requirement already satisfied: patsy>=0.5.2 in /Users/micha/opt/anaconda3/lib/python3.8/site-packages (from statsmodels>=0.13->pingouin) (0.5.2)\n",
      "Requirement already satisfied: requests in /Users/micha/opt/anaconda3/lib/python3.8/site-packages (from outdated->pingouin) (2.26.0)\n",
      "Requirement already satisfied: littleutils in /Users/micha/opt/anaconda3/lib/python3.8/site-packages (from outdated->pingouin) (0.2.2)\n",
      "Requirement already satisfied: urllib3<1.27,>=1.21.1 in /Users/micha/opt/anaconda3/lib/python3.8/site-packages (from requests->outdated->pingouin) (1.26.7)\n",
      "Requirement already satisfied: idna<4,>=2.5 in /Users/micha/opt/anaconda3/lib/python3.8/site-packages (from requests->outdated->pingouin) (3.3)\n",
      "Requirement already satisfied: certifi>=2017.4.17 in /Users/micha/opt/anaconda3/lib/python3.8/site-packages (from requests->outdated->pingouin) (2021.10.8)\n",
      "Requirement already satisfied: charset-normalizer~=2.0.0 in /Users/micha/opt/anaconda3/lib/python3.8/site-packages (from requests->outdated->pingouin) (2.0.4)\n",
      "Requirement already satisfied: threadpoolctl>=2.0.0 in /Users/micha/opt/anaconda3/lib/python3.8/site-packages (from scikit-learn->pingouin) (2.2.0)\n",
      "Requirement already satisfied: joblib>=0.11 in /Users/micha/opt/anaconda3/lib/python3.8/site-packages (from scikit-learn->pingouin) (1.1.0)\n"
     ]
    }
   ],
   "source": [
    "!pip install pingouin"
   ]
  },
  {
   "cell_type": "markdown",
   "metadata": {},
   "source": [
    "## Imports\n",
    "Import all the libraries needed."
   ]
  },
  {
   "cell_type": "code",
   "execution_count": 2,
   "metadata": {},
   "outputs": [],
   "source": [
    "from __future__ import annotations\n",
    "\n",
    "from typing import Any, Optional\n",
    "\n",
    "import numpy as np\n",
    "import pandas as pd\n",
    "import matplotlib.pyplot as plt\n",
    "import statsmodels.stats.multicomp as cmp\n",
    "import statsmodels.formula.api as sma\n",
    "import statsmodels.api as sm\n",
    "import pingouin as pg\n",
    "import scipy.stats as sts\n",
    "\n",
    "import pickle\n",
    "import os\n",
    "\n",
    "from tqdm import tqdm\n",
    "\n",
    "SIMULATION_TIME = 3600\n",
    "STARTING_TIME = 18000.0\n",
    "\n",
    "P_VALUE = 0.05\n",
    "\n",
    "pd.set_option('display.max_rows', 20)"
   ]
  },
  {
   "cell_type": "markdown",
   "metadata": {},
   "source": [
    "## Get files\n",
    "Get at what time the last run was, then automatically open the last run."
   ]
  },
  {
   "cell_type": "code",
   "execution_count": 3,
   "metadata": {},
   "outputs": [
    {
     "data": {
      "text/plain": [
       "'1652090367'"
      ]
     },
     "execution_count": 3,
     "metadata": {},
     "output_type": "execute_result"
    }
   ],
   "source": [
    "## Get last run\n",
    "runs = tuple(os.walk(\"results\"))[0][1]\n",
    "runs.sort()\n",
    "last_run = runs[-2]\n",
    "last_run"
   ]
  },
  {
   "cell_type": "code",
   "execution_count": 4,
   "metadata": {},
   "outputs": [
    {
     "data": {
      "text/plain": [
       "['ground_floor_rest.pickle', 'base.pickle']"
      ]
     },
     "execution_count": 4,
     "metadata": {},
     "output_type": "execute_result"
    }
   ],
   "source": [
    "# Get last run files\n",
    "files = tuple(os.walk(f\"results/{last_run}\"))[0][2]\n",
    "files"
   ]
  },
  {
   "cell_type": "code",
   "execution_count": 7,
   "metadata": {},
   "outputs": [],
   "source": [
    "# Open files in DATA\n",
    "RAW_DATA: dict[str, Any] = {}\n",
    "\n",
    "for file_name in files:\n",
    "    with open(f\"results/{last_run}/{file_name}\", \"rb\") as f:\n",
    "        RAW_DATA[file_name.split(\".\")[0]] = pickle.load(f)"
   ]
  },
  {
   "cell_type": "markdown",
   "metadata": {},
   "source": [
    "## Convert to analyzable data\n",
    "All the data is in different numpy matrices, or pandas DataFrames, we combine it into a dataframe s.t. we can get our key indicators."
   ]
  },
  {
   "cell_type": "markdown",
   "metadata": {},
   "source": [
    "### Occupancy data"
   ]
  },
  {
   "cell_type": "code",
   "execution_count": 8,
   "metadata": {},
   "outputs": [],
   "source": [
    "DATA: dict[str, dict[str, Optional[pd.DataFrame]]] = {}\n",
    "\n",
    "# Ensure we do not waste time reloading parsed data\n",
    "if os.path.exists(f\"results/parsed/{last_run}.pickle\"):\n",
    "    DATA = pickle.load(open(f\"results/parsed/{last_run}.pickle\", \"rb\"))\n",
    "\n",
    "for r_data in RAW_DATA.items():\n",
    "    strategy_name, d = r_data\n",
    "\n",
    "    if DATA.get(strategy_name, False):\n",
    "        continue\n",
    "\n",
    "    waiting_df: Optional[pd.DataFrame] = None\n",
    "    elevator_df: Optional[pd.DataFrame] = None\n",
    "    waiting_df_list_to_add = []\n",
    "    elevator_df_list_to_add = []\n",
    "    for iteration, curr_state_history in enumerate(tqdm(d[\"state_history\"])):\n",
    "        curr_scheduled_events = d[\"scheduled_events\"][iteration]\n",
    "        waiting_index = pd.MultiIndex.from_product([[0, 1, 2, 3, 4, 5], [0, 1, 2, 3, 4, 5]]).set_names([\"arrival\", \"target\"])\n",
    "        columns = pd.MultiIndex.from_product([[iteration], curr_scheduled_events.index]).set_names([\"iteration\", \"time\"])\n",
    "        add_waiting_df = pd.DataFrame({}, index=waiting_index, columns=columns)\n",
    "        add_elevator_df = pd.DataFrame({}, index=pd.Index([0, 1, 2, 3, 4, 5], name=\"target\"), columns=columns)\n",
    "\n",
    "        # print(waiting_df)\n",
    "        for i, values in enumerate(curr_state_history):\n",
    "            t = curr_scheduled_events.index[i]\n",
    "            # display(waiting_df.loc[:, (iteration, t)])\n",
    "            add_waiting_df.loc[:, (iteration, t)] = pd.DataFrame(values[\"waiting\"]).stack()\n",
    "            add_elevator_df.loc[:, (iteration, t)] = values[\"elevator\"]\n",
    "        \n",
    "        if waiting_df is None:\n",
    "            waiting_df = add_waiting_df\n",
    "        else:\n",
    "            waiting_df_list_to_add.append(add_waiting_df)\n",
    "\n",
    "        if elevator_df is None:\n",
    "            elevator_df = add_elevator_df\n",
    "        else:\n",
    "            elevator_df_list_to_add.append(add_elevator_df)\n",
    "    \n",
    "    waiting_df = waiting_df.join(waiting_df_list_to_add) #type:ignore\n",
    "    elevator_df = elevator_df.join(elevator_df_list_to_add) # type:ignore\n",
    "    DATA[str(strategy_name)] = {\"waiting\": waiting_df, \"elevator\": elevator_df}\n",
    "\n",
    "    with open(f\"results/parsed/{last_run}.pickle\", \"wb+\") as f:\n",
    "        pickle.dump(DATA, f)"
   ]
  },
  {
   "cell_type": "markdown",
   "metadata": {},
   "source": [
    "### Event data"
   ]
  },
  {
   "cell_type": "code",
   "execution_count": 9,
   "metadata": {},
   "outputs": [
    {
     "data": {
      "text/html": [
       "<div>\n",
       "<style scoped>\n",
       "    .dataframe tbody tr th:only-of-type {\n",
       "        vertical-align: middle;\n",
       "    }\n",
       "\n",
       "    .dataframe tbody tr th {\n",
       "        vertical-align: top;\n",
       "    }\n",
       "\n",
       "    .dataframe thead tr th {\n",
       "        text-align: left;\n",
       "    }\n",
       "\n",
       "    .dataframe thead tr:last-of-type th {\n",
       "        text-align: right;\n",
       "    }\n",
       "</style>\n",
       "<table border=\"1\" class=\"dataframe\">\n",
       "  <thead>\n",
       "    <tr>\n",
       "      <th>strategy</th>\n",
       "      <th colspan=\"10\" halign=\"left\">ground_floor_rest</th>\n",
       "      <th>...</th>\n",
       "      <th colspan=\"10\" halign=\"left\">base</th>\n",
       "    </tr>\n",
       "    <tr>\n",
       "      <th>iteration</th>\n",
       "      <th>0</th>\n",
       "      <th>1</th>\n",
       "      <th>2</th>\n",
       "      <th>3</th>\n",
       "      <th>4</th>\n",
       "      <th>5</th>\n",
       "      <th>6</th>\n",
       "      <th>7</th>\n",
       "      <th>8</th>\n",
       "      <th>9</th>\n",
       "      <th>...</th>\n",
       "      <th>90</th>\n",
       "      <th>91</th>\n",
       "      <th>92</th>\n",
       "      <th>93</th>\n",
       "      <th>94</th>\n",
       "      <th>95</th>\n",
       "      <th>96</th>\n",
       "      <th>97</th>\n",
       "      <th>98</th>\n",
       "      <th>99</th>\n",
       "    </tr>\n",
       "    <tr>\n",
       "      <th>event_number</th>\n",
       "      <th></th>\n",
       "      <th></th>\n",
       "      <th></th>\n",
       "      <th></th>\n",
       "      <th></th>\n",
       "      <th></th>\n",
       "      <th></th>\n",
       "      <th></th>\n",
       "      <th></th>\n",
       "      <th></th>\n",
       "      <th></th>\n",
       "      <th></th>\n",
       "      <th></th>\n",
       "      <th></th>\n",
       "      <th></th>\n",
       "      <th></th>\n",
       "      <th></th>\n",
       "      <th></th>\n",
       "      <th></th>\n",
       "      <th></th>\n",
       "      <th></th>\n",
       "    </tr>\n",
       "  </thead>\n",
       "  <tbody>\n",
       "    <tr>\n",
       "      <th>0</th>\n",
       "      <td>ElevatorArrival4</td>\n",
       "      <td>ElevatorArrival4</td>\n",
       "      <td>ElevatorArrival4</td>\n",
       "      <td>ElevatorArrival4</td>\n",
       "      <td>ElevatorArrival4</td>\n",
       "      <td>ElevatorArrival4</td>\n",
       "      <td>ElevatorArrival4</td>\n",
       "      <td>ElevatorArrival4</td>\n",
       "      <td>ElevatorArrival4</td>\n",
       "      <td>ElevatorArrival4</td>\n",
       "      <td>...</td>\n",
       "      <td>Arrival4,0</td>\n",
       "      <td>Arrival5,0</td>\n",
       "      <td>Arrival3,0</td>\n",
       "      <td>Arrival3,0</td>\n",
       "      <td>Arrival3,0</td>\n",
       "      <td>Arrival1,0</td>\n",
       "      <td>Arrival2,5</td>\n",
       "      <td>Arrival3,0</td>\n",
       "      <td>Arrival1,0</td>\n",
       "      <td>Arrival1,0</td>\n",
       "    </tr>\n",
       "    <tr>\n",
       "      <th>1</th>\n",
       "      <td>ElevatorArrival3</td>\n",
       "      <td>ElevatorArrival3</td>\n",
       "      <td>ElevatorArrival3</td>\n",
       "      <td>ElevatorArrival3</td>\n",
       "      <td>ElevatorArrival3</td>\n",
       "      <td>ElevatorArrival3</td>\n",
       "      <td>ElevatorArrival3</td>\n",
       "      <td>ElevatorArrival3</td>\n",
       "      <td>ElevatorArrival3</td>\n",
       "      <td>ElevatorArrival3</td>\n",
       "      <td>...</td>\n",
       "      <td>ElevatorArrival4</td>\n",
       "      <td>DoorClose</td>\n",
       "      <td>ElevatorArrival4</td>\n",
       "      <td>ElevatorArrival4</td>\n",
       "      <td>ElevatorArrival4</td>\n",
       "      <td>ElevatorArrival4</td>\n",
       "      <td>ElevatorArrival4</td>\n",
       "      <td>ElevatorArrival4</td>\n",
       "      <td>ElevatorArrival4</td>\n",
       "      <td>ElevatorArrival4</td>\n",
       "    </tr>\n",
       "    <tr>\n",
       "      <th>2</th>\n",
       "      <td>ElevatorArrival2</td>\n",
       "      <td>ElevatorArrival2</td>\n",
       "      <td>ElevatorArrival2</td>\n",
       "      <td>ElevatorArrival2</td>\n",
       "      <td>ElevatorArrival2</td>\n",
       "      <td>ElevatorArrival2</td>\n",
       "      <td>ElevatorArrival2</td>\n",
       "      <td>ElevatorArrival2</td>\n",
       "      <td>ElevatorArrival2</td>\n",
       "      <td>ElevatorArrival2</td>\n",
       "      <td>...</td>\n",
       "      <td>DoorClose</td>\n",
       "      <td>ElevatorArrival4</td>\n",
       "      <td>ElevatorArrival3</td>\n",
       "      <td>ElevatorArrival3</td>\n",
       "      <td>ElevatorArrival3</td>\n",
       "      <td>ElevatorArrival3</td>\n",
       "      <td>ElevatorArrival3</td>\n",
       "      <td>ElevatorArrival3</td>\n",
       "      <td>ElevatorArrival3</td>\n",
       "      <td>ElevatorArrival3</td>\n",
       "    </tr>\n",
       "    <tr>\n",
       "      <th>3</th>\n",
       "      <td>ElevatorArrival1</td>\n",
       "      <td>ElevatorArrival1</td>\n",
       "      <td>ElevatorArrival1</td>\n",
       "      <td>Arrival3,0</td>\n",
       "      <td>ElevatorArrival1</td>\n",
       "      <td>ElevatorArrival1</td>\n",
       "      <td>ElevatorArrival1</td>\n",
       "      <td>ElevatorArrival1</td>\n",
       "      <td>ElevatorArrival1</td>\n",
       "      <td>ElevatorArrival1</td>\n",
       "      <td>...</td>\n",
       "      <td>ElevatorArrival3</td>\n",
       "      <td>ElevatorArrival3</td>\n",
       "      <td>DoorClose</td>\n",
       "      <td>DoorClose</td>\n",
       "      <td>DoorClose</td>\n",
       "      <td>ElevatorArrival2</td>\n",
       "      <td>ElevatorArrival2</td>\n",
       "      <td>DoorClose</td>\n",
       "      <td>ElevatorArrival2</td>\n",
       "      <td>ElevatorArrival2</td>\n",
       "    </tr>\n",
       "    <tr>\n",
       "      <th>4</th>\n",
       "      <td>ElevatorArrival0</td>\n",
       "      <td>ElevatorArrival0</td>\n",
       "      <td>ElevatorArrival0</td>\n",
       "      <td>ElevatorArrival3</td>\n",
       "      <td>ElevatorArrival0</td>\n",
       "      <td>ElevatorArrival0</td>\n",
       "      <td>ElevatorArrival0</td>\n",
       "      <td>ElevatorArrival0</td>\n",
       "      <td>ElevatorArrival0</td>\n",
       "      <td>ElevatorArrival0</td>\n",
       "      <td>...</td>\n",
       "      <td>ElevatorArrival2</td>\n",
       "      <td>ElevatorArrival2</td>\n",
       "      <td>ElevatorArrival2</td>\n",
       "      <td>ElevatorArrival2</td>\n",
       "      <td>ElevatorArrival2</td>\n",
       "      <td>ElevatorArrival1</td>\n",
       "      <td>DoorClose</td>\n",
       "      <td>ElevatorArrival2</td>\n",
       "      <td>ElevatorArrival1</td>\n",
       "      <td>ElevatorArrival1</td>\n",
       "    </tr>\n",
       "    <tr>\n",
       "      <th>...</th>\n",
       "      <td>...</td>\n",
       "      <td>...</td>\n",
       "      <td>...</td>\n",
       "      <td>...</td>\n",
       "      <td>...</td>\n",
       "      <td>...</td>\n",
       "      <td>...</td>\n",
       "      <td>...</td>\n",
       "      <td>...</td>\n",
       "      <td>...</td>\n",
       "      <td>...</td>\n",
       "      <td>...</td>\n",
       "      <td>...</td>\n",
       "      <td>...</td>\n",
       "      <td>...</td>\n",
       "      <td>...</td>\n",
       "      <td>...</td>\n",
       "      <td>...</td>\n",
       "      <td>...</td>\n",
       "      <td>...</td>\n",
       "      <td>...</td>\n",
       "    </tr>\n",
       "    <tr>\n",
       "      <th>179</th>\n",
       "      <td>NaN</td>\n",
       "      <td>NaN</td>\n",
       "      <td>NaN</td>\n",
       "      <td>NaN</td>\n",
       "      <td>NaN</td>\n",
       "      <td>NaN</td>\n",
       "      <td>NaN</td>\n",
       "      <td>NaN</td>\n",
       "      <td>NaN</td>\n",
       "      <td>NaN</td>\n",
       "      <td>...</td>\n",
       "      <td>NaN</td>\n",
       "      <td>NaN</td>\n",
       "      <td>NaN</td>\n",
       "      <td>NaN</td>\n",
       "      <td>NaN</td>\n",
       "      <td>NaN</td>\n",
       "      <td>NaN</td>\n",
       "      <td>NaN</td>\n",
       "      <td>NaN</td>\n",
       "      <td>NaN</td>\n",
       "    </tr>\n",
       "    <tr>\n",
       "      <th>180</th>\n",
       "      <td>NaN</td>\n",
       "      <td>NaN</td>\n",
       "      <td>NaN</td>\n",
       "      <td>NaN</td>\n",
       "      <td>NaN</td>\n",
       "      <td>NaN</td>\n",
       "      <td>NaN</td>\n",
       "      <td>NaN</td>\n",
       "      <td>NaN</td>\n",
       "      <td>NaN</td>\n",
       "      <td>...</td>\n",
       "      <td>NaN</td>\n",
       "      <td>NaN</td>\n",
       "      <td>NaN</td>\n",
       "      <td>NaN</td>\n",
       "      <td>NaN</td>\n",
       "      <td>NaN</td>\n",
       "      <td>NaN</td>\n",
       "      <td>NaN</td>\n",
       "      <td>NaN</td>\n",
       "      <td>NaN</td>\n",
       "    </tr>\n",
       "    <tr>\n",
       "      <th>181</th>\n",
       "      <td>NaN</td>\n",
       "      <td>NaN</td>\n",
       "      <td>NaN</td>\n",
       "      <td>NaN</td>\n",
       "      <td>NaN</td>\n",
       "      <td>NaN</td>\n",
       "      <td>NaN</td>\n",
       "      <td>NaN</td>\n",
       "      <td>NaN</td>\n",
       "      <td>NaN</td>\n",
       "      <td>...</td>\n",
       "      <td>NaN</td>\n",
       "      <td>NaN</td>\n",
       "      <td>NaN</td>\n",
       "      <td>NaN</td>\n",
       "      <td>NaN</td>\n",
       "      <td>NaN</td>\n",
       "      <td>NaN</td>\n",
       "      <td>NaN</td>\n",
       "      <td>NaN</td>\n",
       "      <td>NaN</td>\n",
       "    </tr>\n",
       "    <tr>\n",
       "      <th>182</th>\n",
       "      <td>NaN</td>\n",
       "      <td>NaN</td>\n",
       "      <td>NaN</td>\n",
       "      <td>NaN</td>\n",
       "      <td>NaN</td>\n",
       "      <td>NaN</td>\n",
       "      <td>NaN</td>\n",
       "      <td>NaN</td>\n",
       "      <td>NaN</td>\n",
       "      <td>NaN</td>\n",
       "      <td>...</td>\n",
       "      <td>NaN</td>\n",
       "      <td>NaN</td>\n",
       "      <td>NaN</td>\n",
       "      <td>NaN</td>\n",
       "      <td>NaN</td>\n",
       "      <td>NaN</td>\n",
       "      <td>NaN</td>\n",
       "      <td>NaN</td>\n",
       "      <td>NaN</td>\n",
       "      <td>NaN</td>\n",
       "    </tr>\n",
       "    <tr>\n",
       "      <th>183</th>\n",
       "      <td>NaN</td>\n",
       "      <td>NaN</td>\n",
       "      <td>NaN</td>\n",
       "      <td>NaN</td>\n",
       "      <td>NaN</td>\n",
       "      <td>NaN</td>\n",
       "      <td>NaN</td>\n",
       "      <td>NaN</td>\n",
       "      <td>NaN</td>\n",
       "      <td>NaN</td>\n",
       "      <td>...</td>\n",
       "      <td>NaN</td>\n",
       "      <td>NaN</td>\n",
       "      <td>NaN</td>\n",
       "      <td>NaN</td>\n",
       "      <td>NaN</td>\n",
       "      <td>NaN</td>\n",
       "      <td>NaN</td>\n",
       "      <td>NaN</td>\n",
       "      <td>NaN</td>\n",
       "      <td>NaN</td>\n",
       "    </tr>\n",
       "  </tbody>\n",
       "</table>\n",
       "<p>184 rows × 200 columns</p>\n",
       "</div>"
      ],
      "text/plain": [
       "strategy     ground_floor_rest                                      \\\n",
       "iteration                   0                 1                 2    \n",
       "event_number                                                         \n",
       "0             ElevatorArrival4  ElevatorArrival4  ElevatorArrival4   \n",
       "1             ElevatorArrival3  ElevatorArrival3  ElevatorArrival3   \n",
       "2             ElevatorArrival2  ElevatorArrival2  ElevatorArrival2   \n",
       "3             ElevatorArrival1  ElevatorArrival1  ElevatorArrival1   \n",
       "4             ElevatorArrival0  ElevatorArrival0  ElevatorArrival0   \n",
       "...                        ...               ...               ...   \n",
       "179                        NaN               NaN               NaN   \n",
       "180                        NaN               NaN               NaN   \n",
       "181                        NaN               NaN               NaN   \n",
       "182                        NaN               NaN               NaN   \n",
       "183                        NaN               NaN               NaN   \n",
       "\n",
       "strategy                                                            \\\n",
       "iteration                   3                 4                 5    \n",
       "event_number                                                         \n",
       "0             ElevatorArrival4  ElevatorArrival4  ElevatorArrival4   \n",
       "1             ElevatorArrival3  ElevatorArrival3  ElevatorArrival3   \n",
       "2             ElevatorArrival2  ElevatorArrival2  ElevatorArrival2   \n",
       "3                   Arrival3,0  ElevatorArrival1  ElevatorArrival1   \n",
       "4             ElevatorArrival3  ElevatorArrival0  ElevatorArrival0   \n",
       "...                        ...               ...               ...   \n",
       "179                        NaN               NaN               NaN   \n",
       "180                        NaN               NaN               NaN   \n",
       "181                        NaN               NaN               NaN   \n",
       "182                        NaN               NaN               NaN   \n",
       "183                        NaN               NaN               NaN   \n",
       "\n",
       "strategy                                                            \\\n",
       "iteration                   6                 7                 8    \n",
       "event_number                                                         \n",
       "0             ElevatorArrival4  ElevatorArrival4  ElevatorArrival4   \n",
       "1             ElevatorArrival3  ElevatorArrival3  ElevatorArrival3   \n",
       "2             ElevatorArrival2  ElevatorArrival2  ElevatorArrival2   \n",
       "3             ElevatorArrival1  ElevatorArrival1  ElevatorArrival1   \n",
       "4             ElevatorArrival0  ElevatorArrival0  ElevatorArrival0   \n",
       "...                        ...               ...               ...   \n",
       "179                        NaN               NaN               NaN   \n",
       "180                        NaN               NaN               NaN   \n",
       "181                        NaN               NaN               NaN   \n",
       "182                        NaN               NaN               NaN   \n",
       "183                        NaN               NaN               NaN   \n",
       "\n",
       "strategy                        ...              base                    \\\n",
       "iteration                   9   ...                90                91   \n",
       "event_number                    ...                                       \n",
       "0             ElevatorArrival4  ...        Arrival4,0        Arrival5,0   \n",
       "1             ElevatorArrival3  ...  ElevatorArrival4         DoorClose   \n",
       "2             ElevatorArrival2  ...         DoorClose  ElevatorArrival4   \n",
       "3             ElevatorArrival1  ...  ElevatorArrival3  ElevatorArrival3   \n",
       "4             ElevatorArrival0  ...  ElevatorArrival2  ElevatorArrival2   \n",
       "...                        ...  ...               ...               ...   \n",
       "179                        NaN  ...               NaN               NaN   \n",
       "180                        NaN  ...               NaN               NaN   \n",
       "181                        NaN  ...               NaN               NaN   \n",
       "182                        NaN  ...               NaN               NaN   \n",
       "183                        NaN  ...               NaN               NaN   \n",
       "\n",
       "strategy                                                            \\\n",
       "iteration                   92                93                94   \n",
       "event_number                                                         \n",
       "0                   Arrival3,0        Arrival3,0        Arrival3,0   \n",
       "1             ElevatorArrival4  ElevatorArrival4  ElevatorArrival4   \n",
       "2             ElevatorArrival3  ElevatorArrival3  ElevatorArrival3   \n",
       "3                    DoorClose         DoorClose         DoorClose   \n",
       "4             ElevatorArrival2  ElevatorArrival2  ElevatorArrival2   \n",
       "...                        ...               ...               ...   \n",
       "179                        NaN               NaN               NaN   \n",
       "180                        NaN               NaN               NaN   \n",
       "181                        NaN               NaN               NaN   \n",
       "182                        NaN               NaN               NaN   \n",
       "183                        NaN               NaN               NaN   \n",
       "\n",
       "strategy                                                            \\\n",
       "iteration                   95                96                97   \n",
       "event_number                                                         \n",
       "0                   Arrival1,0        Arrival2,5        Arrival3,0   \n",
       "1             ElevatorArrival4  ElevatorArrival4  ElevatorArrival4   \n",
       "2             ElevatorArrival3  ElevatorArrival3  ElevatorArrival3   \n",
       "3             ElevatorArrival2  ElevatorArrival2         DoorClose   \n",
       "4             ElevatorArrival1         DoorClose  ElevatorArrival2   \n",
       "...                        ...               ...               ...   \n",
       "179                        NaN               NaN               NaN   \n",
       "180                        NaN               NaN               NaN   \n",
       "181                        NaN               NaN               NaN   \n",
       "182                        NaN               NaN               NaN   \n",
       "183                        NaN               NaN               NaN   \n",
       "\n",
       "strategy                                          \n",
       "iteration                   98                99  \n",
       "event_number                                      \n",
       "0                   Arrival1,0        Arrival1,0  \n",
       "1             ElevatorArrival4  ElevatorArrival4  \n",
       "2             ElevatorArrival3  ElevatorArrival3  \n",
       "3             ElevatorArrival2  ElevatorArrival2  \n",
       "4             ElevatorArrival1  ElevatorArrival1  \n",
       "...                        ...               ...  \n",
       "179                        NaN               NaN  \n",
       "180                        NaN               NaN  \n",
       "181                        NaN               NaN  \n",
       "182                        NaN               NaN  \n",
       "183                        NaN               NaN  \n",
       "\n",
       "[184 rows x 200 columns]"
      ]
     },
     "execution_count": 9,
     "metadata": {},
     "output_type": "execute_result"
    }
   ],
   "source": [
    "event_data_columns = pd.MultiIndex.from_arrays([[], []]).set_names([\"strategy\", \"iteration\"])\n",
    "event_data_index = pd.Index([]).set_names(\"event_number\")\n",
    "EVENT_DATA: pd.DataFrame = pd.DataFrame({}, columns=event_data_columns, index=event_data_index)\n",
    "\n",
    "for strategy_name, d in RAW_DATA.items():\n",
    "    max_length = 0\n",
    "    max_event_happened = 0\n",
    "    for iteration, curr_scheduled_events in enumerate(d[\"scheduled_events\"]):\n",
    "        max_length = max(max_length, curr_scheduled_events.shape[0])\n",
    "        EVENT_DATA = EVENT_DATA.reindex(range(max_length))\n",
    "        EVENT_DATA.loc[:, (strategy_name, iteration)] = pd.DataFrame(list(curr_scheduled_events.idxmin(axis=1)))\n",
    "     \n",
    "EVENT_DATA"
   ]
  },
  {
   "cell_type": "markdown",
   "metadata": {},
   "source": [
    "# Key Indicators\n",
    "We have the following key indicators:\n",
    "- Average waiting clients (per floor, and in total)\n",
    "- Average people in the system\n",
    "- Average travel time (total, and in elevator)\n",
    "- Average elevator occupancy\n",
    "- Average elevator movements"
   ]
  },
  {
   "cell_type": "markdown",
   "metadata": {},
   "source": [
    "## Average elevator movements\n",
    "\n",
    "**We moeten er nog wel voor zorgen dat de data analyse, de statistische methoden gebruikt die we hebben geleerd.**"
   ]
  },
  {
   "cell_type": "code",
   "execution_count": 45,
   "metadata": {},
   "outputs": [
    {
     "data": {
      "image/png": "[encoded data removed]",
      "text/plain": [
       "<Figure size 432x288 with 1 Axes>"
      ]
     },
     "metadata": {
      "needs_background": "light"
     },
     "output_type": "display_data"
    },
    {
     "name": "stdout",
     "output_type": "stream",
     "text": [
      "Jaque Bera (p-value, ground_floor_rest strategy): 6.426452758834245e-08\n"
     ]
    },
    {
     "data": {
      "image/png": "[encoded data removed]",
      "text/plain": [
       "<Figure size 432x288 with 1 Axes>"
      ]
     },
     "metadata": {
      "needs_background": "light"
     },
     "output_type": "display_data"
    },
    {
     "name": "stdout",
     "output_type": "stream",
     "text": [
      "Levene:\n"
     ]
    },
    {
     "data": {
      "text/html": [
       "<div>\n",
       "<style scoped>\n",
       "    .dataframe tbody tr th:only-of-type {\n",
       "        vertical-align: middle;\n",
       "    }\n",
       "\n",
       "    .dataframe tbody tr th {\n",
       "        vertical-align: top;\n",
       "    }\n",
       "\n",
       "    .dataframe thead th {\n",
       "        text-align: right;\n",
       "    }\n",
       "</style>\n",
       "<table border=\"1\" class=\"dataframe\">\n",
       "  <thead>\n",
       "    <tr style=\"text-align: right;\">\n",
       "      <th></th>\n",
       "      <th>W</th>\n",
       "      <th>pval</th>\n",
       "      <th>equal_var</th>\n",
       "    </tr>\n",
       "  </thead>\n",
       "  <tbody>\n",
       "    <tr>\n",
       "      <th>levene</th>\n",
       "      <td>41.278832</td>\n",
       "      <td>9.618722e-10</td>\n",
       "      <td>False</td>\n",
       "    </tr>\n",
       "  </tbody>\n",
       "</table>\n",
       "</div>"
      ],
      "text/plain": [
       "                W          pval  equal_var\n",
       "levene  41.278832  9.618722e-10      False"
      ]
     },
     "metadata": {},
     "output_type": "display_data"
    },
    {
     "name": "stdout",
     "output_type": "stream",
     "text": [
      "Welch ANOVA:\n"
     ]
    },
    {
     "data": {
      "text/html": [
       "<div>\n",
       "<style scoped>\n",
       "    .dataframe tbody tr th:only-of-type {\n",
       "        vertical-align: middle;\n",
       "    }\n",
       "\n",
       "    .dataframe tbody tr th {\n",
       "        vertical-align: top;\n",
       "    }\n",
       "\n",
       "    .dataframe thead th {\n",
       "        text-align: right;\n",
       "    }\n",
       "</style>\n",
       "<table border=\"1\" class=\"dataframe\">\n",
       "  <thead>\n",
       "    <tr style=\"text-align: right;\">\n",
       "      <th></th>\n",
       "      <th>Source</th>\n",
       "      <th>ddof1</th>\n",
       "      <th>ddof2</th>\n",
       "      <th>F</th>\n",
       "      <th>p-unc</th>\n",
       "      <th>np2</th>\n",
       "    </tr>\n",
       "  </thead>\n",
       "  <tbody>\n",
       "    <tr>\n",
       "      <th>0</th>\n",
       "      <td>strategy</td>\n",
       "      <td>1</td>\n",
       "      <td>153.748895</td>\n",
       "      <td>0.002028</td>\n",
       "      <td>0.964143</td>\n",
       "      <td>0.00001</td>\n",
       "    </tr>\n",
       "  </tbody>\n",
       "</table>\n",
       "</div>"
      ],
      "text/plain": [
       "     Source  ddof1       ddof2         F     p-unc      np2\n",
       "0  strategy      1  153.748895  0.002028  0.964143  0.00001"
      ]
     },
     "metadata": {},
     "output_type": "display_data"
    },
    {
     "name": "stdout",
     "output_type": "stream",
     "text": [
      "Pairwise t-test:\n"
     ]
    },
    {
     "data": {
      "text/html": [
       "<div>\n",
       "<style scoped>\n",
       "    .dataframe tbody tr th:only-of-type {\n",
       "        vertical-align: middle;\n",
       "    }\n",
       "\n",
       "    .dataframe tbody tr th {\n",
       "        vertical-align: top;\n",
       "    }\n",
       "\n",
       "    .dataframe thead th {\n",
       "        text-align: right;\n",
       "    }\n",
       "</style>\n",
       "<table border=\"1\" class=\"dataframe\">\n",
       "  <thead>\n",
       "    <tr style=\"text-align: right;\">\n",
       "      <th></th>\n",
       "      <th>A</th>\n",
       "      <th>B</th>\n",
       "      <th>mean(A)</th>\n",
       "      <th>mean(B)</th>\n",
       "      <th>diff</th>\n",
       "      <th>se</th>\n",
       "      <th>T</th>\n",
       "      <th>p-tukey</th>\n",
       "      <th>hedges</th>\n",
       "    </tr>\n",
       "  </thead>\n",
       "  <tbody>\n",
       "    <tr>\n",
       "      <th>0</th>\n",
       "      <td>base</td>\n",
       "      <td>ground_floor_rest</td>\n",
       "      <td>63.74</td>\n",
       "      <td>63.85</td>\n",
       "      <td>-0.11</td>\n",
       "      <td>2.442924</td>\n",
       "      <td>-0.045028</td>\n",
       "      <td>0.96413</td>\n",
       "      <td>-0.006344</td>\n",
       "    </tr>\n",
       "  </tbody>\n",
       "</table>\n",
       "</div>"
      ],
      "text/plain": [
       "      A                  B  mean(A)  mean(B)  diff        se         T  \\\n",
       "0  base  ground_floor_rest    63.74    63.85 -0.11  2.442924 -0.045028   \n",
       "\n",
       "   p-tukey    hedges  \n",
       "0  0.96413 -0.006344  "
      ]
     },
     "metadata": {},
     "output_type": "display_data"
    },
    {
     "name": "stdout",
     "output_type": "stream",
     "text": [
      "Results\n"
     ]
    },
    {
     "data": {
      "text/html": [
       "<div>\n",
       "<style scoped>\n",
       "    .dataframe tbody tr th:only-of-type {\n",
       "        vertical-align: middle;\n",
       "    }\n",
       "\n",
       "    .dataframe tbody tr th {\n",
       "        vertical-align: top;\n",
       "    }\n",
       "\n",
       "    .dataframe thead th {\n",
       "        text-align: right;\n",
       "    }\n",
       "</style>\n",
       "<table border=\"1\" class=\"dataframe\">\n",
       "  <thead>\n",
       "    <tr style=\"text-align: right;\">\n",
       "      <th></th>\n",
       "      <th>lower</th>\n",
       "      <th>mean</th>\n",
       "      <th>upper</th>\n",
       "    </tr>\n",
       "    <tr>\n",
       "      <th>strategy</th>\n",
       "      <th></th>\n",
       "      <th></th>\n",
       "      <th></th>\n",
       "    </tr>\n",
       "  </thead>\n",
       "  <tbody>\n",
       "    <tr>\n",
       "      <th>ground_floor_rest</th>\n",
       "      <td>61.544932</td>\n",
       "      <td>63.85</td>\n",
       "      <td>66.155068</td>\n",
       "    </tr>\n",
       "    <tr>\n",
       "      <th>base</th>\n",
       "      <td>59.543232</td>\n",
       "      <td>63.74</td>\n",
       "      <td>67.936768</td>\n",
       "    </tr>\n",
       "  </tbody>\n",
       "</table>\n",
       "</div>"
      ],
      "text/plain": [
       "                       lower   mean      upper\n",
       "strategy                                      \n",
       "ground_floor_rest  61.544932  63.85  66.155068\n",
       "base               59.543232  63.74  67.936768"
      ]
     },
     "execution_count": 45,
     "metadata": {},
     "output_type": "execute_result"
    }
   ],
   "source": [
    "elevator_movements = EVENT_DATA.stack().stack().str.contains(\"Elevator\").unstack().unstack().sum().unstack()\n",
    "plt.hist(elevator_movements.iloc[0], density=True)\n",
    "plt.title(f\"Average Elevator Movements ({elevator_movements.index[0]} strategy)\")\n",
    "_mean, _std = sts.norm.fit(elevator_movements.iloc[0].astype(float))\n",
    "plt.plot(\n",
    "    np.arange(\n",
    "        elevator_movements.iloc[0].mean() - 3*elevator_movements.iloc[0].std(), \n",
    "        elevator_movements.iloc[0].mean() + 3*elevator_movements.iloc[0].std(), \n",
    "        0.001),\n",
    "    sts.norm.pdf(np.arange(\n",
    "        elevator_movements.iloc[0].mean() - 3*elevator_movements.iloc[0].std(), \n",
    "        elevator_movements.iloc[0].mean() + 3*elevator_movements.iloc[0].std(),  \n",
    "        0.001),\n",
    "        _mean,\n",
    "        _std\n",
    "    ))\n",
    "plt.show()\n",
    "print(f\"Jaque Bera (p-value, {elevator_movements.index[0]} strategy): {sts.jarque_bera(elevator_movements.iloc[0]).pvalue}\")\n",
    "mean = elevator_movements.mean(axis=1)\n",
    "std = elevator_movements.std(axis=1)/np.sqrt(len(elevator_movements.columns))\n",
    "conf = pd.DataFrame([(mean - std * 1.96).rename(\"lower\"), mean.rename(\"mean\"),(mean + std * 1.96).rename(\"upper\")]).transpose()\n",
    "\n",
    "plt.boxplot(elevator_movements.transpose(), labels=elevator_movements.index)\n",
    "plt.title(\"Elevator Movements\")\n",
    "plt.xlabel(\"Strategy\")\n",
    "plt.ylabel(\"Movements\")\n",
    "plt.show()\n",
    "\n",
    "test_data = elevator_movements.astype(float).stack().to_frame(\"value\").reset_index()\n",
    "print(\"Levene:\")\n",
    "hom_test = pg.homoscedasticity(test_data, dv=\"value\", group=\"strategy\")\n",
    "display(hom_test)\n",
    "\n",
    "if hom_test[\"equal_var\"].iloc[0]:\n",
    "    print(\"ANOVA:\")\n",
    "    display(pg.anova(test_data, dv=\"value\", between=\"strategy\", detailed=True))\n",
    "else:\n",
    "    print(\"Welch ANOVA:\")\n",
    "    display(pg.welch_anova(test_data, dv=\"value\", between=\"strategy\"))\n",
    "\n",
    "print(\"Pairwise t-test:\")\n",
    "display(pg.pairwise_tukey(test_data, dv=\"value\", between=\"strategy\"))\n",
    "\n",
    "\n",
    "print(\"Results\")\n",
    "conf"
   ]
  },
  {
   "cell_type": "markdown",
   "metadata": {},
   "source": [
    "## Average waiting clients\n",
    "\n",
    "Oke de strategie om dit te berekenen gaat als volgt:\n",
    "1. Verander de index in het verschil tot het getal ervoor\n",
    "2. Vermenigvuldig dit met de huidige status\n",
    "3. Sum dat bij elkaar\n",
    "4. Deel dat door de totale tijd\n",
    "\n",
    "Dit kan gedaan worden voor de lift en de wachtenden, dat kan je daarna ook nog bij elkaar optellen door het aantal mensen in het systeem te krijgen."
   ]
  },
  {
   "cell_type": "code",
   "execution_count": 49,
   "metadata": {},
   "outputs": [
    {
     "name": "stdout",
     "output_type": "stream",
     "text": [
      "Strategy: ground_floor_rest\n"
     ]
    },
    {
     "data": {
      "text/plain": [
       "floor\n",
       "0    0.005599\n",
       "1    0.010731\n",
       "2    0.017165\n",
       "3    0.022187\n",
       "4    0.026073\n",
       "5    0.034478\n",
       "dtype: float64"
      ]
     },
     "metadata": {},
     "output_type": "display_data"
    },
    {
     "data": {
      "image/png": "[encoded data removed]",
      "text/plain": [
       "<Figure size 432x288 with 1 Axes>"
      ]
     },
     "metadata": {
      "needs_background": "light"
     },
     "output_type": "display_data"
    },
    {
     "name": "stdout",
     "output_type": "stream",
     "text": [
      "Jaque Bera (p-value, ground_floor_rest strategy): 4.1407297035611634e-08\n"
     ]
    },
    {
     "data": {
      "text/plain": [
       "'Total average waiting: 0.11623223783834075'"
      ]
     },
     "metadata": {},
     "output_type": "display_data"
    },
    {
     "name": "stdout",
     "output_type": "stream",
     "text": [
      "Strategy: base\n"
     ]
    },
    {
     "data": {
      "text/plain": [
       "floor\n",
       "0    0.011498\n",
       "1    0.014778\n",
       "2    0.016428\n",
       "3    0.022730\n",
       "4    0.021146\n",
       "5    0.033759\n",
       "dtype: float64"
      ]
     },
     "metadata": {},
     "output_type": "display_data"
    },
    {
     "data": {
      "image/png": "[encoded data removed]",
      "text/plain": [
       "<Figure size 432x288 with 1 Axes>"
      ]
     },
     "metadata": {
      "needs_background": "light"
     },
     "output_type": "display_data"
    },
    {
     "name": "stdout",
     "output_type": "stream",
     "text": [
      "Jaque Bera (p-value, base strategy): 0.11241404716565129\n"
     ]
    },
    {
     "data": {
      "text/plain": [
       "'Total average waiting: 0.12033812055629745'"
      ]
     },
     "metadata": {},
     "output_type": "display_data"
    },
    {
     "name": "stdout",
     "output_type": "stream",
     "text": [
      "\n",
      "\n"
     ]
    },
    {
     "data": {
      "image/png": "[encoded data removed]",
      "text/plain": [
       "<Figure size 432x288 with 1 Axes>"
      ]
     },
     "metadata": {
      "needs_background": "light"
     },
     "output_type": "display_data"
    },
    {
     "name": "stdout",
     "output_type": "stream",
     "text": [
      "Levene:\n"
     ]
    },
    {
     "data": {
      "text/html": [
       "<div>\n",
       "<style scoped>\n",
       "    .dataframe tbody tr th:only-of-type {\n",
       "        vertical-align: middle;\n",
       "    }\n",
       "\n",
       "    .dataframe tbody tr th {\n",
       "        vertical-align: top;\n",
       "    }\n",
       "\n",
       "    .dataframe thead th {\n",
       "        text-align: right;\n",
       "    }\n",
       "</style>\n",
       "<table border=\"1\" class=\"dataframe\">\n",
       "  <thead>\n",
       "    <tr style=\"text-align: right;\">\n",
       "      <th></th>\n",
       "      <th>W</th>\n",
       "      <th>pval</th>\n",
       "      <th>equal_var</th>\n",
       "    </tr>\n",
       "  </thead>\n",
       "  <tbody>\n",
       "    <tr>\n",
       "      <th>levene</th>\n",
       "      <td>0.020401</td>\n",
       "      <td>0.886567</td>\n",
       "      <td>True</td>\n",
       "    </tr>\n",
       "  </tbody>\n",
       "</table>\n",
       "</div>"
      ],
      "text/plain": [
       "               W      pval  equal_var\n",
       "levene  0.020401  0.886567       True"
      ]
     },
     "metadata": {},
     "output_type": "display_data"
    },
    {
     "name": "stdout",
     "output_type": "stream",
     "text": [
      "ANOVA:\n"
     ]
    },
    {
     "data": {
      "text/html": [
       "<div>\n",
       "<style scoped>\n",
       "    .dataframe tbody tr th:only-of-type {\n",
       "        vertical-align: middle;\n",
       "    }\n",
       "\n",
       "    .dataframe tbody tr th {\n",
       "        vertical-align: top;\n",
       "    }\n",
       "\n",
       "    .dataframe thead th {\n",
       "        text-align: right;\n",
       "    }\n",
       "</style>\n",
       "<table border=\"1\" class=\"dataframe\">\n",
       "  <thead>\n",
       "    <tr style=\"text-align: right;\">\n",
       "      <th></th>\n",
       "      <th>Source</th>\n",
       "      <th>SS</th>\n",
       "      <th>DF</th>\n",
       "      <th>MS</th>\n",
       "      <th>F</th>\n",
       "      <th>p-unc</th>\n",
       "      <th>np2</th>\n",
       "    </tr>\n",
       "  </thead>\n",
       "  <tbody>\n",
       "    <tr>\n",
       "      <th>0</th>\n",
       "      <td>level_1</td>\n",
       "      <td>0.000023</td>\n",
       "      <td>1</td>\n",
       "      <td>0.000023</td>\n",
       "      <td>0.26997</td>\n",
       "      <td>0.603933</td>\n",
       "      <td>0.001362</td>\n",
       "    </tr>\n",
       "    <tr>\n",
       "      <th>1</th>\n",
       "      <td>Within</td>\n",
       "      <td>0.017172</td>\n",
       "      <td>198</td>\n",
       "      <td>0.000087</td>\n",
       "      <td>NaN</td>\n",
       "      <td>NaN</td>\n",
       "      <td>NaN</td>\n",
       "    </tr>\n",
       "  </tbody>\n",
       "</table>\n",
       "</div>"
      ],
      "text/plain": [
       "    Source        SS   DF        MS        F     p-unc       np2\n",
       "0  level_1  0.000023    1  0.000023  0.26997  0.603933  0.001362\n",
       "1   Within  0.017172  198  0.000087      NaN       NaN       NaN"
      ]
     },
     "metadata": {},
     "output_type": "display_data"
    },
    {
     "name": "stdout",
     "output_type": "stream",
     "text": [
      "Pairwise t-test:\n"
     ]
    },
    {
     "data": {
      "text/html": [
       "<div>\n",
       "<style scoped>\n",
       "    .dataframe tbody tr th:only-of-type {\n",
       "        vertical-align: middle;\n",
       "    }\n",
       "\n",
       "    .dataframe tbody tr th {\n",
       "        vertical-align: top;\n",
       "    }\n",
       "\n",
       "    .dataframe thead th {\n",
       "        text-align: right;\n",
       "    }\n",
       "</style>\n",
       "<table border=\"1\" class=\"dataframe\">\n",
       "  <thead>\n",
       "    <tr style=\"text-align: right;\">\n",
       "      <th></th>\n",
       "      <th>A</th>\n",
       "      <th>B</th>\n",
       "      <th>mean(A)</th>\n",
       "      <th>mean(B)</th>\n",
       "      <th>diff</th>\n",
       "      <th>se</th>\n",
       "      <th>T</th>\n",
       "      <th>p-tukey</th>\n",
       "      <th>hedges</th>\n",
       "    </tr>\n",
       "  </thead>\n",
       "  <tbody>\n",
       "    <tr>\n",
       "      <th>0</th>\n",
       "      <td>base</td>\n",
       "      <td>ground_floor_rest</td>\n",
       "      <td>0.020056</td>\n",
       "      <td>0.019372</td>\n",
       "      <td>0.000684</td>\n",
       "      <td>0.001317</td>\n",
       "      <td>0.519586</td>\n",
       "      <td>0.603933</td>\n",
       "      <td>0.073202</td>\n",
       "    </tr>\n",
       "  </tbody>\n",
       "</table>\n",
       "</div>"
      ],
      "text/plain": [
       "      A                  B   mean(A)   mean(B)      diff        se         T  \\\n",
       "0  base  ground_floor_rest  0.020056  0.019372  0.000684  0.001317  0.519586   \n",
       "\n",
       "    p-tukey    hedges  \n",
       "0  0.603933  0.073202  "
      ]
     },
     "metadata": {},
     "output_type": "display_data"
    }
   ],
   "source": [
    "waiting_total = pd.DataFrame()\n",
    "\n",
    "for strategy_name, d in DATA.items():\n",
    "    print(f\"Strategy: {strategy_name}\")\n",
    "    people_waiting_inline_per_floor = d[\"waiting\"].groupby([\"arrival\"]).sum()\n",
    "    people_waiting_inline_per_floor.index.set_names(\"floor\", inplace=True)\n",
    "    t = np.array(people_waiting_inline_per_floor.columns.get_level_values(1))\n",
    "    t_1 = np.append(people_waiting_inline_per_floor.columns.get_level_values(1)[1:], 0)\n",
    "    time_active = t_1 - t\n",
    "    time_active[time_active < 0] = (np.maximum(SIMULATION_TIME - t, 0))[time_active < 0]\n",
    "    time_active = np.minimum(time_active, SIMULATION_TIME)\n",
    "    waiting_times_time = people_waiting_inline_per_floor * time_active\n",
    "    average_people_in_line_per_floor_per_iteration = waiting_times_time.groupby([\"iteration\"], axis=1).sum()/SIMULATION_TIME\n",
    "    average_people_in_line_per_floor = average_people_in_line_per_floor_per_iteration.mean(axis=1) # Hier moet dan ook nog een statistische test ofzo\n",
    "    display(average_people_in_line_per_floor)\n",
    "\n",
    "    average_line_per_iteration = average_people_in_line_per_floor_per_iteration.mean()\n",
    "    \n",
    "    waiting_total.loc[:, strategy_name] = average_line_per_iteration\n",
    "    plt.hist(average_line_per_iteration, density=True)\n",
    "    plt.title(f\"Average Line length ({strategy_name} strategy)\")\n",
    "    _mean, _std = sts.norm.fit(average_line_per_iteration)\n",
    "    plt.plot(\n",
    "        np.arange(\n",
    "            average_line_per_iteration.mean() - 3*average_line_per_iteration.std(), \n",
    "            average_line_per_iteration.mean() + 3*average_line_per_iteration.std(), \n",
    "            0.001),\n",
    "        sts.norm.pdf(np.arange(\n",
    "            average_line_per_iteration.mean() - 3*average_line_per_iteration.std(), \n",
    "            average_line_per_iteration.mean() + 3*average_line_per_iteration.std(), \n",
    "            0.001),\n",
    "            _mean,\n",
    "            _std\n",
    "        ))\n",
    "    plt.show()\n",
    "    print(f\"Jaque Bera (p-value, {strategy_name} strategy): {sts.jarque_bera(average_line_per_iteration).pvalue}\")\n",
    "    display(f\"Total average waiting: {average_people_in_line_per_floor.sum()}\")\n",
    "\n",
    "print(\"\\n\")\n",
    "\n",
    "plt.boxplot(waiting_total, labels=waiting_total.columns)\n",
    "plt.title(\"Average Line Length\")\n",
    "plt.xlabel(\"Strategy\")\n",
    "plt.ylabel(\"Average Line Length\")\n",
    "plt.show()\n",
    "\n",
    "test_df = waiting_total.stack().reset_index()\n",
    "print(\"Levene:\")\n",
    "hom_test = pg.homoscedasticity(test_df, dv=0, group=\"level_1\")\n",
    "display(hom_test)\n",
    "\n",
    "if hom_test[\"equal_var\"].iloc[0]:\n",
    "    print(\"ANOVA:\")\n",
    "    display(pg.anova(test_df, dv=0, between=\"level_1\", detailed=True))\n",
    "else:\n",
    "    print(\"Welch ANOVA:\")\n",
    "    display(pg.welch_anova(test_df, dv=0, between=\"level_1\"))\n",
    "\n",
    "print(\"Pairwise t-test:\")\n",
    "display(pg.pairwise_tukey(test_df, dv=0, between=\"level_1\"))"
   ]
  },
  {
   "cell_type": "markdown",
   "metadata": {},
   "source": [
    "## Average elevator occupancy"
   ]
  },
  {
   "cell_type": "code",
   "execution_count": 38,
   "metadata": {},
   "outputs": [
    {
     "name": "stdout",
     "output_type": "stream",
     "text": [
      "Strategy: ground_floor_rest\n"
     ]
    },
    {
     "data": {
      "image/png": "[encoded data removed]",
      "text/plain": [
       "<Figure size 432x288 with 1 Axes>"
      ]
     },
     "metadata": {
      "needs_background": "light"
     },
     "output_type": "display_data"
    },
    {
     "name": "stdout",
     "output_type": "stream",
     "text": [
      "Jaque Bera (p-value, ground_floor_rest strategy): 0.04231070926014857\n"
     ]
    },
    {
     "data": {
      "text/plain": [
       "'Average elevator occupancy: 0.17808501780457842'"
      ]
     },
     "metadata": {},
     "output_type": "display_data"
    },
    {
     "name": "stdout",
     "output_type": "stream",
     "text": [
      "Strategy: base\n"
     ]
    },
    {
     "data": {
      "image/png": "[encoded data removed]",
      "text/plain": [
       "<Figure size 432x288 with 1 Axes>"
      ]
     },
     "metadata": {
      "needs_background": "light"
     },
     "output_type": "display_data"
    },
    {
     "name": "stdout",
     "output_type": "stream",
     "text": [
      "Jaque Bera (p-value, base strategy): 0.10166834389286628\n"
     ]
    },
    {
     "data": {
      "text/plain": [
       "'Average elevator occupancy: 0.18349467605987793'"
      ]
     },
     "metadata": {},
     "output_type": "display_data"
    },
    {
     "data": {
      "image/png": "[encoded data removed]",
      "text/plain": [
       "<Figure size 432x288 with 1 Axes>"
      ]
     },
     "metadata": {
      "needs_background": "light"
     },
     "output_type": "display_data"
    },
    {
     "name": "stdout",
     "output_type": "stream",
     "text": [
      "ANOVA:\n"
     ]
    },
    {
     "data": {
      "text/html": [
       "<div>\n",
       "<style scoped>\n",
       "    .dataframe tbody tr th:only-of-type {\n",
       "        vertical-align: middle;\n",
       "    }\n",
       "\n",
       "    .dataframe tbody tr th {\n",
       "        vertical-align: top;\n",
       "    }\n",
       "\n",
       "    .dataframe thead th {\n",
       "        text-align: right;\n",
       "    }\n",
       "</style>\n",
       "<table border=\"1\" class=\"dataframe\">\n",
       "  <thead>\n",
       "    <tr style=\"text-align: right;\">\n",
       "      <th></th>\n",
       "      <th>Source</th>\n",
       "      <th>SS</th>\n",
       "      <th>DF</th>\n",
       "      <th>MS</th>\n",
       "      <th>F</th>\n",
       "      <th>p-unc</th>\n",
       "      <th>np2</th>\n",
       "    </tr>\n",
       "  </thead>\n",
       "  <tbody>\n",
       "    <tr>\n",
       "      <th>0</th>\n",
       "      <td>level_1</td>\n",
       "      <td>0.001463</td>\n",
       "      <td>1</td>\n",
       "      <td>0.001463</td>\n",
       "      <td>0.264074</td>\n",
       "      <td>0.607908</td>\n",
       "      <td>0.001332</td>\n",
       "    </tr>\n",
       "    <tr>\n",
       "      <th>1</th>\n",
       "      <td>Within</td>\n",
       "      <td>1.097108</td>\n",
       "      <td>198</td>\n",
       "      <td>0.005541</td>\n",
       "      <td>NaN</td>\n",
       "      <td>NaN</td>\n",
       "      <td>NaN</td>\n",
       "    </tr>\n",
       "  </tbody>\n",
       "</table>\n",
       "</div>"
      ],
      "text/plain": [
       "    Source        SS   DF        MS         F     p-unc       np2\n",
       "0  level_1  0.001463    1  0.001463  0.264074  0.607908  0.001332\n",
       "1   Within  1.097108  198  0.005541       NaN       NaN       NaN"
      ]
     },
     "metadata": {},
     "output_type": "display_data"
    },
    {
     "name": "stdout",
     "output_type": "stream",
     "text": [
      "Pairwise t-test:\n"
     ]
    },
    {
     "data": {
      "text/html": [
       "<div>\n",
       "<style scoped>\n",
       "    .dataframe tbody tr th:only-of-type {\n",
       "        vertical-align: middle;\n",
       "    }\n",
       "\n",
       "    .dataframe tbody tr th {\n",
       "        vertical-align: top;\n",
       "    }\n",
       "\n",
       "    .dataframe thead th {\n",
       "        text-align: right;\n",
       "    }\n",
       "</style>\n",
       "<table border=\"1\" class=\"dataframe\">\n",
       "  <thead>\n",
       "    <tr style=\"text-align: right;\">\n",
       "      <th></th>\n",
       "      <th>A</th>\n",
       "      <th>B</th>\n",
       "      <th>mean(A)</th>\n",
       "      <th>mean(B)</th>\n",
       "      <th>diff</th>\n",
       "      <th>se</th>\n",
       "      <th>T</th>\n",
       "      <th>p-tukey</th>\n",
       "      <th>hedges</th>\n",
       "    </tr>\n",
       "  </thead>\n",
       "  <tbody>\n",
       "    <tr>\n",
       "      <th>0</th>\n",
       "      <td>base</td>\n",
       "      <td>ground_floor_rest</td>\n",
       "      <td>0.183495</td>\n",
       "      <td>0.178085</td>\n",
       "      <td>0.00541</td>\n",
       "      <td>0.010527</td>\n",
       "      <td>0.513881</td>\n",
       "      <td>0.607908</td>\n",
       "      <td>0.072398</td>\n",
       "    </tr>\n",
       "  </tbody>\n",
       "</table>\n",
       "</div>"
      ],
      "text/plain": [
       "      A                  B   mean(A)   mean(B)     diff        se         T  \\\n",
       "0  base  ground_floor_rest  0.183495  0.178085  0.00541  0.010527  0.513881   \n",
       "\n",
       "    p-tukey    hedges  \n",
       "0  0.607908  0.072398  "
      ]
     },
     "metadata": {},
     "output_type": "display_data"
    }
   ],
   "source": [
    "occupancy_total = pd.DataFrame()\n",
    "\n",
    "for strategy_name, d in DATA.items():\n",
    "    print(f\"Strategy: {strategy_name}\")\n",
    "    people_in_elevator = d[\"elevator\"].sum().to_frame().transpose()\n",
    "    t = np.array(people_in_elevator.columns.get_level_values(1))\n",
    "    t_1 = np.append(people_in_elevator.columns.get_level_values(1)[1:], 0)\n",
    "    time_active = t_1 - t\n",
    "    time_active[time_active < 0] = (np.maximum(SIMULATION_TIME - t, 0))[time_active < 0]\n",
    "    time_active = np.minimum(time_active, SIMULATION_TIME)\n",
    "    elevator_times_time = people_in_elevator * time_active\n",
    "    average_people_in_elevator_per_iteration = elevator_times_time.groupby([\"iteration\"], axis=1).sum()/SIMULATION_TIME\n",
    "    average_people_in_line_per_floor = float(average_people_in_elevator_per_iteration.mean(axis=1)) # Hier moet dan ook nog een statistische test ofzo\n",
    "\n",
    "    occupancy_total.loc[:, strategy_name] = average_people_in_elevator_per_iteration.transpose()[0]\n",
    "    plt.hist(average_people_in_elevator_per_iteration.iloc[0], density=True)\n",
    "    plt.title(f\"Average elevator occupancy ({strategy_name} strategy)\")\n",
    "    _mean, _std = sts.norm.fit(average_people_in_elevator_per_iteration.iloc[0])\n",
    "    plt.plot(\n",
    "        np.arange(\n",
    "            average_people_in_elevator_per_iteration.iloc[0].mean() - 3 * average_people_in_elevator_per_iteration.iloc[0].std(), \n",
    "            average_people_in_elevator_per_iteration.iloc[0].mean() + 3 * average_people_in_elevator_per_iteration.iloc[0].std(), \n",
    "            0.001),\n",
    "        sts.norm.pdf(np.arange(\n",
    "            average_people_in_elevator_per_iteration.iloc[0].mean() - 3 * average_people_in_elevator_per_iteration.iloc[0].std(), \n",
    "            average_people_in_elevator_per_iteration.iloc[0].mean() + 3 * average_people_in_elevator_per_iteration.iloc[0].std(),\n",
    "            0.001),\n",
    "            _mean,\n",
    "            _std\n",
    "        ))\n",
    "    plt.show()\n",
    "    print(f\"Jaque Bera (p-value, {strategy_name} strategy): {sts.jarque_bera(average_people_in_elevator_per_iteration.iloc[0]).pvalue}\")\n",
    "\n",
    "    display(f\"Average elevator occupancy: {average_people_in_line_per_floor}\")\n",
    "\n",
    "\n",
    "plt.boxplot(occupancy_total, labels=occupancy_total.columns)\n",
    "plt.title(\"Average Occupancy\")\n",
    "plt.xlabel(\"Strategy\")\n",
    "plt.ylabel(\"Average Occupancy\")\n",
    "plt.show()\n",
    "\n",
    "_test_df = occupancy_total.stack().reset_index()\n",
    "\n",
    "print(\"Levene:\")\n",
    "hom_test = pg.homoscedasticity(_test_df, dv=0, group=\"level_1\")\n",
    "display(hom_test)\n",
    "\n",
    "if hom_test[\"equal_var\"].iloc[0]:\n",
    "    print(\"ANOVA:\")\n",
    "    display(pg.anova(_test_df, dv=0, between=\"level_1\", detailed=True))\n",
    "else:\n",
    "    print(\"Welch ANOVA:\")\n",
    "    display(pg.welch_anova(_test_df, dv=0, between=\"level_1\"))\n",
    "\n",
    "print(\"Pairwise t-test:\")\n",
    "display(pg.pairwise_tukey(_test_df, dv=0, between=\"level_1\"))"
   ]
  },
  {
   "cell_type": "markdown",
   "metadata": {},
   "source": [
    "## Average waiting time (line)\n",
    "M'n idee om dit te berekenen gaat als volgt:\n",
    "1. Omdat de gemiddelde tijd dat je ergens moet wachten niet afhankelijk is van hoe laat je er komt, maar hoe lang hij is in de situatie.\n",
    "2. Dus als ik een manier kan bedenken om te meten hoe lang hij in elke situatie zit, dan kan je daar het gemiddelde van nemen (afhankelijk van hoe lang hij in elke situatie zit).\n",
    "3. Dit kan je doen voor de wachtenden en de lift, dan kan je daarna dat bij elkaar optellen om de gemiddelde wachttijd te berekenen."
   ]
  },
  {
   "cell_type": "code",
   "execution_count": 50,
   "metadata": {},
   "outputs": [
    {
     "name": "stdout",
     "output_type": "stream",
     "text": [
      "Started...\n",
      "This will take a while\n",
      "Strategy: ground_floor_rest\n"
     ]
    },
    {
     "name": "stderr",
     "output_type": "stream",
     "text": [
      "1171it [00:05, 195.51it/s]\n"
     ]
    },
    {
     "data": {
      "image/png": "[encoded data removed]",
      "text/plain": [
       "<Figure size 432x288 with 1 Axes>"
      ]
     },
     "metadata": {
      "needs_background": "light"
     },
     "output_type": "display_data"
    },
    {
     "name": "stdout",
     "output_type": "stream",
     "text": [
      "Jaque Bera (p-value, ground_floor_rest strategy): 0.8265473109266058\n"
     ]
    },
    {
     "data": {
      "text/plain": [
       "'Average waiting time (s): 24.904613853603102'"
      ]
     },
     "metadata": {},
     "output_type": "display_data"
    },
    {
     "name": "stdout",
     "output_type": "stream",
     "text": [
      "Strategy: base\n"
     ]
    },
    {
     "name": "stderr",
     "output_type": "stream",
     "text": [
      "1229it [00:05, 218.41it/s]\n"
     ]
    },
    {
     "data": {
      "image/png": "[encoded data removed]",
      "text/plain": [
       "<Figure size 432x288 with 1 Axes>"
      ]
     },
     "metadata": {
      "needs_background": "light"
     },
     "output_type": "display_data"
    },
    {
     "name": "stdout",
     "output_type": "stream",
     "text": [
      "Jaque Bera (p-value, base strategy): 0.7815853126699958\n"
     ]
    },
    {
     "data": {
      "text/plain": [
       "'Average waiting time (s): 25.383446261809304'"
      ]
     },
     "metadata": {},
     "output_type": "display_data"
    },
    {
     "data": {
      "image/png": "[encoded data removed]",
      "text/plain": [
       "<Figure size 432x288 with 1 Axes>"
      ]
     },
     "metadata": {
      "needs_background": "light"
     },
     "output_type": "display_data"
    },
    {
     "name": "stdout",
     "output_type": "stream",
     "text": [
      "Levene:\n"
     ]
    },
    {
     "data": {
      "text/html": [
       "<div>\n",
       "<style scoped>\n",
       "    .dataframe tbody tr th:only-of-type {\n",
       "        vertical-align: middle;\n",
       "    }\n",
       "\n",
       "    .dataframe tbody tr th {\n",
       "        vertical-align: top;\n",
       "    }\n",
       "\n",
       "    .dataframe thead th {\n",
       "        text-align: right;\n",
       "    }\n",
       "</style>\n",
       "<table border=\"1\" class=\"dataframe\">\n",
       "  <thead>\n",
       "    <tr style=\"text-align: right;\">\n",
       "      <th></th>\n",
       "      <th>W</th>\n",
       "      <th>pval</th>\n",
       "      <th>equal_var</th>\n",
       "    </tr>\n",
       "  </thead>\n",
       "  <tbody>\n",
       "    <tr>\n",
       "      <th>levene</th>\n",
       "      <td>0.192611</td>\n",
       "      <td>0.661235</td>\n",
       "      <td>True</td>\n",
       "    </tr>\n",
       "  </tbody>\n",
       "</table>\n",
       "</div>"
      ],
      "text/plain": [
       "               W      pval  equal_var\n",
       "levene  0.192611  0.661235       True"
      ]
     },
     "metadata": {},
     "output_type": "display_data"
    },
    {
     "name": "stdout",
     "output_type": "stream",
     "text": [
      "ANOVA:\n"
     ]
    },
    {
     "data": {
      "text/html": [
       "<div>\n",
       "<style scoped>\n",
       "    .dataframe tbody tr th:only-of-type {\n",
       "        vertical-align: middle;\n",
       "    }\n",
       "\n",
       "    .dataframe tbody tr th {\n",
       "        vertical-align: top;\n",
       "    }\n",
       "\n",
       "    .dataframe thead th {\n",
       "        text-align: right;\n",
       "    }\n",
       "</style>\n",
       "<table border=\"1\" class=\"dataframe\">\n",
       "  <thead>\n",
       "    <tr style=\"text-align: right;\">\n",
       "      <th></th>\n",
       "      <th>Source</th>\n",
       "      <th>SS</th>\n",
       "      <th>DF</th>\n",
       "      <th>MS</th>\n",
       "      <th>F</th>\n",
       "      <th>p-unc</th>\n",
       "      <th>np2</th>\n",
       "    </tr>\n",
       "  </thead>\n",
       "  <tbody>\n",
       "    <tr>\n",
       "      <th>0</th>\n",
       "      <td>level_1</td>\n",
       "      <td>9.061386</td>\n",
       "      <td>1</td>\n",
       "      <td>9.061386</td>\n",
       "      <td>0.296417</td>\n",
       "      <td>0.586756</td>\n",
       "      <td>0.00151</td>\n",
       "    </tr>\n",
       "    <tr>\n",
       "      <th>1</th>\n",
       "      <td>Within</td>\n",
       "      <td>5991.660994</td>\n",
       "      <td>196</td>\n",
       "      <td>30.569699</td>\n",
       "      <td>NaN</td>\n",
       "      <td>NaN</td>\n",
       "      <td>NaN</td>\n",
       "    </tr>\n",
       "  </tbody>\n",
       "</table>\n",
       "</div>"
      ],
      "text/plain": [
       "    Source           SS   DF         MS         F     p-unc      np2\n",
       "0  level_1     9.061386    1   9.061386  0.296417  0.586756  0.00151\n",
       "1   Within  5991.660994  196  30.569699       NaN       NaN      NaN"
      ]
     },
     "metadata": {},
     "output_type": "display_data"
    },
    {
     "name": "stdout",
     "output_type": "stream",
     "text": [
      "Pairwise t-test:\n"
     ]
    },
    {
     "data": {
      "text/html": [
       "<div>\n",
       "<style scoped>\n",
       "    .dataframe tbody tr th:only-of-type {\n",
       "        vertical-align: middle;\n",
       "    }\n",
       "\n",
       "    .dataframe tbody tr th {\n",
       "        vertical-align: top;\n",
       "    }\n",
       "\n",
       "    .dataframe thead th {\n",
       "        text-align: right;\n",
       "    }\n",
       "</style>\n",
       "<table border=\"1\" class=\"dataframe\">\n",
       "  <thead>\n",
       "    <tr style=\"text-align: right;\">\n",
       "      <th></th>\n",
       "      <th>A</th>\n",
       "      <th>B</th>\n",
       "      <th>mean(A)</th>\n",
       "      <th>mean(B)</th>\n",
       "      <th>diff</th>\n",
       "      <th>se</th>\n",
       "      <th>T</th>\n",
       "      <th>p-tukey</th>\n",
       "      <th>hedges</th>\n",
       "    </tr>\n",
       "  </thead>\n",
       "  <tbody>\n",
       "    <tr>\n",
       "      <th>0</th>\n",
       "      <td>base</td>\n",
       "      <td>ground_floor_rest</td>\n",
       "      <td>25.332467</td>\n",
       "      <td>24.904614</td>\n",
       "      <td>0.427853</td>\n",
       "      <td>0.785856</td>\n",
       "      <td>0.544442</td>\n",
       "      <td>0.586756</td>\n",
       "      <td>0.077087</td>\n",
       "    </tr>\n",
       "  </tbody>\n",
       "</table>\n",
       "</div>"
      ],
      "text/plain": [
       "      A                  B    mean(A)    mean(B)      diff        se  \\\n",
       "0  base  ground_floor_rest  25.332467  24.904614  0.427853  0.785856   \n",
       "\n",
       "          T   p-tukey    hedges  \n",
       "0  0.544442  0.586756  0.077087  "
      ]
     },
     "metadata": {},
     "output_type": "display_data"
    }
   ],
   "source": [
    "waiting_time_total = pd.DataFrame()\n",
    "\n",
    "print(\"Started...\")\n",
    "print(\"This will take a while\")\n",
    "for strategy_name, d in DATA.items():\n",
    "    # if os.path.exists(f\"results/parsed/waiting/{last_run}_{strategy_name}.pickle\"):\n",
    "    #     continue\n",
    "\n",
    "    print(f\"Strategy: {strategy_name}\")\n",
    "    total_people_waiting_at_time = d[\"waiting\"].sum()\n",
    "    waiting_in_line_change = total_people_waiting_at_time.diff()\n",
    "    waiting_in_line_change.loc[:, STARTING_TIME] = 0 # beginning has no change\n",
    "    only_waiting_in_line_change = waiting_in_line_change[waiting_in_line_change != 0].dropna()\n",
    "\n",
    "    determine_time = only_waiting_in_line_change.copy()\n",
    "    time_diff_list = []\n",
    "    time_diff_dict = {}\n",
    "    for (iter, time), v in tqdm(only_waiting_in_line_change[only_waiting_in_line_change > 0].iteritems()):\n",
    "        for _ in range(int(v)):\n",
    "            determine_time.sort_index(inplace=True)\n",
    "\n",
    "            try: # fails for last arrivals, which do not complete their journey thus we ignore them\n",
    "                _curr_index = determine_time[determine_time < 0].loc[iter].index\n",
    "\n",
    "                if len(_curr_index) > 0: # Only run if still left\n",
    "                    time_diff = _curr_index[0] - time\n",
    "                    time_diff_dict[iter] = time_diff_dict.get(iter, []) + [time_diff]\n",
    "                    time_diff_list.append(time_diff)\n",
    "                    determine_time.loc[iter, _curr_index[0]] += 1\n",
    "            \n",
    "            except Exception:\n",
    "                pass\n",
    "            \n",
    "            # determine_time[determine_time < 0].loc[iter].iloc[0] += 1\n",
    "    waiting_approx = pd.DataFrame(dict([ (k,pd.Series(v)) for k,v in time_diff_dict.items() ]))\n",
    "    waiting_approx.to_pickle(f\"results/parsed/waiting/{last_run}_{strategy_name}.pickle\")\n",
    "    waiting_per_iteration = waiting_approx.mean()\n",
    "\n",
    "    waiting_time_total.loc[:, strategy_name] = waiting_per_iteration\n",
    "    \n",
    "    plt.hist(waiting_per_iteration, density=True)\n",
    "    plt.title(f\"Average waiting time ({strategy_name} strategy)\")\n",
    "    _mean, _std = sts.norm.fit(waiting_per_iteration)\n",
    "    plt.plot(\n",
    "        np.arange(\n",
    "            waiting_per_iteration.mean() - 3 * waiting_per_iteration.std(), \n",
    "            waiting_per_iteration.mean() + 3 * waiting_per_iteration.std(),\n",
    "            0.001),\n",
    "        sts.norm.pdf(np.arange(\n",
    "            waiting_per_iteration.mean() - 3 * waiting_per_iteration.std(), \n",
    "            waiting_per_iteration.mean() + 3 * waiting_per_iteration.std(),\n",
    "            0.001),\n",
    "            _mean,\n",
    "            _std\n",
    "        ))\n",
    "    plt.show()\n",
    "    print(f\"Jaque Bera (p-value, {strategy_name} strategy): {sts.jarque_bera(waiting_per_iteration).pvalue}\")\n",
    "\n",
    "\n",
    "    average_waiting = waiting_per_iteration.mean()\n",
    "    display(f\"Average waiting time (s): {average_waiting}\")\n",
    "\n",
    "plt.boxplot(waiting_time_total, labels=waiting_time_total.columns)\n",
    "plt.title(\"Average Waiting Time\")\n",
    "plt.xlabel(\"Strategy\")\n",
    "plt.ylabel(\"Average Waiting Time\")\n",
    "plt.show()\n",
    "\n",
    "__test_df = waiting_time_total.stack().reset_index()\n",
    "\n",
    "print(\"Levene:\")\n",
    "hom_test = pg.homoscedasticity(__test_df, dv=0, group=\"level_1\")\n",
    "display(hom_test)\n",
    "\n",
    "if hom_test[\"equal_var\"].iloc[0]:\n",
    "    print(\"ANOVA:\")\n",
    "    display(pg.anova(__test_df, dv=0, between=\"level_1\", detailed=True))\n",
    "else:\n",
    "    print(\"Welch ANOVA\")\n",
    "    display(pg.welch_anova(__test_df, dv=0, between=\"level_1\"))\n",
    "\n",
    "print(\"Pairwise t-test:\")\n",
    "display(pg.pairwise_tukey(__test_df, dv=0, between=\"level_1\"))\n",
    "    "
   ]
  },
  {
   "cell_type": "code",
   "execution_count": 41,
   "metadata": {},
   "outputs": [
    {
     "name": "stdout",
     "output_type": "stream",
     "text": [
      "Started...\n",
      "This will take a while\n"
     ]
    },
    {
     "name": "stderr",
     "output_type": "stream",
     "text": [
      "  0%|          | 0/2 [00:00<?, ?it/s]"
     ]
    },
    {
     "name": "stdout",
     "output_type": "stream",
     "text": [
      "Strategy: ground_floor_rest\n"
     ]
    },
    {
     "data": {
      "image/png": "[encoded data removed]",
      "text/plain": [
       "<Figure size 432x288 with 1 Axes>"
      ]
     },
     "metadata": {
      "needs_background": "light"
     },
     "output_type": "display_data"
    },
    {
     "name": "stdout",
     "output_type": "stream",
     "text": [
      "Jaque Bera (p-value, ground_floor_rest strategy): 0.7550141975804004\n"
     ]
    },
    {
     "data": {
      "text/plain": [
       "'Average elevator travel time (s): 34.90221539505277'"
      ]
     },
     "metadata": {},
     "output_type": "display_data"
    },
    {
     "name": "stderr",
     "output_type": "stream",
     "text": [
      " 50%|█████     | 1/2 [00:04<00:04,  4.60s/it]"
     ]
    },
    {
     "name": "stdout",
     "output_type": "stream",
     "text": [
      "Strategy: base\n"
     ]
    },
    {
     "data": {
      "image/png": "[encoded data removed]",
      "text/plain": [
       "<Figure size 432x288 with 1 Axes>"
      ]
     },
     "metadata": {
      "needs_background": "light"
     },
     "output_type": "display_data"
    },
    {
     "name": "stdout",
     "output_type": "stream",
     "text": [
      "Jaque Bera (p-value, base strategy): 0.8623055794218932\n"
     ]
    },
    {
     "data": {
      "text/plain": [
       "'Average elevator travel time (s): 34.7458039053872'"
      ]
     },
     "metadata": {},
     "output_type": "display_data"
    },
    {
     "name": "stderr",
     "output_type": "stream",
     "text": [
      "100%|██████████| 2/2 [00:10<00:00,  5.32s/it]\n"
     ]
    },
    {
     "data": {
      "image/png": "[encoded data removed]",
      "text/plain": [
       "<Figure size 432x288 with 1 Axes>"
      ]
     },
     "metadata": {
      "needs_background": "light"
     },
     "output_type": "display_data"
    },
    {
     "name": "stdout",
     "output_type": "stream",
     "text": [
      "ANOVA:\n"
     ]
    },
    {
     "data": {
      "text/html": [
       "<div>\n",
       "<style scoped>\n",
       "    .dataframe tbody tr th:only-of-type {\n",
       "        vertical-align: middle;\n",
       "    }\n",
       "\n",
       "    .dataframe tbody tr th {\n",
       "        vertical-align: top;\n",
       "    }\n",
       "\n",
       "    .dataframe thead th {\n",
       "        text-align: right;\n",
       "    }\n",
       "</style>\n",
       "<table border=\"1\" class=\"dataframe\">\n",
       "  <thead>\n",
       "    <tr style=\"text-align: right;\">\n",
       "      <th></th>\n",
       "      <th>Source</th>\n",
       "      <th>SS</th>\n",
       "      <th>DF</th>\n",
       "      <th>MS</th>\n",
       "      <th>F</th>\n",
       "      <th>p-unc</th>\n",
       "      <th>np2</th>\n",
       "    </tr>\n",
       "  </thead>\n",
       "  <tbody>\n",
       "    <tr>\n",
       "      <th>0</th>\n",
       "      <td>level_1</td>\n",
       "      <td>1.223228</td>\n",
       "      <td>1</td>\n",
       "      <td>1.223228</td>\n",
       "      <td>0.039034</td>\n",
       "      <td>0.843585</td>\n",
       "      <td>0.000197</td>\n",
       "    </tr>\n",
       "    <tr>\n",
       "      <th>1</th>\n",
       "      <td>Within</td>\n",
       "      <td>6204.880658</td>\n",
       "      <td>198</td>\n",
       "      <td>31.337781</td>\n",
       "      <td>NaN</td>\n",
       "      <td>NaN</td>\n",
       "      <td>NaN</td>\n",
       "    </tr>\n",
       "  </tbody>\n",
       "</table>\n",
       "</div>"
      ],
      "text/plain": [
       "    Source           SS   DF         MS         F     p-unc       np2\n",
       "0  level_1     1.223228    1   1.223228  0.039034  0.843585  0.000197\n",
       "1   Within  6204.880658  198  31.337781       NaN       NaN       NaN"
      ]
     },
     "metadata": {},
     "output_type": "display_data"
    },
    {
     "name": "stdout",
     "output_type": "stream",
     "text": [
      "Pairwise t-test:\n"
     ]
    },
    {
     "data": {
      "text/html": [
       "<div>\n",
       "<style scoped>\n",
       "    .dataframe tbody tr th:only-of-type {\n",
       "        vertical-align: middle;\n",
       "    }\n",
       "\n",
       "    .dataframe tbody tr th {\n",
       "        vertical-align: top;\n",
       "    }\n",
       "\n",
       "    .dataframe thead th {\n",
       "        text-align: right;\n",
       "    }\n",
       "</style>\n",
       "<table border=\"1\" class=\"dataframe\">\n",
       "  <thead>\n",
       "    <tr style=\"text-align: right;\">\n",
       "      <th></th>\n",
       "      <th>A</th>\n",
       "      <th>B</th>\n",
       "      <th>mean(A)</th>\n",
       "      <th>mean(B)</th>\n",
       "      <th>diff</th>\n",
       "      <th>se</th>\n",
       "      <th>T</th>\n",
       "      <th>p-tukey</th>\n",
       "      <th>hedges</th>\n",
       "    </tr>\n",
       "  </thead>\n",
       "  <tbody>\n",
       "    <tr>\n",
       "      <th>0</th>\n",
       "      <td>base</td>\n",
       "      <td>ground_floor_rest</td>\n",
       "      <td>34.745804</td>\n",
       "      <td>34.902215</td>\n",
       "      <td>-0.156411</td>\n",
       "      <td>0.791679</td>\n",
       "      <td>-0.197569</td>\n",
       "      <td>0.843585</td>\n",
       "      <td>-0.027835</td>\n",
       "    </tr>\n",
       "  </tbody>\n",
       "</table>\n",
       "</div>"
      ],
      "text/plain": [
       "      A                  B    mean(A)    mean(B)      diff        se  \\\n",
       "0  base  ground_floor_rest  34.745804  34.902215 -0.156411  0.791679   \n",
       "\n",
       "          T   p-tukey    hedges  \n",
       "0 -0.197569  0.843585 -0.027835  "
      ]
     },
     "metadata": {},
     "output_type": "display_data"
    }
   ],
   "source": [
    "travel_time_total = pd.DataFrame()\n",
    "\n",
    "print(\"Started...\")\n",
    "print(\"This will take a while\")\n",
    "\n",
    "for strategy_name, d in tqdm(DATA.items()):\n",
    "    # if os.path.exists(f\"results/parsed/waiting/{last_run}_{strategy_name}_elevator.pickle\"):\n",
    "        # continue\n",
    "    \n",
    "    print(f\"Strategy: {strategy_name}\")\n",
    "    total_people_waiting_at_time = d[\"elevator\"].sum()\n",
    "    waiting_in_line_change = total_people_waiting_at_time.diff()\n",
    "    waiting_in_line_change.loc[:, STARTING_TIME] = 0 # beginning has no change\n",
    "    only_waiting_in_line_change = waiting_in_line_change[waiting_in_line_change != 0].dropna()\n",
    "\n",
    "    determine_time = only_waiting_in_line_change.copy()\n",
    "    time_diff_list = []\n",
    "    time_diff_dict = {}\n",
    "    for (iter, time), v in only_waiting_in_line_change[only_waiting_in_line_change > 0].iteritems():\n",
    "        for _ in range(int(v)):\n",
    "            determine_time.sort_index(inplace=True)\n",
    "\n",
    "            try: # fails for last arrivals, which do not complete their journey thus we ignore them\n",
    "                _curr_index = determine_time[determine_time < 0].loc[iter].index\n",
    "\n",
    "                if len(_curr_index) > 0: # Only run if still left\n",
    "                    time_diff = _curr_index[0] - time\n",
    "                    time_diff_dict[iter] = time_diff_dict.get(iter, []) + [time_diff]\n",
    "                    time_diff_list.append(time_diff)\n",
    "                    determine_time.loc[iter, _curr_index[0]] += 1\n",
    "            \n",
    "            except Exception:\n",
    "                pass\n",
    "            \n",
    "            # determine_time[determine_time < 0].loc[iter].iloc[0] += 1\n",
    "        \n",
    "    waiting_approx = pd.DataFrame(dict([ (k,pd.Series(v)) for k,v in time_diff_dict.items() ]))\n",
    "    waiting_approx.to_pickle(f\"results/parsed/waiting/{last_run}_{strategy_name}_elevator.pickle\")\n",
    "    waiting_per_iteration = waiting_approx.mean()\n",
    "\n",
    "    travel_time_total.loc[:, strategy_name] = waiting_per_iteration\n",
    "    plt.hist(waiting_per_iteration, density=True)\n",
    "    plt.title(f\"Average elevator travel time ({strategy_name} strategy)\")\n",
    "    _mean, _std = sts.norm.fit(waiting_per_iteration)\n",
    "    plt.plot(\n",
    "        np.arange(\n",
    "            waiting_per_iteration.mean() - 3 * waiting_per_iteration.std(), \n",
    "            waiting_per_iteration.mean() + 3 * waiting_per_iteration.std(),\n",
    "            0.001),\n",
    "        sts.norm.pdf(np.arange(\n",
    "            waiting_per_iteration.mean() - 3 * waiting_per_iteration.std(), \n",
    "            waiting_per_iteration.mean() + 3 * waiting_per_iteration.std(),\n",
    "            0.001),\n",
    "            _mean,\n",
    "            _std\n",
    "        ))\n",
    "    plt.show()\n",
    "    print(f\"Jaque Bera (p-value, {strategy_name} strategy): {sts.jarque_bera(waiting_per_iteration).pvalue}\")\n",
    "\n",
    "    average_waiting = waiting_per_iteration.mean()\n",
    "    display(f\"Average elevator travel time (s): {average_waiting}\")\n",
    "\n",
    "plt.boxplot(travel_time_total, labels=travel_time_total.columns)\n",
    "plt.title(\"Average Travel Time\")\n",
    "plt.xlabel(\"Strategy\")\n",
    "plt.ylabel(\"Average Travel Time\")\n",
    "plt.show()\n",
    "\n",
    "___test_df = travel_time_total.stack().reset_index()\n",
    "\n",
    "print(\"Levene:\")\n",
    "hom_test = pg.homoscedasticity(___test_df, dv=0, group=\"level_1\")\n",
    "display(hom_test)\n",
    "\n",
    "if hom_test[\"equal_var\"].iloc[0]:\n",
    "    print(\"ANOVA:\")\n",
    "    display(pg.anova(___test_df, dv=0, between=\"level_1\", detailed=True))\n",
    "else:\n",
    "    print(\"Welch ANOVA:\")\n",
    "    display(pg.welch_anova(___test_df, dv=0, between=\"level_1\"))\n",
    "\n",
    "print(\"Pairwise t-test:\")\n",
    "display(pg.pairwise_tukey(___test_df, dv=0, between=\"level_1\"))\n",
    "    "
   ]
  }
 ],
 "metadata": {
  "interpreter": {
   "hash": "1c7434731747d88815ea98a4470429bf1ebbf9287f8433fda1e0ecccc300fe0c"
  },
  "kernelspec": {
   "display_name": "Python 3.8.3 ('base')",
   "language": "python",
   "name": "python3"
  },
  "language_info": {
   "codemirror_mode": {
    "name": "ipython",
    "version": 3
   },
   "file_extension": ".py",
   "mimetype": "text/x-python",
   "name": "python",
   "nbconvert_exporter": "python",
   "pygments_lexer": "ipython3",
   "version": "3.8.3"
  },
  "orig_nbformat": 4
 },
 "nbformat": 4,
 "nbformat_minor": 2
}
