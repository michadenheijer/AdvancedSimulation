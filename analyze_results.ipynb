{
 "cells": [
  {
   "cell_type": "markdown",
   "metadata": {},
   "source": [
    "# Data Analysis"
   ]
  },
  {
   "cell_type": "markdown",
   "metadata": {},
   "source": [
    "## Imports\n",
    "Import all the libraries needed."
   ]
  },
  {
   "cell_type": "code",
   "execution_count": 42,
   "metadata": {},
   "outputs": [],
   "source": [
    "from __future__ import annotations\n",
    "\n",
    "from typing import Any, Optional\n",
    "\n",
    "import numpy as np\n",
    "import pandas as pd\n",
    "\n",
    "import pickle\n",
    "import os\n",
    "\n",
    "from tqdm import tqdm\n",
    "\n",
    "SIMULATION_TIME = 3600\n",
    "\n",
    "pd.set_option('display.max_rows', 20)"
   ]
  },
  {
   "cell_type": "markdown",
   "metadata": {},
   "source": [
    "## Get files\n",
    "Get at what time the last run was, then automatically open the last run."
   ]
  },
  {
   "cell_type": "code",
   "execution_count": 43,
   "metadata": {},
   "outputs": [
    {
     "data": {
      "text/plain": [
       "'1651754413'"
      ]
     },
     "execution_count": 43,
     "metadata": {},
     "output_type": "execute_result"
    }
   ],
   "source": [
    "## Get last run\n",
    "runs = tuple(os.walk(\"results\"))[0][1]\n",
    "runs.sort()\n",
    "last_run = runs[-1]\n",
    "last_run"
   ]
  },
  {
   "cell_type": "code",
   "execution_count": 44,
   "metadata": {},
   "outputs": [
    {
     "data": {
      "text/plain": [
       "['ground_floor_rest.pickle', 'top_floor_rest.pickle', 'base.pickle']"
      ]
     },
     "execution_count": 44,
     "metadata": {},
     "output_type": "execute_result"
    }
   ],
   "source": [
    "# Get last run files\n",
    "files = tuple(os.walk(f\"results/{last_run}\"))[0][2]\n",
    "files"
   ]
  },
  {
   "cell_type": "code",
   "execution_count": 45,
   "metadata": {},
   "outputs": [],
   "source": [
    "# Open files in DATA\n",
    "RAW_DATA: dict[str, Any] = {}\n",
    "\n",
    "for file_name in files:\n",
    "    with open(f\"results/{last_run}/{file_name}\", \"rb\") as f:\n",
    "        RAW_DATA[file_name.split(\".\")[0]] = pickle.load(f)"
   ]
  },
  {
   "cell_type": "markdown",
   "metadata": {},
   "source": [
    "## Convert to analyzable data\n",
    "All the data is in different numpy matrices, or pandas DataFrames, we combine it into a dataframe s.t. we can get our key indicators."
   ]
  },
  {
   "cell_type": "markdown",
   "metadata": {},
   "source": [
    "### Occupancy data"
   ]
  },
  {
   "cell_type": "code",
   "execution_count": 46,
   "metadata": {},
   "outputs": [
    {
     "name": "stderr",
     "output_type": "stream",
     "text": [
      "100it [01:22,  1.21it/s]\n",
      "100it [01:22,  1.22it/s]\n",
      "100it [01:19,  1.26it/s]\n"
     ]
    }
   ],
   "source": [
    "DATA: dict[str, dict[str, Optional[pd.DataFrame]]] = {}\n",
    "\n",
    "for r_data in RAW_DATA.items():\n",
    "    strategy_name, d = r_data\n",
    "\n",
    "    waiting_df: Optional[pd.DataFrame] = None\n",
    "    elevator_df: Optional[pd.DataFrame] = None\n",
    "    waiting_df_list_to_add = []\n",
    "    elevator_df_list_to_add = []\n",
    "    for iteration, curr_state_history in tqdm(enumerate(d[\"state_history\"])):\n",
    "        curr_scheduled_events = d[\"scheduled_events\"][iteration]\n",
    "        waiting_index = pd.MultiIndex.from_product([[0, 1, 2, 3, 4, 5], [0, 1, 2, 3, 4, 5]]).set_names([\"arrival\", \"target\"])\n",
    "        columns = pd.MultiIndex.from_product([[iteration], curr_scheduled_events.index]).set_names([\"iteration\", \"time\"])\n",
    "        add_waiting_df = pd.DataFrame({}, index=waiting_index, columns=columns)\n",
    "        add_elevator_df = pd.DataFrame({}, index=pd.Index([0, 1, 2, 3, 4, 5], name=\"target\"), columns=columns)\n",
    "\n",
    "        # print(waiting_df)\n",
    "        for i, values in enumerate(curr_state_history):\n",
    "            t = curr_scheduled_events.index[i]\n",
    "            # display(waiting_df.loc[:, (iteration, t)])\n",
    "            add_waiting_df.loc[:, (iteration, t)] = pd.DataFrame(values[\"waiting\"]).stack()\n",
    "            add_elevator_df.loc[:, (iteration, t)] = values[\"elevator\"]\n",
    "        \n",
    "        if waiting_df is None:\n",
    "            waiting_df = add_waiting_df\n",
    "        else:\n",
    "            waiting_df_list_to_add.append(add_waiting_df)\n",
    "\n",
    "        if elevator_df is None:\n",
    "            elevator_df = add_elevator_df\n",
    "        else:\n",
    "            elevator_df_list_to_add.append(add_elevator_df)\n",
    "    \n",
    "    waiting_df.join(waiting_df_list_to_add) #type:ignore\n",
    "    elevator_df.join(elevator_df_list_to_add) # type:ignore\n",
    "    DATA[str(strategy_name)] = {\"waiting\": waiting_df, \"elevator\": elevator_df}"
   ]
  },
  {
   "cell_type": "markdown",
   "metadata": {},
   "source": [
    "### Event data"
   ]
  },
  {
   "cell_type": "code",
   "execution_count": 47,
   "metadata": {},
   "outputs": [
    {
     "data": {
      "text/html": [
       "<div>\n",
       "<style scoped>\n",
       "    .dataframe tbody tr th:only-of-type {\n",
       "        vertical-align: middle;\n",
       "    }\n",
       "\n",
       "    .dataframe tbody tr th {\n",
       "        vertical-align: top;\n",
       "    }\n",
       "\n",
       "    .dataframe thead tr th {\n",
       "        text-align: left;\n",
       "    }\n",
       "\n",
       "    .dataframe thead tr:last-of-type th {\n",
       "        text-align: right;\n",
       "    }\n",
       "</style>\n",
       "<table border=\"1\" class=\"dataframe\">\n",
       "  <thead>\n",
       "    <tr>\n",
       "      <th>strategy</th>\n",
       "      <th colspan=\"10\" halign=\"left\">ground_floor_rest</th>\n",
       "      <th>...</th>\n",
       "      <th colspan=\"10\" halign=\"left\">base</th>\n",
       "    </tr>\n",
       "    <tr>\n",
       "      <th>iteration</th>\n",
       "      <th>0</th>\n",
       "      <th>1</th>\n",
       "      <th>2</th>\n",
       "      <th>3</th>\n",
       "      <th>4</th>\n",
       "      <th>5</th>\n",
       "      <th>6</th>\n",
       "      <th>7</th>\n",
       "      <th>8</th>\n",
       "      <th>9</th>\n",
       "      <th>...</th>\n",
       "      <th>90</th>\n",
       "      <th>91</th>\n",
       "      <th>92</th>\n",
       "      <th>93</th>\n",
       "      <th>94</th>\n",
       "      <th>95</th>\n",
       "      <th>96</th>\n",
       "      <th>97</th>\n",
       "      <th>98</th>\n",
       "      <th>99</th>\n",
       "    </tr>\n",
       "    <tr>\n",
       "      <th>event_number</th>\n",
       "      <th></th>\n",
       "      <th></th>\n",
       "      <th></th>\n",
       "      <th></th>\n",
       "      <th></th>\n",
       "      <th></th>\n",
       "      <th></th>\n",
       "      <th></th>\n",
       "      <th></th>\n",
       "      <th></th>\n",
       "      <th></th>\n",
       "      <th></th>\n",
       "      <th></th>\n",
       "      <th></th>\n",
       "      <th></th>\n",
       "      <th></th>\n",
       "      <th></th>\n",
       "      <th></th>\n",
       "      <th></th>\n",
       "      <th></th>\n",
       "      <th></th>\n",
       "    </tr>\n",
       "  </thead>\n",
       "  <tbody>\n",
       "    <tr>\n",
       "      <th>0</th>\n",
       "      <td>ElevatorArrival4</td>\n",
       "      <td>ElevatorArrival4</td>\n",
       "      <td>Arrival2,0</td>\n",
       "      <td>Arrival4,0</td>\n",
       "      <td>Arrival0,5</td>\n",
       "      <td>ElevatorArrival4</td>\n",
       "      <td>ElevatorArrival4</td>\n",
       "      <td>ElevatorArrival4</td>\n",
       "      <td>ElevatorArrival4</td>\n",
       "      <td>Arrival2,0</td>\n",
       "      <td>...</td>\n",
       "      <td>Arrival2,0</td>\n",
       "      <td>Arrival5,0</td>\n",
       "      <td>Arrival0,4</td>\n",
       "      <td>Arrival0,4</td>\n",
       "      <td>Arrival0,2</td>\n",
       "      <td>Arrival3,0</td>\n",
       "      <td>Arrival4,0</td>\n",
       "      <td>Arrival0,2</td>\n",
       "      <td>Arrival1,0</td>\n",
       "      <td>Arrival4,0</td>\n",
       "    </tr>\n",
       "    <tr>\n",
       "      <th>1</th>\n",
       "      <td>Arrival0,3</td>\n",
       "      <td>ElevatorArrival3</td>\n",
       "      <td>ElevatorArrival4</td>\n",
       "      <td>Arrival0,4</td>\n",
       "      <td>ElevatorArrival4</td>\n",
       "      <td>ElevatorArrival3</td>\n",
       "      <td>ElevatorArrival3</td>\n",
       "      <td>ElevatorArrival3</td>\n",
       "      <td>ElevatorArrival3</td>\n",
       "      <td>ElevatorArrival4</td>\n",
       "      <td>...</td>\n",
       "      <td>ElevatorArrival4</td>\n",
       "      <td>Arrival3,0</td>\n",
       "      <td>ElevatorArrival4</td>\n",
       "      <td>ElevatorArrival4</td>\n",
       "      <td>ElevatorArrival4</td>\n",
       "      <td>Arrival0,1</td>\n",
       "      <td>ElevatorArrival4</td>\n",
       "      <td>ElevatorArrival4</td>\n",
       "      <td>Arrival2,0</td>\n",
       "      <td>ElevatorArrival4</td>\n",
       "    </tr>\n",
       "    <tr>\n",
       "      <th>2</th>\n",
       "      <td>ElevatorArrival3</td>\n",
       "      <td>Arrival0,1</td>\n",
       "      <td>ElevatorArrival3</td>\n",
       "      <td>ElevatorArrival4</td>\n",
       "      <td>ElevatorArrival3</td>\n",
       "      <td>ElevatorArrival2</td>\n",
       "      <td>ElevatorArrival2</td>\n",
       "      <td>ElevatorArrival2</td>\n",
       "      <td>Arrival0,4</td>\n",
       "      <td>ElevatorArrival3</td>\n",
       "      <td>...</td>\n",
       "      <td>Arrival4,0</td>\n",
       "      <td>DoorClose</td>\n",
       "      <td>ElevatorArrival3</td>\n",
       "      <td>ElevatorArrival3</td>\n",
       "      <td>ElevatorArrival3</td>\n",
       "      <td>ElevatorArrival4</td>\n",
       "      <td>DoorClose</td>\n",
       "      <td>Arrival5,3</td>\n",
       "      <td>ElevatorArrival4</td>\n",
       "      <td>Arrival4,0</td>\n",
       "    </tr>\n",
       "    <tr>\n",
       "      <th>3</th>\n",
       "      <td>ElevatorArrival2</td>\n",
       "      <td>ElevatorArrival2</td>\n",
       "      <td>Arrival0,5</td>\n",
       "      <td>DoorClose</td>\n",
       "      <td>ElevatorArrival2</td>\n",
       "      <td>ElevatorArrival1</td>\n",
       "      <td>Arrival0,4</td>\n",
       "      <td>ElevatorArrival1</td>\n",
       "      <td>ElevatorArrival2</td>\n",
       "      <td>ElevatorArrival2</td>\n",
       "      <td>...</td>\n",
       "      <td>ElevatorArrival3</td>\n",
       "      <td>ElevatorArrival4</td>\n",
       "      <td>ElevatorArrival2</td>\n",
       "      <td>Arrival1,0</td>\n",
       "      <td>ElevatorArrival2</td>\n",
       "      <td>ElevatorArrival3</td>\n",
       "      <td>Arrival3,5</td>\n",
       "      <td>ElevatorArrival3</td>\n",
       "      <td>ElevatorArrival3</td>\n",
       "      <td>DoorClose</td>\n",
       "    </tr>\n",
       "    <tr>\n",
       "      <th>4</th>\n",
       "      <td>ElevatorArrival1</td>\n",
       "      <td>ElevatorArrival1</td>\n",
       "      <td>ElevatorArrival2</td>\n",
       "      <td>ElevatorArrival3</td>\n",
       "      <td>ElevatorArrival1</td>\n",
       "      <td>Arrival5,2</td>\n",
       "      <td>ElevatorArrival1</td>\n",
       "      <td>ElevatorArrival0</td>\n",
       "      <td>ElevatorArrival1</td>\n",
       "      <td>DoorClose</td>\n",
       "      <td>...</td>\n",
       "      <td>ElevatorArrival2</td>\n",
       "      <td>ElevatorArrival3</td>\n",
       "      <td>Arrival2,0</td>\n",
       "      <td>ElevatorArrival2</td>\n",
       "      <td>ElevatorArrival1</td>\n",
       "      <td>Arrival3,0</td>\n",
       "      <td>ElevatorArrival3</td>\n",
       "      <td>ElevatorArrival2</td>\n",
       "      <td>ElevatorArrival2</td>\n",
       "      <td>ElevatorArrival3</td>\n",
       "    </tr>\n",
       "    <tr>\n",
       "      <th>...</th>\n",
       "      <td>...</td>\n",
       "      <td>...</td>\n",
       "      <td>...</td>\n",
       "      <td>...</td>\n",
       "      <td>...</td>\n",
       "      <td>...</td>\n",
       "      <td>...</td>\n",
       "      <td>...</td>\n",
       "      <td>...</td>\n",
       "      <td>...</td>\n",
       "      <td>...</td>\n",
       "      <td>...</td>\n",
       "      <td>...</td>\n",
       "      <td>...</td>\n",
       "      <td>...</td>\n",
       "      <td>...</td>\n",
       "      <td>...</td>\n",
       "      <td>...</td>\n",
       "      <td>...</td>\n",
       "      <td>...</td>\n",
       "      <td>...</td>\n",
       "    </tr>\n",
       "    <tr>\n",
       "      <th>584</th>\n",
       "      <td>NaN</td>\n",
       "      <td>NaN</td>\n",
       "      <td>NaN</td>\n",
       "      <td>NaN</td>\n",
       "      <td>NaN</td>\n",
       "      <td>NaN</td>\n",
       "      <td>NaN</td>\n",
       "      <td>NaN</td>\n",
       "      <td>NaN</td>\n",
       "      <td>NaN</td>\n",
       "      <td>...</td>\n",
       "      <td>NaN</td>\n",
       "      <td>NaN</td>\n",
       "      <td>NaN</td>\n",
       "      <td>NaN</td>\n",
       "      <td>NaN</td>\n",
       "      <td>NaN</td>\n",
       "      <td>NaN</td>\n",
       "      <td>NaN</td>\n",
       "      <td>NaN</td>\n",
       "      <td>NaN</td>\n",
       "    </tr>\n",
       "    <tr>\n",
       "      <th>585</th>\n",
       "      <td>NaN</td>\n",
       "      <td>NaN</td>\n",
       "      <td>NaN</td>\n",
       "      <td>NaN</td>\n",
       "      <td>NaN</td>\n",
       "      <td>NaN</td>\n",
       "      <td>NaN</td>\n",
       "      <td>NaN</td>\n",
       "      <td>NaN</td>\n",
       "      <td>NaN</td>\n",
       "      <td>...</td>\n",
       "      <td>NaN</td>\n",
       "      <td>NaN</td>\n",
       "      <td>NaN</td>\n",
       "      <td>NaN</td>\n",
       "      <td>NaN</td>\n",
       "      <td>NaN</td>\n",
       "      <td>NaN</td>\n",
       "      <td>NaN</td>\n",
       "      <td>NaN</td>\n",
       "      <td>NaN</td>\n",
       "    </tr>\n",
       "    <tr>\n",
       "      <th>586</th>\n",
       "      <td>NaN</td>\n",
       "      <td>NaN</td>\n",
       "      <td>NaN</td>\n",
       "      <td>NaN</td>\n",
       "      <td>NaN</td>\n",
       "      <td>NaN</td>\n",
       "      <td>NaN</td>\n",
       "      <td>NaN</td>\n",
       "      <td>NaN</td>\n",
       "      <td>NaN</td>\n",
       "      <td>...</td>\n",
       "      <td>NaN</td>\n",
       "      <td>NaN</td>\n",
       "      <td>NaN</td>\n",
       "      <td>NaN</td>\n",
       "      <td>NaN</td>\n",
       "      <td>NaN</td>\n",
       "      <td>NaN</td>\n",
       "      <td>NaN</td>\n",
       "      <td>NaN</td>\n",
       "      <td>NaN</td>\n",
       "    </tr>\n",
       "    <tr>\n",
       "      <th>587</th>\n",
       "      <td>NaN</td>\n",
       "      <td>NaN</td>\n",
       "      <td>NaN</td>\n",
       "      <td>NaN</td>\n",
       "      <td>NaN</td>\n",
       "      <td>NaN</td>\n",
       "      <td>NaN</td>\n",
       "      <td>NaN</td>\n",
       "      <td>NaN</td>\n",
       "      <td>NaN</td>\n",
       "      <td>...</td>\n",
       "      <td>NaN</td>\n",
       "      <td>NaN</td>\n",
       "      <td>NaN</td>\n",
       "      <td>NaN</td>\n",
       "      <td>NaN</td>\n",
       "      <td>NaN</td>\n",
       "      <td>NaN</td>\n",
       "      <td>NaN</td>\n",
       "      <td>NaN</td>\n",
       "      <td>NaN</td>\n",
       "    </tr>\n",
       "    <tr>\n",
       "      <th>588</th>\n",
       "      <td>NaN</td>\n",
       "      <td>NaN</td>\n",
       "      <td>NaN</td>\n",
       "      <td>NaN</td>\n",
       "      <td>NaN</td>\n",
       "      <td>NaN</td>\n",
       "      <td>NaN</td>\n",
       "      <td>NaN</td>\n",
       "      <td>NaN</td>\n",
       "      <td>NaN</td>\n",
       "      <td>...</td>\n",
       "      <td>NaN</td>\n",
       "      <td>NaN</td>\n",
       "      <td>NaN</td>\n",
       "      <td>NaN</td>\n",
       "      <td>NaN</td>\n",
       "      <td>NaN</td>\n",
       "      <td>NaN</td>\n",
       "      <td>NaN</td>\n",
       "      <td>NaN</td>\n",
       "      <td>NaN</td>\n",
       "    </tr>\n",
       "  </tbody>\n",
       "</table>\n",
       "<p>589 rows × 300 columns</p>\n",
       "</div>"
      ],
      "text/plain": [
       "strategy     ground_floor_rest                                      \\\n",
       "iteration                   0                 1                 2    \n",
       "event_number                                                         \n",
       "0             ElevatorArrival4  ElevatorArrival4        Arrival2,0   \n",
       "1                   Arrival0,3  ElevatorArrival3  ElevatorArrival4   \n",
       "2             ElevatorArrival3        Arrival0,1  ElevatorArrival3   \n",
       "3             ElevatorArrival2  ElevatorArrival2        Arrival0,5   \n",
       "4             ElevatorArrival1  ElevatorArrival1  ElevatorArrival2   \n",
       "...                        ...               ...               ...   \n",
       "584                        NaN               NaN               NaN   \n",
       "585                        NaN               NaN               NaN   \n",
       "586                        NaN               NaN               NaN   \n",
       "587                        NaN               NaN               NaN   \n",
       "588                        NaN               NaN               NaN   \n",
       "\n",
       "strategy                                                            \\\n",
       "iteration                   3                 4                 5    \n",
       "event_number                                                         \n",
       "0                   Arrival4,0        Arrival0,5  ElevatorArrival4   \n",
       "1                   Arrival0,4  ElevatorArrival4  ElevatorArrival3   \n",
       "2             ElevatorArrival4  ElevatorArrival3  ElevatorArrival2   \n",
       "3                    DoorClose  ElevatorArrival2  ElevatorArrival1   \n",
       "4             ElevatorArrival3  ElevatorArrival1        Arrival5,2   \n",
       "...                        ...               ...               ...   \n",
       "584                        NaN               NaN               NaN   \n",
       "585                        NaN               NaN               NaN   \n",
       "586                        NaN               NaN               NaN   \n",
       "587                        NaN               NaN               NaN   \n",
       "588                        NaN               NaN               NaN   \n",
       "\n",
       "strategy                                                            \\\n",
       "iteration                   6                 7                 8    \n",
       "event_number                                                         \n",
       "0             ElevatorArrival4  ElevatorArrival4  ElevatorArrival4   \n",
       "1             ElevatorArrival3  ElevatorArrival3  ElevatorArrival3   \n",
       "2             ElevatorArrival2  ElevatorArrival2        Arrival0,4   \n",
       "3                   Arrival0,4  ElevatorArrival1  ElevatorArrival2   \n",
       "4             ElevatorArrival1  ElevatorArrival0  ElevatorArrival1   \n",
       "...                        ...               ...               ...   \n",
       "584                        NaN               NaN               NaN   \n",
       "585                        NaN               NaN               NaN   \n",
       "586                        NaN               NaN               NaN   \n",
       "587                        NaN               NaN               NaN   \n",
       "588                        NaN               NaN               NaN   \n",
       "\n",
       "strategy                        ...              base                    \\\n",
       "iteration                   9   ...                90                91   \n",
       "event_number                    ...                                       \n",
       "0                   Arrival2,0  ...        Arrival2,0        Arrival5,0   \n",
       "1             ElevatorArrival4  ...  ElevatorArrival4        Arrival3,0   \n",
       "2             ElevatorArrival3  ...        Arrival4,0         DoorClose   \n",
       "3             ElevatorArrival2  ...  ElevatorArrival3  ElevatorArrival4   \n",
       "4                    DoorClose  ...  ElevatorArrival2  ElevatorArrival3   \n",
       "...                        ...  ...               ...               ...   \n",
       "584                        NaN  ...               NaN               NaN   \n",
       "585                        NaN  ...               NaN               NaN   \n",
       "586                        NaN  ...               NaN               NaN   \n",
       "587                        NaN  ...               NaN               NaN   \n",
       "588                        NaN  ...               NaN               NaN   \n",
       "\n",
       "strategy                                                            \\\n",
       "iteration                   92                93                94   \n",
       "event_number                                                         \n",
       "0                   Arrival0,4        Arrival0,4        Arrival0,2   \n",
       "1             ElevatorArrival4  ElevatorArrival4  ElevatorArrival4   \n",
       "2             ElevatorArrival3  ElevatorArrival3  ElevatorArrival3   \n",
       "3             ElevatorArrival2        Arrival1,0  ElevatorArrival2   \n",
       "4                   Arrival2,0  ElevatorArrival2  ElevatorArrival1   \n",
       "...                        ...               ...               ...   \n",
       "584                        NaN               NaN               NaN   \n",
       "585                        NaN               NaN               NaN   \n",
       "586                        NaN               NaN               NaN   \n",
       "587                        NaN               NaN               NaN   \n",
       "588                        NaN               NaN               NaN   \n",
       "\n",
       "strategy                                                            \\\n",
       "iteration                   95                96                97   \n",
       "event_number                                                         \n",
       "0                   Arrival3,0        Arrival4,0        Arrival0,2   \n",
       "1                   Arrival0,1  ElevatorArrival4  ElevatorArrival4   \n",
       "2             ElevatorArrival4         DoorClose        Arrival5,3   \n",
       "3             ElevatorArrival3        Arrival3,5  ElevatorArrival3   \n",
       "4                   Arrival3,0  ElevatorArrival3  ElevatorArrival2   \n",
       "...                        ...               ...               ...   \n",
       "584                        NaN               NaN               NaN   \n",
       "585                        NaN               NaN               NaN   \n",
       "586                        NaN               NaN               NaN   \n",
       "587                        NaN               NaN               NaN   \n",
       "588                        NaN               NaN               NaN   \n",
       "\n",
       "strategy                                          \n",
       "iteration                   98                99  \n",
       "event_number                                      \n",
       "0                   Arrival1,0        Arrival4,0  \n",
       "1                   Arrival2,0  ElevatorArrival4  \n",
       "2             ElevatorArrival4        Arrival4,0  \n",
       "3             ElevatorArrival3         DoorClose  \n",
       "4             ElevatorArrival2  ElevatorArrival3  \n",
       "...                        ...               ...  \n",
       "584                        NaN               NaN  \n",
       "585                        NaN               NaN  \n",
       "586                        NaN               NaN  \n",
       "587                        NaN               NaN  \n",
       "588                        NaN               NaN  \n",
       "\n",
       "[589 rows x 300 columns]"
      ]
     },
     "execution_count": 47,
     "metadata": {},
     "output_type": "execute_result"
    }
   ],
   "source": [
    "event_data_columns = pd.MultiIndex.from_arrays([[], []]).set_names([\"strategy\", \"iteration\"])\n",
    "event_data_index = pd.Index([]).set_names(\"event_number\")\n",
    "EVENT_DATA: pd.DataFrame = pd.DataFrame({}, columns=event_data_columns, index=event_data_index)\n",
    "\n",
    "for strategy_name, d in RAW_DATA.items():\n",
    "    max_length = 0\n",
    "    max_event_happened = 0\n",
    "    for iteration, curr_scheduled_events in enumerate(d[\"scheduled_events\"]):\n",
    "        max_length = max(max_length, curr_scheduled_events.shape[0])\n",
    "        EVENT_DATA = EVENT_DATA.reindex(range(max_length))\n",
    "        EVENT_DATA.loc[:, (strategy_name, iteration)] = pd.DataFrame(list(curr_scheduled_events.idxmin(axis=1)))\n",
    "     \n",
    "EVENT_DATA"
   ]
  },
  {
   "cell_type": "markdown",
   "metadata": {},
   "source": [
    "# Key Indicators\n",
    "We have the following key indicators:\n",
    "- Average waiting clients (per floor, and in total)\n",
    "- Average people in the system\n",
    "- Average travel time (total, and in elevator)\n",
    "- Average elevator occupancy\n",
    "- Average elevator movements"
   ]
  },
  {
   "cell_type": "markdown",
   "metadata": {},
   "source": [
    "## Average elevator movements\n",
    "\n",
    "**We moeten er nog wel voor zorgen dat de data analyse, de statistische methoden gebruikt die we hebben geleerd.**"
   ]
  },
  {
   "cell_type": "code",
   "execution_count": 48,
   "metadata": {},
   "outputs": [
    {
     "data": {
      "text/html": [
       "<div>\n",
       "<style scoped>\n",
       "    .dataframe tbody tr th:only-of-type {\n",
       "        vertical-align: middle;\n",
       "    }\n",
       "\n",
       "    .dataframe tbody tr th {\n",
       "        vertical-align: top;\n",
       "    }\n",
       "\n",
       "    .dataframe thead th {\n",
       "        text-align: right;\n",
       "    }\n",
       "</style>\n",
       "<table border=\"1\" class=\"dataframe\">\n",
       "  <thead>\n",
       "    <tr style=\"text-align: right;\">\n",
       "      <th></th>\n",
       "      <th>lower</th>\n",
       "      <th>mean</th>\n",
       "      <th>upper</th>\n",
       "    </tr>\n",
       "    <tr>\n",
       "      <th>strategy</th>\n",
       "      <th></th>\n",
       "      <th></th>\n",
       "      <th></th>\n",
       "    </tr>\n",
       "  </thead>\n",
       "  <tbody>\n",
       "    <tr>\n",
       "      <th>ground_floor_rest</th>\n",
       "      <td>256.292933</td>\n",
       "      <td>258.16</td>\n",
       "      <td>260.027067</td>\n",
       "    </tr>\n",
       "    <tr>\n",
       "      <th>top_floor_rest</th>\n",
       "      <td>255.059452</td>\n",
       "      <td>256.94</td>\n",
       "      <td>258.820548</td>\n",
       "    </tr>\n",
       "    <tr>\n",
       "      <th>base</th>\n",
       "      <td>259.435569</td>\n",
       "      <td>261.04</td>\n",
       "      <td>262.644431</td>\n",
       "    </tr>\n",
       "  </tbody>\n",
       "</table>\n",
       "</div>"
      ],
      "text/plain": [
       "                        lower    mean       upper\n",
       "strategy                                         \n",
       "ground_floor_rest  256.292933  258.16  260.027067\n",
       "top_floor_rest     255.059452  256.94  258.820548\n",
       "base               259.435569  261.04  262.644431"
      ]
     },
     "execution_count": 48,
     "metadata": {},
     "output_type": "execute_result"
    }
   ],
   "source": [
    "elevator_movements = EVENT_DATA.stack().stack().str.contains(\"Elevator\").unstack().unstack().sum().unstack()\n",
    "mean = elevator_movements.mean(axis=1)\n",
    "std = elevator_movements.std(axis=1)/np.sqrt(len(elevator_movements.columns))\n",
    "conf = pd.DataFrame([(mean - std * 1.96).rename(\"lower\"), mean.rename(\"mean\"),(mean + std * 1.96).rename(\"upper\")]).transpose()\n",
    "conf"
   ]
  },
  {
   "cell_type": "markdown",
   "metadata": {},
   "source": [
    "## Average waiting clients\n",
    "\n",
    "Oke de strategie om dit te berekenen gaat als volgt:\n",
    "1. Verander de index in het verschil tot het getal ervoor\n",
    "2. Vermenigvuldig dit met de huidige status\n",
    "3. Sum dat bij elkaar\n",
    "4. Deel dat door de totale tijd\n",
    "\n",
    "Dit kan gedaan worden voor de lift en de wachtenden, dat kan je daarna ook nog bij elkaar optellen door het aantal mensen in het systeem te krijgen."
   ]
  },
  {
   "cell_type": "code",
   "execution_count": 49,
   "metadata": {},
   "outputs": [
    {
     "name": "stdout",
     "output_type": "stream",
     "text": [
      "Strategy: ground_floor_rest\n"
     ]
    },
    {
     "data": {
      "text/plain": [
       "floor\n",
       "0    1.295561\n",
       "1    0.300607\n",
       "2    0.256044\n",
       "3    0.264464\n",
       "4    0.167133\n",
       "5    0.295031\n",
       "dtype: float64"
      ]
     },
     "metadata": {},
     "output_type": "display_data"
    },
    {
     "data": {
      "text/plain": [
       "'Total average waiting: 2.5788413742776366'"
      ]
     },
     "metadata": {},
     "output_type": "display_data"
    },
    {
     "name": "stdout",
     "output_type": "stream",
     "text": [
      "Strategy: top_floor_rest\n"
     ]
    },
    {
     "data": {
      "text/plain": [
       "floor\n",
       "0    1.003260\n",
       "1    0.198107\n",
       "2    0.217622\n",
       "3    0.141782\n",
       "4    0.215612\n",
       "5    0.254293\n",
       "dtype: float64"
      ]
     },
     "metadata": {},
     "output_type": "display_data"
    },
    {
     "data": {
      "text/plain": [
       "'Total average waiting: 2.0306757236818687'"
      ]
     },
     "metadata": {},
     "output_type": "display_data"
    },
    {
     "name": "stdout",
     "output_type": "stream",
     "text": [
      "Strategy: base\n"
     ]
    },
    {
     "data": {
      "text/plain": [
       "floor\n",
       "0    0.869303\n",
       "1    0.233358\n",
       "2    0.137827\n",
       "3    0.221153\n",
       "4    0.209065\n",
       "5    0.445122\n",
       "dtype: float64"
      ]
     },
     "metadata": {},
     "output_type": "display_data"
    },
    {
     "data": {
      "text/plain": [
       "'Total average waiting: 2.115828451026509'"
      ]
     },
     "metadata": {},
     "output_type": "display_data"
    }
   ],
   "source": [
    "for strategy_name, d in DATA.items():\n",
    "    print(f\"Strategy: {strategy_name}\")\n",
    "    people_waiting_inline_per_floor = d[\"waiting\"].groupby([\"arrival\"]).sum()\n",
    "    people_waiting_inline_per_floor.index.set_names(\"floor\", inplace=True)\n",
    "    t = np.array(people_waiting_inline_per_floor.columns.get_level_values(1))\n",
    "    t_1 = np.append(people_waiting_inline_per_floor.columns.get_level_values(1)[1:], 0)\n",
    "    time_active = t_1 - t\n",
    "    time_active[time_active < 0] = (np.maximum(SIMULATION_TIME - t, 0))[time_active < 0]\n",
    "    time_active = np.minimum(time_active, SIMULATION_TIME)\n",
    "    waiting_times_time = people_waiting_inline_per_floor * time_active\n",
    "    average_people_in_line_per_floor_per_iteration = waiting_times_time.groupby([\"iteration\"], axis=1).sum()/SIMULATION_TIME\n",
    "    average_people_in_line_per_floor = average_people_in_line_per_floor_per_iteration.mean(axis=1) # Hier moet dan ook nog een statistische test ofzo\n",
    "    display(average_people_in_line_per_floor)\n",
    "    display(f\"Total average waiting: {average_people_in_line_per_floor.sum()}\")"
   ]
  },
  {
   "cell_type": "markdown",
   "metadata": {},
   "source": [
    "## Average elevator occupancy"
   ]
  },
  {
   "cell_type": "code",
   "execution_count": 50,
   "metadata": {},
   "outputs": [
    {
     "name": "stdout",
     "output_type": "stream",
     "text": [
      "Strategy: ground_floor_rest\n"
     ]
    },
    {
     "data": {
      "text/plain": [
       "'Average elevator occupancy: 2.989347227488517'"
      ]
     },
     "metadata": {},
     "output_type": "display_data"
    },
    {
     "name": "stdout",
     "output_type": "stream",
     "text": [
      "Strategy: top_floor_rest\n"
     ]
    },
    {
     "data": {
      "text/plain": [
       "'Average elevator occupancy: 2.808088465680353'"
      ]
     },
     "metadata": {},
     "output_type": "display_data"
    },
    {
     "name": "stdout",
     "output_type": "stream",
     "text": [
      "Strategy: base\n"
     ]
    },
    {
     "data": {
      "text/plain": [
       "'Average elevator occupancy: 2.33761773599632'"
      ]
     },
     "metadata": {},
     "output_type": "display_data"
    }
   ],
   "source": [
    "for strategy_name, d in DATA.items():\n",
    "    print(f\"Strategy: {strategy_name}\")\n",
    "    people_in_elevator = d[\"elevator\"].sum().to_frame().transpose()\n",
    "    t = np.array(people_in_elevator.columns.get_level_values(1))\n",
    "    t_1 = np.append(people_in_elevator.columns.get_level_values(1)[1:], 0)\n",
    "    time_active = t_1 - t\n",
    "    time_active[time_active < 0] = (np.maximum(SIMULATION_TIME - t, 0))[time_active < 0]\n",
    "    time_active = np.minimum(time_active, SIMULATION_TIME)\n",
    "    elevator_times_time = people_in_elevator * time_active\n",
    "    average_people_in_elevator_per_iteration = elevator_times_time.groupby([\"iteration\"], axis=1).sum()/SIMULATION_TIME\n",
    "    average_people_in_line_per_floor = float(average_people_in_elevator_per_iteration.mean(axis=1)) # Hier moet dan ook nog een statistische test ofzo\n",
    "    display(f\"Average elevator occupancy: {average_people_in_line_per_floor}\")"
   ]
  },
  {
   "cell_type": "markdown",
   "metadata": {},
   "source": [
    "## Average travel time\n",
    "M'n idee om dit te berekenen gaat als volgt:\n",
    "1. Omdat de gemiddelde tijd dat je ergens moet wachten niet afhankelijk is van hoe laat je er komt, maar hoe lang hij is in de situatie.\n",
    "2. Dus als ik een manier kan bedenken om te meten hoe lang hij in elke situatie zit, dan kan je daar het gemiddelde van nemen (afhankelijk van hoe lang hij in elke situatie zit).\n",
    "3. Dit kan je doen voor de wachtenden en de lift, dan kan je daarna dat bij elkaar optellen om de gemiddelde wachttijd te berekenen."
   ]
  },
  {
   "cell_type": "code",
   "execution_count": 51,
   "metadata": {},
   "outputs": [
    {
     "name": "stdout",
     "output_type": "stream",
     "text": [
      "Strategy: ground_floor_rest\n"
     ]
    },
    {
     "data": {
      "text/plain": [
       "'Average waiting time (s): 48.18800383433719'"
      ]
     },
     "metadata": {},
     "output_type": "display_data"
    },
    {
     "name": "stdout",
     "output_type": "stream",
     "text": [
      "Strategy: top_floor_rest\n"
     ]
    },
    {
     "data": {
      "text/plain": [
       "'Average waiting time (s): 41.52141269174124'"
      ]
     },
     "metadata": {},
     "output_type": "display_data"
    },
    {
     "name": "stdout",
     "output_type": "stream",
     "text": [
      "Strategy: base\n"
     ]
    },
    {
     "data": {
      "text/plain": [
       "'Average waiting time (s): 44.284781533113005'"
      ]
     },
     "metadata": {},
     "output_type": "display_data"
    }
   ],
   "source": [
    "for strategy_name, d in DATA.items():\n",
    "    print(f\"Strategy: {strategy_name}\")\n",
    "    total_people_waiting_at_time = d[\"waiting\"].sum()\n",
    "    waiting_in_line_change = total_people_waiting_at_time.diff()\n",
    "    only_waiting_in_line_change = waiting_in_line_change[waiting_in_line_change != 0].dropna()\n",
    "\n",
    "\n",
    "    determine_time = only_waiting_in_line_change.copy()\n",
    "    time_diff_list = []\n",
    "    time_diff_dict = {}\n",
    "    for (iter, time), v in only_waiting_in_line_change[only_waiting_in_line_change > 0].iteritems():\n",
    "        for _ in range(int(v)):\n",
    "            determine_time.sort_index(inplace=True)\n",
    "\n",
    "            try: # fails for last arrivals, which do not complete their journey thus we ignore them\n",
    "                _curr_index = determine_time[determine_time < 0].loc[iter].index\n",
    "\n",
    "                if len(_curr_index) > 0: # Only run if still left\n",
    "                    time_diff = _curr_index[0] - time\n",
    "                    time_diff_dict[iter] = time_diff_dict.get(iter, []) + [time_diff]\n",
    "                    time_diff_list.append(time_diff)\n",
    "                    determine_time.loc[iter, _curr_index[0]] += 1\n",
    "            \n",
    "            except Exception:\n",
    "                pass\n",
    "            \n",
    "            # determine_time[determine_time < 0].loc[iter].iloc[0] += 1\n",
    "        \n",
    "    waiting_approx = pd.DataFrame(time_diff_dict)\n",
    "    waiting_per_iteration = waiting_approx.mean()\n",
    "    average_waiting = waiting_per_iteration.mean()\n",
    "    display(f\"Average waiting time (s): {average_waiting}\")\n",
    "    "
   ]
  }
 ],
 "metadata": {
  "interpreter": {
   "hash": "1c7434731747d88815ea98a4470429bf1ebbf9287f8433fda1e0ecccc300fe0c"
  },
  "kernelspec": {
   "display_name": "Python 3.8.3 ('base')",
   "language": "python",
   "name": "python3"
  },
  "language_info": {
   "codemirror_mode": {
    "name": "ipython",
    "version": 3
   },
   "file_extension": ".py",
   "mimetype": "text/x-python",
   "name": "python",
   "nbconvert_exporter": "python",
   "pygments_lexer": "ipython3",
   "version": "3.8.3"
  },
  "orig_nbformat": 4
 },
 "nbformat": 4,
 "nbformat_minor": 2
}
